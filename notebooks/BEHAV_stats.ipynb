{
 "cells": [
  {
   "cell_type": "code",
   "execution_count": 2,
   "metadata": {},
   "outputs": [
    {
     "name": "stderr",
     "output_type": "stream",
     "text": [
      "Updating HTML index of packages in '.Library'\n",
      "Making 'packages.html' ... done\n"
     ]
    }
   ],
   "source": [
    "install.packages(\"lme4\")"
   ]
  },
  {
   "cell_type": "code",
   "execution_count": 1,
   "metadata": {},
   "outputs": [
    {
     "name": "stderr",
     "output_type": "stream",
     "text": [
      "Loading required package: Matrix\n"
     ]
    }
   ],
   "source": [
    "library(\"lme4\")"
   ]
  },
  {
   "cell_type": "code",
   "execution_count": 2,
   "metadata": {},
   "outputs": [],
   "source": [
    "data <- read.csv(\"../data/regs_and_rts.csv\")"
   ]
  },
  {
   "cell_type": "code",
   "execution_count": 3,
   "metadata": {},
   "outputs": [
    {
     "data": {
      "text/html": [
       "<table>\n",
       "<thead><tr><th></th><th scope=col>Df</th><th scope=col>AIC</th><th scope=col>BIC</th><th scope=col>logLik</th><th scope=col>deviance</th><th scope=col>Chisq</th><th scope=col>Chi Df</th><th scope=col>Pr(&gt;Chisq)</th></tr></thead>\n",
       "<tbody>\n",
       "\t<tr><th scope=row>m0</th><td>3           </td><td>-4019.448   </td><td>-3997.166   </td><td>2012.724    </td><td>-4025.448   </td><td>       NA   </td><td>NA          </td><td>          NA</td></tr>\n",
       "\t<tr><th scope=row>m1a</th><td>4           </td><td>-4250.294   </td><td>-4220.585   </td><td>2129.147    </td><td>-4258.294   </td><td>232.84652   </td><td> 1          </td><td>1.427515e-52</td></tr>\n",
       "\t<tr><th scope=row>m2a</th><td>5           </td><td>-4308.204   </td><td>-4271.067   </td><td>2159.102    </td><td>-4318.204   </td><td> 59.90942   </td><td> 1          </td><td>9.932505e-15</td></tr>\n",
       "</tbody>\n",
       "</table>\n"
      ],
      "text/latex": [
       "\\begin{tabular}{r|llllllll}\n",
       "  & Df & AIC & BIC & logLik & deviance & Chisq & Chi Df & Pr(>Chisq)\\\\\n",
       "\\hline\n",
       "\tm0 & 3            & -4019.448    & -3997.166    & 2012.724     & -4025.448    &        NA    & NA           &           NA\\\\\n",
       "\tm1a & 4            & -4250.294    & -4220.585    & 2129.147     & -4258.294    & 232.84652    &  1           & 1.427515e-52\\\\\n",
       "\tm2a & 5            & -4308.204    & -4271.067    & 2159.102     & -4318.204    &  59.90942    &  1           & 9.932505e-15\\\\\n",
       "\\end{tabular}\n"
      ],
      "text/markdown": [
       "\n",
       "| <!--/--> | Df | AIC | BIC | logLik | deviance | Chisq | Chi Df | Pr(>Chisq) | \n",
       "|---|---|---|\n",
       "| m0 | 3            | -4019.448    | -3997.166    | 2012.724     | -4025.448    |        NA    | NA           |           NA | \n",
       "| m1a | 4            | -4250.294    | -4220.585    | 2129.147     | -4258.294    | 232.84652    |  1           | 1.427515e-52 | \n",
       "| m2a | 5            | -4308.204    | -4271.067    | 2159.102     | -4318.204    |  59.90942    |  1           | 9.932505e-15 | \n",
       "\n",
       "\n"
      ],
      "text/plain": [
       "    Df AIC       BIC       logLik   deviance  Chisq     Chi Df Pr(>Chisq)  \n",
       "m0  3  -4019.448 -3997.166 2012.724 -4025.448        NA NA               NA\n",
       "m1a 4  -4250.294 -4220.585 2129.147 -4258.294 232.84652  1     1.427515e-52\n",
       "m2a 5  -4308.204 -4271.067 2159.102 -4318.204  59.90942  1     9.932505e-15"
      ]
     },
     "metadata": {},
     "output_type": "display_data"
    },
    {
     "data": {
      "text/html": [
       "<table>\n",
       "<thead><tr><th></th><th scope=col>Df</th><th scope=col>AIC</th><th scope=col>BIC</th><th scope=col>logLik</th><th scope=col>deviance</th><th scope=col>Chisq</th><th scope=col>Chi Df</th><th scope=col>Pr(&gt;Chisq)</th></tr></thead>\n",
       "<tbody>\n",
       "\t<tr><th scope=row>m0</th><td>3           </td><td>-4019.448   </td><td>-3997.166   </td><td>2012.724    </td><td>-4025.448   </td><td>       NA   </td><td>NA          </td><td>          NA</td></tr>\n",
       "\t<tr><th scope=row>m1b</th><td>4           </td><td>-4121.661   </td><td>-4091.951   </td><td>2064.830    </td><td>-4129.661   </td><td>104.21272   </td><td> 1          </td><td>1.817201e-24</td></tr>\n",
       "\t<tr><th scope=row>m2b</th><td>5           </td><td>-4195.429   </td><td>-4158.292   </td><td>2102.714    </td><td>-4205.429   </td><td> 75.76785   </td><td> 1          </td><td>3.190542e-18</td></tr>\n",
       "</tbody>\n",
       "</table>\n"
      ],
      "text/latex": [
       "\\begin{tabular}{r|llllllll}\n",
       "  & Df & AIC & BIC & logLik & deviance & Chisq & Chi Df & Pr(>Chisq)\\\\\n",
       "\\hline\n",
       "\tm0 & 3            & -4019.448    & -3997.166    & 2012.724     & -4025.448    &        NA    & NA           &           NA\\\\\n",
       "\tm1b & 4            & -4121.661    & -4091.951    & 2064.830     & -4129.661    & 104.21272    &  1           & 1.817201e-24\\\\\n",
       "\tm2b & 5            & -4195.429    & -4158.292    & 2102.714     & -4205.429    &  75.76785    &  1           & 3.190542e-18\\\\\n",
       "\\end{tabular}\n"
      ],
      "text/markdown": [
       "\n",
       "| <!--/--> | Df | AIC | BIC | logLik | deviance | Chisq | Chi Df | Pr(>Chisq) | \n",
       "|---|---|---|\n",
       "| m0 | 3            | -4019.448    | -3997.166    | 2012.724     | -4025.448    |        NA    | NA           |           NA | \n",
       "| m1b | 4            | -4121.661    | -4091.951    | 2064.830     | -4129.661    | 104.21272    |  1           | 1.817201e-24 | \n",
       "| m2b | 5            | -4195.429    | -4158.292    | 2102.714     | -4205.429    |  75.76785    |  1           | 3.190542e-18 | \n",
       "\n",
       "\n"
      ],
      "text/plain": [
       "    Df AIC       BIC       logLik   deviance  Chisq     Chi Df Pr(>Chisq)  \n",
       "m0  3  -4019.448 -3997.166 2012.724 -4025.448        NA NA               NA\n",
       "m1b 4  -4121.661 -4091.951 2064.830 -4129.661 104.21272  1     1.817201e-24\n",
       "m2b 5  -4195.429 -4158.292 2102.714 -4205.429  75.76785  1     3.190542e-18"
      ]
     },
     "metadata": {},
     "output_type": "display_data"
    },
    {
     "data": {
      "text/html": [
       "<table>\n",
       "<thead><tr><th></th><th scope=col>Df</th><th scope=col>AIC</th><th scope=col>BIC</th><th scope=col>logLik</th><th scope=col>deviance</th><th scope=col>Chisq</th><th scope=col>Chi Df</th><th scope=col>Pr(&gt;Chisq)</th></tr></thead>\n",
       "<tbody>\n",
       "\t<tr><th scope=row>m0</th><td>3           </td><td>-4019.448   </td><td>-3997.166   </td><td>2012.724    </td><td>-4025.448   </td><td>      NA    </td><td>NA          </td><td>          NA</td></tr>\n",
       "\t<tr><th scope=row>m1c</th><td>5           </td><td>-4358.369   </td><td>-4321.232   </td><td>2184.184    </td><td>-4368.369   </td><td>342.9208    </td><td> 2          </td><td>3.433171e-75</td></tr>\n",
       "\t<tr><th scope=row>m2c</th><td>7           </td><td>-4498.304   </td><td>-4446.313   </td><td>2256.152    </td><td>-4512.304   </td><td>143.9349    </td><td> 2          </td><td>5.558114e-32</td></tr>\n",
       "</tbody>\n",
       "</table>\n"
      ],
      "text/latex": [
       "\\begin{tabular}{r|llllllll}\n",
       "  & Df & AIC & BIC & logLik & deviance & Chisq & Chi Df & Pr(>Chisq)\\\\\n",
       "\\hline\n",
       "\tm0 & 3            & -4019.448    & -3997.166    & 2012.724     & -4025.448    &       NA     & NA           &           NA\\\\\n",
       "\tm1c & 5            & -4358.369    & -4321.232    & 2184.184     & -4368.369    & 342.9208     &  2           & 3.433171e-75\\\\\n",
       "\tm2c & 7            & -4498.304    & -4446.313    & 2256.152     & -4512.304    & 143.9349     &  2           & 5.558114e-32\\\\\n",
       "\\end{tabular}\n"
      ],
      "text/markdown": [
       "\n",
       "| <!--/--> | Df | AIC | BIC | logLik | deviance | Chisq | Chi Df | Pr(>Chisq) | \n",
       "|---|---|---|\n",
       "| m0 | 3            | -4019.448    | -3997.166    | 2012.724     | -4025.448    |       NA     | NA           |           NA | \n",
       "| m1c | 5            | -4358.369    | -4321.232    | 2184.184     | -4368.369    | 342.9208     |  2           | 3.433171e-75 | \n",
       "| m2c | 7            | -4498.304    | -4446.313    | 2256.152     | -4512.304    | 143.9349     |  2           | 5.558114e-32 | \n",
       "\n",
       "\n"
      ],
      "text/plain": [
       "    Df AIC       BIC       logLik   deviance  Chisq    Chi Df Pr(>Chisq)  \n",
       "m0  3  -4019.448 -3997.166 2012.724 -4025.448       NA NA               NA\n",
       "m1c 5  -4358.369 -4321.232 2184.184 -4368.369 342.9208  2     3.433171e-75\n",
       "m2c 7  -4498.304 -4446.313 2256.152 -4512.304 143.9349  2     5.558114e-32"
      ]
     },
     "metadata": {},
     "output_type": "display_data"
    }
   ],
   "source": [
    "m0 <- lmer(norm_rt ~ 1 + (1|sub), data=data, REML=FALSE, control = lmerControl(optimizer =\"Nelder_Mead\"))\n",
    "m1a <- lmer(norm_rt ~ lag1_clr + (1|sub), data=data, REML=FALSE, control = lmerControl(optimizer =\"Nelder_Mead\"))\n",
    "m2a <- lmer(norm_rt ~ lag1_clr + lag2_clr + (1|sub), data=data, REML=FALSE, control = lmerControl(optimizer =\"Nelder_Mead\"))\n",
    "\n",
    "m1b <- lmer(norm_rt ~ lag1_loc + (1|sub), data=data, REML=FALSE, control = lmerControl(optimizer =\"Nelder_Mead\"))\n",
    "m2b <- lmer(norm_rt ~ lag1_loc + lag2_loc + (1|sub), data=data, REML=FALSE, control = lmerControl(optimizer =\"Nelder_Mead\"))\n",
    "\n",
    "m1a <- lmer(norm_rt ~ lag1_clr + (1|sub), data=data, REML=FALSE, control = lmerControl(optimizer =\"Nelder_Mead\"))\n",
    "m2a <- lmer(norm_rt ~ lag1_clr + lag2_clr + (1|sub), data=data, REML=FALSE, control = lmerControl(optimizer =\"Nelder_Mead\"))\n",
    "\n",
    "m1c <- lmer(norm_rt ~ lag1_loc + lag1_clr + (1|sub), data=data, REML=FALSE, control = lmerControl(optimizer =\"Nelder_Mead\"))\n",
    "m2c <- lmer(norm_rt ~ lag1_loc + lag2_loc + lag1_clr + lag2_clr + (1|sub), data=data, REML=FALSE, control = lmerControl(optimizer =\"Nelder_Mead\"))\n",
    "\n",
    "anova(m0, m1a, m2a)\n",
    "anova(m0, m1b, m2b)\n",
    "anova(m0, m1c, m2c)"
   ]
  },
  {
   "cell_type": "code",
   "execution_count": 4,
   "metadata": {},
   "outputs": [],
   "source": [
    "shuffled_rt <- data$norm_rt[sample(nrow(data))]\n",
    "data$shuffled_rt <- shuffled_rt"
   ]
  },
  {
   "cell_type": "code",
   "execution_count": 5,
   "metadata": {},
   "outputs": [
    {
     "data": {
      "text/html": [
       "<table>\n",
       "<thead><tr><th></th><th scope=col>Df</th><th scope=col>AIC</th><th scope=col>BIC</th><th scope=col>logLik</th><th scope=col>deviance</th><th scope=col>Chisq</th><th scope=col>Chi Df</th><th scope=col>Pr(&gt;Chisq)</th></tr></thead>\n",
       "<tbody>\n",
       "\t<tr><th scope=row>m0</th><td>3          </td><td>-4019.448  </td><td>-3997.166  </td><td>2012.724   </td><td>-4025.448  </td><td>         NA</td><td>NA         </td><td>       NA  </td></tr>\n",
       "\t<tr><th scope=row>m1a</th><td>4          </td><td>-4017.452  </td><td>-3987.743  </td><td>2012.726   </td><td>-4025.452  </td><td>0.004175893</td><td> 1         </td><td>0.9484756  </td></tr>\n",
       "\t<tr><th scope=row>m2a</th><td>5          </td><td>-4016.844  </td><td>-3979.708  </td><td>2013.422   </td><td>-4026.844  </td><td>1.392145885</td><td> 1         </td><td>0.2380430  </td></tr>\n",
       "</tbody>\n",
       "</table>\n"
      ],
      "text/latex": [
       "\\begin{tabular}{r|llllllll}\n",
       "  & Df & AIC & BIC & logLik & deviance & Chisq & Chi Df & Pr(>Chisq)\\\\\n",
       "\\hline\n",
       "\tm0 & 3           & -4019.448   & -3997.166   & 2012.724    & -4025.448   &          NA & NA          &        NA  \\\\\n",
       "\tm1a & 4           & -4017.452   & -3987.743   & 2012.726    & -4025.452   & 0.004175893 &  1          & 0.9484756  \\\\\n",
       "\tm2a & 5           & -4016.844   & -3979.708   & 2013.422    & -4026.844   & 1.392145885 &  1          & 0.2380430  \\\\\n",
       "\\end{tabular}\n"
      ],
      "text/markdown": [
       "\n",
       "| <!--/--> | Df | AIC | BIC | logLik | deviance | Chisq | Chi Df | Pr(>Chisq) | \n",
       "|---|---|---|\n",
       "| m0 | 3           | -4019.448   | -3997.166   | 2012.724    | -4025.448   |          NA | NA          |        NA   | \n",
       "| m1a | 4           | -4017.452   | -3987.743   | 2012.726    | -4025.452   | 0.004175893 |  1          | 0.9484756   | \n",
       "| m2a | 5           | -4016.844   | -3979.708   | 2013.422    | -4026.844   | 1.392145885 |  1          | 0.2380430   | \n",
       "\n",
       "\n"
      ],
      "text/plain": [
       "    Df AIC       BIC       logLik   deviance  Chisq       Chi Df Pr(>Chisq)\n",
       "m0  3  -4019.448 -3997.166 2012.724 -4025.448          NA NA            NA \n",
       "m1a 4  -4017.452 -3987.743 2012.726 -4025.452 0.004175893  1     0.9484756 \n",
       "m2a 5  -4016.844 -3979.708 2013.422 -4026.844 1.392145885  1     0.2380430 "
      ]
     },
     "metadata": {},
     "output_type": "display_data"
    },
    {
     "data": {
      "text/html": [
       "<table>\n",
       "<thead><tr><th></th><th scope=col>Df</th><th scope=col>AIC</th><th scope=col>BIC</th><th scope=col>logLik</th><th scope=col>deviance</th><th scope=col>Chisq</th><th scope=col>Chi Df</th><th scope=col>Pr(&gt;Chisq)</th></tr></thead>\n",
       "<tbody>\n",
       "\t<tr><th scope=row>m0</th><td>3         </td><td>-4019.448 </td><td>-3997.166 </td><td>2012.724  </td><td>-4025.448 </td><td>       NA </td><td>NA        </td><td>        NA</td></tr>\n",
       "\t<tr><th scope=row>m1b</th><td>4         </td><td>-4017.690 </td><td>-3987.981 </td><td>2012.845  </td><td>-4025.690 </td><td>0.2419835 </td><td> 1        </td><td>0.62277721</td></tr>\n",
       "\t<tr><th scope=row>m2b</th><td>5         </td><td>-4018.707 </td><td>-3981.570 </td><td>2014.353  </td><td>-4028.707 </td><td>3.0170397 </td><td> 1        </td><td>0.08239374</td></tr>\n",
       "</tbody>\n",
       "</table>\n"
      ],
      "text/latex": [
       "\\begin{tabular}{r|llllllll}\n",
       "  & Df & AIC & BIC & logLik & deviance & Chisq & Chi Df & Pr(>Chisq)\\\\\n",
       "\\hline\n",
       "\tm0 & 3          & -4019.448  & -3997.166  & 2012.724   & -4025.448  &        NA  & NA         &         NA\\\\\n",
       "\tm1b & 4          & -4017.690  & -3987.981  & 2012.845   & -4025.690  & 0.2419835  &  1         & 0.62277721\\\\\n",
       "\tm2b & 5          & -4018.707  & -3981.570  & 2014.353   & -4028.707  & 3.0170397  &  1         & 0.08239374\\\\\n",
       "\\end{tabular}\n"
      ],
      "text/markdown": [
       "\n",
       "| <!--/--> | Df | AIC | BIC | logLik | deviance | Chisq | Chi Df | Pr(>Chisq) | \n",
       "|---|---|---|\n",
       "| m0 | 3          | -4019.448  | -3997.166  | 2012.724   | -4025.448  |        NA  | NA         |         NA | \n",
       "| m1b | 4          | -4017.690  | -3987.981  | 2012.845   | -4025.690  | 0.2419835  |  1         | 0.62277721 | \n",
       "| m2b | 5          | -4018.707  | -3981.570  | 2014.353   | -4028.707  | 3.0170397  |  1         | 0.08239374 | \n",
       "\n",
       "\n"
      ],
      "text/plain": [
       "    Df AIC       BIC       logLik   deviance  Chisq     Chi Df Pr(>Chisq)\n",
       "m0  3  -4019.448 -3997.166 2012.724 -4025.448        NA NA             NA\n",
       "m1b 4  -4017.690 -3987.981 2012.845 -4025.690 0.2419835  1     0.62277721\n",
       "m2b 5  -4018.707 -3981.570 2014.353 -4028.707 3.0170397  1     0.08239374"
      ]
     },
     "metadata": {},
     "output_type": "display_data"
    },
    {
     "data": {
      "text/html": [
       "<table>\n",
       "<thead><tr><th></th><th scope=col>Df</th><th scope=col>AIC</th><th scope=col>BIC</th><th scope=col>logLik</th><th scope=col>deviance</th><th scope=col>Chisq</th><th scope=col>Chi Df</th><th scope=col>Pr(&gt;Chisq)</th></tr></thead>\n",
       "<tbody>\n",
       "\t<tr><th scope=row>m0</th><td>3        </td><td>-4019.448</td><td>-3997.166</td><td>2012.724 </td><td>-4025.448</td><td>       NA</td><td>NA       </td><td>       NA</td></tr>\n",
       "\t<tr><th scope=row>m1c</th><td>5        </td><td>-4015.693</td><td>-3978.557</td><td>2012.847 </td><td>-4025.693</td><td>0.2454292</td><td> 2       </td><td>0.8845160</td></tr>\n",
       "\t<tr><th scope=row>m2c</th><td>7        </td><td>-4015.228</td><td>-3963.237</td><td>2014.614 </td><td>-4029.228</td><td>3.5347369</td><td> 2       </td><td>0.1707818</td></tr>\n",
       "</tbody>\n",
       "</table>\n"
      ],
      "text/latex": [
       "\\begin{tabular}{r|llllllll}\n",
       "  & Df & AIC & BIC & logLik & deviance & Chisq & Chi Df & Pr(>Chisq)\\\\\n",
       "\\hline\n",
       "\tm0 & 3         & -4019.448 & -3997.166 & 2012.724  & -4025.448 &        NA & NA        &        NA\\\\\n",
       "\tm1c & 5         & -4015.693 & -3978.557 & 2012.847  & -4025.693 & 0.2454292 &  2        & 0.8845160\\\\\n",
       "\tm2c & 7         & -4015.228 & -3963.237 & 2014.614  & -4029.228 & 3.5347369 &  2        & 0.1707818\\\\\n",
       "\\end{tabular}\n"
      ],
      "text/markdown": [
       "\n",
       "| <!--/--> | Df | AIC | BIC | logLik | deviance | Chisq | Chi Df | Pr(>Chisq) | \n",
       "|---|---|---|\n",
       "| m0 | 3         | -4019.448 | -3997.166 | 2012.724  | -4025.448 |        NA | NA        |        NA | \n",
       "| m1c | 5         | -4015.693 | -3978.557 | 2012.847  | -4025.693 | 0.2454292 |  2        | 0.8845160 | \n",
       "| m2c | 7         | -4015.228 | -3963.237 | 2014.614  | -4029.228 | 3.5347369 |  2        | 0.1707818 | \n",
       "\n",
       "\n"
      ],
      "text/plain": [
       "    Df AIC       BIC       logLik   deviance  Chisq     Chi Df Pr(>Chisq)\n",
       "m0  3  -4019.448 -3997.166 2012.724 -4025.448        NA NA            NA \n",
       "m1c 5  -4015.693 -3978.557 2012.847 -4025.693 0.2454292  2     0.8845160 \n",
       "m2c 7  -4015.228 -3963.237 2014.614 -4029.228 3.5347369  2     0.1707818 "
      ]
     },
     "metadata": {},
     "output_type": "display_data"
    }
   ],
   "source": [
    "m0 <- lmer(shuffled_rt ~ 1 + (1|sub), data=data, REML=FALSE, control = lmerControl(optimizer =\"Nelder_Mead\"))\n",
    "m1a <- lmer(shuffled_rt ~ lag1_clr + (1|sub), data=data, REML=FALSE, control = lmerControl(optimizer =\"Nelder_Mead\"))\n",
    "m2a <- lmer(shuffled_rt ~ lag1_clr + lag2_clr + (1|sub), data=data, REML=FALSE, control = lmerControl(optimizer =\"Nelder_Mead\"))\n",
    "\n",
    "m1b <- lmer(shuffled_rt ~ lag1_loc + (1|sub), data=data, REML=FALSE, control = lmerControl(optimizer =\"Nelder_Mead\"))\n",
    "m2b <- lmer(shuffled_rt ~ lag1_loc + lag2_loc + (1|sub), data=data, REML=FALSE, control = lmerControl(optimizer =\"Nelder_Mead\"))\n",
    "\n",
    "m1a <- lmer(shuffled_rt ~ lag1_clr + (1|sub), data=data, REML=FALSE, control = lmerControl(optimizer =\"Nelder_Mead\"))\n",
    "m2a <- lmer(shuffled_rt ~ lag1_clr + lag2_clr + (1|sub), data=data, REML=FALSE, control = lmerControl(optimizer =\"Nelder_Mead\"))\n",
    "\n",
    "m1c <- lmer(shuffled_rt ~ lag1_loc + lag1_clr + (1|sub), data=data, REML=FALSE, control = lmerControl(optimizer =\"Nelder_Mead\"))\n",
    "m2c <- lmer(shuffled_rt ~ lag1_loc + lag2_loc + lag1_clr + lag2_clr + (1|sub), data=data, REML=FALSE, control = lmerControl(optimizer =\"Nelder_Mead\"))\n",
    "\n",
    "anova(m0, m1a, m2a)\n",
    "anova(m0, m1b, m2b)\n",
    "anova(m0, m1c, m2c)"
   ]
  },
  {
   "cell_type": "markdown",
   "metadata": {},
   "source": [
    "## Behavioral versus BOLD"
   ]
  },
  {
   "cell_type": "code",
   "execution_count": 7,
   "metadata": {},
   "outputs": [],
   "source": [
    "data <- read.csv(\"../data/joined.csv\")"
   ]
  },
  {
   "cell_type": "code",
   "execution_count": 26,
   "metadata": {},
   "outputs": [
    {
     "data": {
      "text/html": [
       "<table>\n",
       "<thead><tr><th></th><th scope=col>Df</th><th scope=col>AIC</th><th scope=col>BIC</th><th scope=col>logLik</th><th scope=col>deviance</th><th scope=col>Chisq</th><th scope=col>Chi Df</th><th scope=col>Pr(&gt;Chisq)</th></tr></thead>\n",
       "<tbody>\n",
       "\t<tr><th scope=row>m0</th><td>3         </td><td>-450.4174 </td><td>-441.8380 </td><td>228.2087  </td><td>-456.4174 </td><td>      NA  </td><td>NA        </td><td>        NA</td></tr>\n",
       "\t<tr><th scope=row>m1</th><td>8         </td><td>-453.7626 </td><td>-430.8841 </td><td>234.8813  </td><td>-469.7626 </td><td>13.34522  </td><td> 5        </td><td>0.02034974</td></tr>\n",
       "</tbody>\n",
       "</table>\n"
      ],
      "text/latex": [
       "\\begin{tabular}{r|llllllll}\n",
       "  & Df & AIC & BIC & logLik & deviance & Chisq & Chi Df & Pr(>Chisq)\\\\\n",
       "\\hline\n",
       "\tm0 & 3          & -450.4174  & -441.8380  & 228.2087   & -456.4174  &       NA   & NA         &         NA\\\\\n",
       "\tm1 & 8          & -453.7626  & -430.8841  & 234.8813   & -469.7626  & 13.34522   &  5         & 0.02034974\\\\\n",
       "\\end{tabular}\n"
      ],
      "text/markdown": [
       "\n",
       "| <!--/--> | Df | AIC | BIC | logLik | deviance | Chisq | Chi Df | Pr(>Chisq) | \n",
       "|---|---|\n",
       "| m0 | 3          | -450.4174  | -441.8380  | 228.2087   | -456.4174  |       NA   | NA         |         NA | \n",
       "| m1 | 8          | -453.7626  | -430.8841  | 234.8813   | -469.7626  | 13.34522   |  5         | 0.02034974 | \n",
       "\n",
       "\n"
      ],
      "text/plain": [
       "   Df AIC       BIC       logLik   deviance  Chisq    Chi Df Pr(>Chisq)\n",
       "m0 3  -450.4174 -441.8380 228.2087 -456.4174       NA NA             NA\n",
       "m1 8  -453.7626 -430.8841 234.8813 -469.7626 13.34522  5     0.02034974"
      ]
     },
     "metadata": {},
     "output_type": "display_data"
    }
   ],
   "source": [
    "m0 <- lmer(rt_lag1_clr_pe ~ 1 + (1|sub), data=data, REML=FALSE)\n",
    "m1 <- lmer(rt_lag1_clr_pe ~ 1 + pe_clr1_roi0 + pe_clr1_roi1 + pe_clr1_roi2 + pe_clr1_roi3 + pe_clr1_roi4 + (1|sub), data=data, REML=FALSE)\n",
    "anova(m0, m1)"
   ]
  },
  {
   "cell_type": "code",
   "execution_count": 27,
   "metadata": {},
   "outputs": [
    {
     "data": {
      "text/html": [
       "<table>\n",
       "<thead><tr><th></th><th scope=col>Df</th><th scope=col>AIC</th><th scope=col>BIC</th><th scope=col>logLik</th><th scope=col>deviance</th><th scope=col>Chisq</th><th scope=col>Chi Df</th><th scope=col>Pr(&gt;Chisq)</th></tr></thead>\n",
       "<tbody>\n",
       "\t<tr><th scope=row>m0</th><td>3           </td><td>-224.1107   </td><td>-215.5313   </td><td>115.0554    </td><td>-230.1107   </td><td>      NA    </td><td>NA          </td><td>          NA</td></tr>\n",
       "\t<tr><th scope=row>m2</th><td>6           </td><td>-256.0961   </td><td>-238.9373   </td><td>134.0481    </td><td>-268.0961   </td><td>37.98542    </td><td> 3          </td><td>2.846633e-08</td></tr>\n",
       "</tbody>\n",
       "</table>\n"
      ],
      "text/latex": [
       "\\begin{tabular}{r|llllllll}\n",
       "  & Df & AIC & BIC & logLik & deviance & Chisq & Chi Df & Pr(>Chisq)\\\\\n",
       "\\hline\n",
       "\tm0 & 3            & -224.1107    & -215.5313    & 115.0554     & -230.1107    &       NA     & NA           &           NA\\\\\n",
       "\tm2 & 6            & -256.0961    & -238.9373    & 134.0481     & -268.0961    & 37.98542     &  3           & 2.846633e-08\\\\\n",
       "\\end{tabular}\n"
      ],
      "text/markdown": [
       "\n",
       "| <!--/--> | Df | AIC | BIC | logLik | deviance | Chisq | Chi Df | Pr(>Chisq) | \n",
       "|---|---|\n",
       "| m0 | 3            | -224.1107    | -215.5313    | 115.0554     | -230.1107    |       NA     | NA           |           NA | \n",
       "| m2 | 6            | -256.0961    | -238.9373    | 134.0481     | -268.0961    | 37.98542     |  3           | 2.846633e-08 | \n",
       "\n",
       "\n"
      ],
      "text/plain": [
       "   Df AIC       BIC       logLik   deviance  Chisq    Chi Df Pr(>Chisq)  \n",
       "m0 3  -224.1107 -215.5313 115.0554 -230.1107       NA NA               NA\n",
       "m2 6  -256.0961 -238.9373 134.0481 -268.0961 37.98542  3     2.846633e-08"
      ]
     },
     "metadata": {},
     "output_type": "display_data"
    }
   ],
   "source": [
    "m0 <- lmer(rt_lag2_clr_pe ~ 1 + (1|sub), data=data, REML=FALSE)\n",
    "m2 <- lmer(rt_lag2_clr_pe ~ 1 + pe_clr2_roi0 + pe_clr2_roi1 + pe_clr2_roi2 + (1|sub), data=data, REML=FALSE)\n",
    "anova(m0, m1)"
   ]
  },
  {
   "cell_type": "code",
   "execution_count": 119,
   "metadata": {},
   "outputs": [
    {
     "data": {
      "text/html": [
       "<table>\n",
       "<thead><tr><th></th><th scope=col>Df</th><th scope=col>AIC</th><th scope=col>BIC</th><th scope=col>logLik</th><th scope=col>deviance</th><th scope=col>Chisq</th><th scope=col>Chi Df</th><th scope=col>Pr(&gt;Chisq)</th></tr></thead>\n",
       "<tbody>\n",
       "\t<tr><th scope=row>m0</th><td>3        </td><td>-224.1107</td><td>-215.5313</td><td>115.0554 </td><td>-230.1107</td><td>       NA</td><td>NA       </td><td>       NA</td></tr>\n",
       "\t<tr><th scope=row>m2</th><td>6        </td><td>-218.4281</td><td>-201.2692</td><td>115.2141 </td><td>-230.4281</td><td>0.3173847</td><td> 3       </td><td>0.9567264</td></tr>\n",
       "</tbody>\n",
       "</table>\n"
      ],
      "text/latex": [
       "\\begin{tabular}{r|llllllll}\n",
       "  & Df & AIC & BIC & logLik & deviance & Chisq & Chi Df & Pr(>Chisq)\\\\\n",
       "\\hline\n",
       "\tm0 & 3         & -224.1107 & -215.5313 & 115.0554  & -230.1107 &        NA & NA        &        NA\\\\\n",
       "\tm2 & 6         & -218.4281 & -201.2692 & 115.2141  & -230.4281 & 0.3173847 &  3        & 0.9567264\\\\\n",
       "\\end{tabular}\n"
      ],
      "text/markdown": [
       "\n",
       "| <!--/--> | Df | AIC | BIC | logLik | deviance | Chisq | Chi Df | Pr(>Chisq) | \n",
       "|---|---|\n",
       "| m0 | 3         | -224.1107 | -215.5313 | 115.0554  | -230.1107 |        NA | NA        |        NA | \n",
       "| m2 | 6         | -218.4281 | -201.2692 | 115.2141  | -230.4281 | 0.3173847 |  3        | 0.9567264 | \n",
       "\n",
       "\n"
      ],
      "text/plain": [
       "   Df AIC       BIC       logLik   deviance  Chisq     Chi Df Pr(>Chisq)\n",
       "m0 3  -224.1107 -215.5313 115.0554 -230.1107        NA NA            NA \n",
       "m2 6  -218.4281 -201.2692 115.2141 -230.4281 0.3173847  3     0.9567264 "
      ]
     },
     "metadata": {},
     "output_type": "display_data"
    }
   ],
   "source": [
    "shuffled_pe <- data$rt_lag2_clr_pe[sample(nrow(data))]\n",
    "data$shuffled_pe <- shuffled_pe\n",
    "m0 <- lmer(shuffled_pe ~ 1 + (1|sub), data=data, REML=FALSE)\n",
    "m2 <- lmer(shuffled_pe ~ 1 + pe_clr2_roi0 + pe_clr2_roi1 + pe_clr2_roi2 + (1|sub), data=data, REML=FALSE)\n",
    "anova(m0, m2)"
   ]
  },
  {
   "cell_type": "code",
   "execution_count": 37,
   "metadata": {},
   "outputs": [
    {
     "data": {
      "text/html": [
       "<table>\n",
       "<thead><tr><th></th><th scope=col>Df</th><th scope=col>AIC</th><th scope=col>BIC</th><th scope=col>logLik</th><th scope=col>deviance</th><th scope=col>Chisq</th><th scope=col>Chi Df</th><th scope=col>Pr(&gt;Chisq)</th></tr></thead>\n",
       "<tbody>\n",
       "\t<tr><th scope=row>m0</th><td>3           </td><td>-408.8299   </td><td>-400.2505   </td><td>207.4149    </td><td>-414.8299   </td><td>      NA    </td><td>NA          </td><td>          NA</td></tr>\n",
       "\t<tr><th scope=row>m3</th><td>5           </td><td>-423.6627   </td><td>-409.3636   </td><td>216.8313    </td><td>-433.6627   </td><td>18.83277    </td><td> 2          </td><td>8.137963e-05</td></tr>\n",
       "</tbody>\n",
       "</table>\n"
      ],
      "text/latex": [
       "\\begin{tabular}{r|llllllll}\n",
       "  & Df & AIC & BIC & logLik & deviance & Chisq & Chi Df & Pr(>Chisq)\\\\\n",
       "\\hline\n",
       "\tm0 & 3            & -408.8299    & -400.2505    & 207.4149     & -414.8299    &       NA     & NA           &           NA\\\\\n",
       "\tm3 & 5            & -423.6627    & -409.3636    & 216.8313     & -433.6627    & 18.83277     &  2           & 8.137963e-05\\\\\n",
       "\\end{tabular}\n"
      ],
      "text/markdown": [
       "\n",
       "| <!--/--> | Df | AIC | BIC | logLik | deviance | Chisq | Chi Df | Pr(>Chisq) | \n",
       "|---|---|\n",
       "| m0 | 3            | -408.8299    | -400.2505    | 207.4149     | -414.8299    |       NA     | NA           |           NA | \n",
       "| m3 | 5            | -423.6627    | -409.3636    | 216.8313     | -433.6627    | 18.83277     |  2           | 8.137963e-05 | \n",
       "\n",
       "\n"
      ],
      "text/plain": [
       "   Df AIC       BIC       logLik   deviance  Chisq    Chi Df Pr(>Chisq)  \n",
       "m0 3  -408.8299 -400.2505 207.4149 -414.8299       NA NA               NA\n",
       "m3 5  -423.6627 -409.3636 216.8313 -433.6627 18.83277  2     8.137963e-05"
      ]
     },
     "metadata": {},
     "output_type": "display_data"
    }
   ],
   "source": [
    "m0 <- lmer(rt_lag1_loc_pe ~ 1 + (1|sub), data=data, REML=FALSE)\n",
    "m3 <- lmer(rt_lag1_loc_pe ~ 1 + pe_loc1_roi0 + pe_loc1_roi1 + (1|sub), data=data, REML=FALSE)\n",
    "anova(m0, m3)"
   ]
  },
  {
   "cell_type": "code",
   "execution_count": 30,
   "metadata": {},
   "outputs": [
    {
     "data": {
      "text/html": [
       "<table>\n",
       "<thead><tr><th></th><th scope=col>Df</th><th scope=col>AIC</th><th scope=col>BIC</th><th scope=col>logLik</th><th scope=col>deviance</th><th scope=col>Chisq</th><th scope=col>Chi Df</th><th scope=col>Pr(&gt;Chisq)</th></tr></thead>\n",
       "<tbody>\n",
       "\t<tr><th scope=row>m0</th><td>3           </td><td>-237.1655   </td><td>-228.5861   </td><td>121.5828    </td><td>-243.1655   </td><td>      NA    </td><td>NA          </td><td>          NA</td></tr>\n",
       "\t<tr><th scope=row>m4</th><td>7           </td><td>-255.1816   </td><td>-235.1629   </td><td>134.5908    </td><td>-269.1816   </td><td>26.01607    </td><td> 4          </td><td>3.140934e-05</td></tr>\n",
       "</tbody>\n",
       "</table>\n"
      ],
      "text/latex": [
       "\\begin{tabular}{r|llllllll}\n",
       "  & Df & AIC & BIC & logLik & deviance & Chisq & Chi Df & Pr(>Chisq)\\\\\n",
       "\\hline\n",
       "\tm0 & 3            & -237.1655    & -228.5861    & 121.5828     & -243.1655    &       NA     & NA           &           NA\\\\\n",
       "\tm4 & 7            & -255.1816    & -235.1629    & 134.5908     & -269.1816    & 26.01607     &  4           & 3.140934e-05\\\\\n",
       "\\end{tabular}\n"
      ],
      "text/markdown": [
       "\n",
       "| <!--/--> | Df | AIC | BIC | logLik | deviance | Chisq | Chi Df | Pr(>Chisq) | \n",
       "|---|---|\n",
       "| m0 | 3            | -237.1655    | -228.5861    | 121.5828     | -243.1655    |       NA     | NA           |           NA | \n",
       "| m4 | 7            | -255.1816    | -235.1629    | 134.5908     | -269.1816    | 26.01607     |  4           | 3.140934e-05 | \n",
       "\n",
       "\n"
      ],
      "text/plain": [
       "   Df AIC       BIC       logLik   deviance  Chisq    Chi Df Pr(>Chisq)  \n",
       "m0 3  -237.1655 -228.5861 121.5828 -243.1655       NA NA               NA\n",
       "m4 7  -255.1816 -235.1629 134.5908 -269.1816 26.01607  4     3.140934e-05"
      ]
     },
     "metadata": {},
     "output_type": "display_data"
    }
   ],
   "source": [
    "m0 <- lmer(rt_lag2_loc_pe ~ 1 + (1|sub), data=data, REML=FALSE)\n",
    "m4 <- lmer(rt_lag2_loc_pe ~ 1 + pe_loc2_roi0 + pe_loc2_roi1 + pe_loc2_roi2 + pe_loc2_roi3 + (1|sub), data=data, REML=FALSE)\n",
    "anova(m0, m4)"
   ]
  },
  {
   "cell_type": "markdown",
   "metadata": {},
   "source": [
    "## Check per roi and if individual fixed effects are positive"
   ]
  },
  {
   "cell_type": "markdown",
   "metadata": {},
   "source": [
    "### Color lag1"
   ]
  },
  {
   "cell_type": "code",
   "execution_count": 92,
   "metadata": {},
   "outputs": [
    {
     "data": {
      "text/html": [
       "<table>\n",
       "<thead><tr><th></th><th scope=col>Df</th><th scope=col>AIC</th><th scope=col>BIC</th><th scope=col>logLik</th><th scope=col>deviance</th><th scope=col>Chisq</th><th scope=col>Chi Df</th><th scope=col>Pr(&gt;Chisq)</th></tr></thead>\n",
       "<tbody>\n",
       "\t<tr><th scope=row>m0</th><td>3        </td><td>-450.4174</td><td>-441.8380</td><td>228.2087 </td><td>-456.4174</td><td>      NA </td><td>NA       </td><td>       NA</td></tr>\n",
       "\t<tr><th scope=row>m1</th><td>4        </td><td>-449.7587</td><td>-438.3194</td><td>228.8793 </td><td>-457.7587</td><td>1.341288 </td><td> 1       </td><td>0.2468069</td></tr>\n",
       "</tbody>\n",
       "</table>\n"
      ],
      "text/latex": [
       "\\begin{tabular}{r|llllllll}\n",
       "  & Df & AIC & BIC & logLik & deviance & Chisq & Chi Df & Pr(>Chisq)\\\\\n",
       "\\hline\n",
       "\tm0 & 3         & -450.4174 & -441.8380 & 228.2087  & -456.4174 &       NA  & NA        &        NA\\\\\n",
       "\tm1 & 4         & -449.7587 & -438.3194 & 228.8793  & -457.7587 & 1.341288  &  1        & 0.2468069\\\\\n",
       "\\end{tabular}\n"
      ],
      "text/markdown": [
       "\n",
       "| <!--/--> | Df | AIC | BIC | logLik | deviance | Chisq | Chi Df | Pr(>Chisq) | \n",
       "|---|---|\n",
       "| m0 | 3         | -450.4174 | -441.8380 | 228.2087  | -456.4174 |       NA  | NA        |        NA | \n",
       "| m1 | 4         | -449.7587 | -438.3194 | 228.8793  | -457.7587 | 1.341288  |  1        | 0.2468069 | \n",
       "\n",
       "\n"
      ],
      "text/plain": [
       "   Df AIC       BIC       logLik   deviance  Chisq    Chi Df Pr(>Chisq)\n",
       "m0 3  -450.4174 -441.8380 228.2087 -456.4174       NA NA            NA \n",
       "m1 4  -449.7587 -438.3194 228.8793 -457.7587 1.341288  1     0.2468069 "
      ]
     },
     "metadata": {},
     "output_type": "display_data"
    },
    {
     "data": {
      "text/html": [
       "<table>\n",
       "<thead><tr><th></th><th scope=col>Df</th><th scope=col>AIC</th><th scope=col>BIC</th><th scope=col>logLik</th><th scope=col>deviance</th><th scope=col>Chisq</th><th scope=col>Chi Df</th><th scope=col>Pr(&gt;Chisq)</th></tr></thead>\n",
       "<tbody>\n",
       "\t<tr><th scope=row>m0</th><td>3         </td><td>-450.4174 </td><td>-441.8380 </td><td>228.2087  </td><td>-456.4174 </td><td>      NA  </td><td>NA        </td><td>        NA</td></tr>\n",
       "\t<tr><th scope=row>m2</th><td>4         </td><td>-453.3209 </td><td>-441.8816 </td><td>230.6604  </td><td>-461.3209 </td><td>4.903496  </td><td> 1        </td><td>0.02680238</td></tr>\n",
       "</tbody>\n",
       "</table>\n"
      ],
      "text/latex": [
       "\\begin{tabular}{r|llllllll}\n",
       "  & Df & AIC & BIC & logLik & deviance & Chisq & Chi Df & Pr(>Chisq)\\\\\n",
       "\\hline\n",
       "\tm0 & 3          & -450.4174  & -441.8380  & 228.2087   & -456.4174  &       NA   & NA         &         NA\\\\\n",
       "\tm2 & 4          & -453.3209  & -441.8816  & 230.6604   & -461.3209  & 4.903496   &  1         & 0.02680238\\\\\n",
       "\\end{tabular}\n"
      ],
      "text/markdown": [
       "\n",
       "| <!--/--> | Df | AIC | BIC | logLik | deviance | Chisq | Chi Df | Pr(>Chisq) | \n",
       "|---|---|\n",
       "| m0 | 3          | -450.4174  | -441.8380  | 228.2087   | -456.4174  |       NA   | NA         |         NA | \n",
       "| m2 | 4          | -453.3209  | -441.8816  | 230.6604   | -461.3209  | 4.903496   |  1         | 0.02680238 | \n",
       "\n",
       "\n"
      ],
      "text/plain": [
       "   Df AIC       BIC       logLik   deviance  Chisq    Chi Df Pr(>Chisq)\n",
       "m0 3  -450.4174 -441.8380 228.2087 -456.4174       NA NA             NA\n",
       "m2 4  -453.3209 -441.8816 230.6604 -461.3209 4.903496  1     0.02680238"
      ]
     },
     "metadata": {},
     "output_type": "display_data"
    },
    {
     "data": {
      "text/html": [
       "<table>\n",
       "<thead><tr><th></th><th scope=col>Df</th><th scope=col>AIC</th><th scope=col>BIC</th><th scope=col>logLik</th><th scope=col>deviance</th><th scope=col>Chisq</th><th scope=col>Chi Df</th><th scope=col>Pr(&gt;Chisq)</th></tr></thead>\n",
       "<tbody>\n",
       "\t<tr><th scope=row>m0</th><td>3        </td><td>-450.4174</td><td>-441.8380</td><td>228.2087 </td><td>-456.4174</td><td>      NA </td><td>NA       </td><td>       NA</td></tr>\n",
       "\t<tr><th scope=row>m3</th><td>4        </td><td>-449.8672</td><td>-438.4279</td><td>228.9336 </td><td>-457.8672</td><td>1.449762 </td><td> 1       </td><td>0.2285661</td></tr>\n",
       "</tbody>\n",
       "</table>\n"
      ],
      "text/latex": [
       "\\begin{tabular}{r|llllllll}\n",
       "  & Df & AIC & BIC & logLik & deviance & Chisq & Chi Df & Pr(>Chisq)\\\\\n",
       "\\hline\n",
       "\tm0 & 3         & -450.4174 & -441.8380 & 228.2087  & -456.4174 &       NA  & NA        &        NA\\\\\n",
       "\tm3 & 4         & -449.8672 & -438.4279 & 228.9336  & -457.8672 & 1.449762  &  1        & 0.2285661\\\\\n",
       "\\end{tabular}\n"
      ],
      "text/markdown": [
       "\n",
       "| <!--/--> | Df | AIC | BIC | logLik | deviance | Chisq | Chi Df | Pr(>Chisq) | \n",
       "|---|---|\n",
       "| m0 | 3         | -450.4174 | -441.8380 | 228.2087  | -456.4174 |       NA  | NA        |        NA | \n",
       "| m3 | 4         | -449.8672 | -438.4279 | 228.9336  | -457.8672 | 1.449762  |  1        | 0.2285661 | \n",
       "\n",
       "\n"
      ],
      "text/plain": [
       "   Df AIC       BIC       logLik   deviance  Chisq    Chi Df Pr(>Chisq)\n",
       "m0 3  -450.4174 -441.8380 228.2087 -456.4174       NA NA            NA \n",
       "m3 4  -449.8672 -438.4279 228.9336 -457.8672 1.449762  1     0.2285661 "
      ]
     },
     "metadata": {},
     "output_type": "display_data"
    },
    {
     "data": {
      "text/html": [
       "<table>\n",
       "<thead><tr><th></th><th scope=col>Df</th><th scope=col>AIC</th><th scope=col>BIC</th><th scope=col>logLik</th><th scope=col>deviance</th><th scope=col>Chisq</th><th scope=col>Chi Df</th><th scope=col>Pr(&gt;Chisq)</th></tr></thead>\n",
       "<tbody>\n",
       "\t<tr><th scope=row>m0</th><td>3        </td><td>-450.4174</td><td>-441.838 </td><td>228.2087 </td><td>-456.4174</td><td>      NA </td><td>NA       </td><td>       NA</td></tr>\n",
       "\t<tr><th scope=row>m4</th><td>4        </td><td>-450.1483</td><td>-438.709 </td><td>229.0741 </td><td>-458.1483</td><td>1.730863 </td><td> 1       </td><td>0.1883008</td></tr>\n",
       "</tbody>\n",
       "</table>\n"
      ],
      "text/latex": [
       "\\begin{tabular}{r|llllllll}\n",
       "  & Df & AIC & BIC & logLik & deviance & Chisq & Chi Df & Pr(>Chisq)\\\\\n",
       "\\hline\n",
       "\tm0 & 3         & -450.4174 & -441.838  & 228.2087  & -456.4174 &       NA  & NA        &        NA\\\\\n",
       "\tm4 & 4         & -450.1483 & -438.709  & 229.0741  & -458.1483 & 1.730863  &  1        & 0.1883008\\\\\n",
       "\\end{tabular}\n"
      ],
      "text/markdown": [
       "\n",
       "| <!--/--> | Df | AIC | BIC | logLik | deviance | Chisq | Chi Df | Pr(>Chisq) | \n",
       "|---|---|\n",
       "| m0 | 3         | -450.4174 | -441.838  | 228.2087  | -456.4174 |       NA  | NA        |        NA | \n",
       "| m4 | 4         | -450.1483 | -438.709  | 229.0741  | -458.1483 | 1.730863  |  1        | 0.1883008 | \n",
       "\n",
       "\n"
      ],
      "text/plain": [
       "   Df AIC       BIC      logLik   deviance  Chisq    Chi Df Pr(>Chisq)\n",
       "m0 3  -450.4174 -441.838 228.2087 -456.4174       NA NA            NA \n",
       "m4 4  -450.1483 -438.709 229.0741 -458.1483 1.730863  1     0.1883008 "
      ]
     },
     "metadata": {},
     "output_type": "display_data"
    },
    {
     "data": {
      "text/html": [
       "<table>\n",
       "<thead><tr><th></th><th scope=col>Df</th><th scope=col>AIC</th><th scope=col>BIC</th><th scope=col>logLik</th><th scope=col>deviance</th><th scope=col>Chisq</th><th scope=col>Chi Df</th><th scope=col>Pr(&gt;Chisq)</th></tr></thead>\n",
       "<tbody>\n",
       "\t<tr><th scope=row>m0</th><td>3        </td><td>-450.4174</td><td>-441.8380</td><td>228.2087 </td><td>-456.4174</td><td>     NA  </td><td>NA       </td><td>      NA </td></tr>\n",
       "\t<tr><th scope=row>m5</th><td>4        </td><td>-449.7090</td><td>-438.2698</td><td>228.8545 </td><td>-457.7090</td><td>1.29164  </td><td> 1       </td><td>0.255746 </td></tr>\n",
       "</tbody>\n",
       "</table>\n"
      ],
      "text/latex": [
       "\\begin{tabular}{r|llllllll}\n",
       "  & Df & AIC & BIC & logLik & deviance & Chisq & Chi Df & Pr(>Chisq)\\\\\n",
       "\\hline\n",
       "\tm0 & 3         & -450.4174 & -441.8380 & 228.2087  & -456.4174 &      NA   & NA        &       NA \\\\\n",
       "\tm5 & 4         & -449.7090 & -438.2698 & 228.8545  & -457.7090 & 1.29164   &  1        & 0.255746 \\\\\n",
       "\\end{tabular}\n"
      ],
      "text/markdown": [
       "\n",
       "| <!--/--> | Df | AIC | BIC | logLik | deviance | Chisq | Chi Df | Pr(>Chisq) | \n",
       "|---|---|\n",
       "| m0 | 3         | -450.4174 | -441.8380 | 228.2087  | -456.4174 |      NA   | NA        |       NA  | \n",
       "| m5 | 4         | -449.7090 | -438.2698 | 228.8545  | -457.7090 | 1.29164   |  1        | 0.255746  | \n",
       "\n",
       "\n"
      ],
      "text/plain": [
       "   Df AIC       BIC       logLik   deviance  Chisq   Chi Df Pr(>Chisq)\n",
       "m0 3  -450.4174 -441.8380 228.2087 -456.4174      NA NA           NA  \n",
       "m5 4  -449.7090 -438.2698 228.8545 -457.7090 1.29164  1     0.255746  "
      ]
     },
     "metadata": {},
     "output_type": "display_data"
    }
   ],
   "source": [
    "m0 <- lmer(rt_lag1_clr_pe ~ 1 + (1|sub), data=data, REML=FALSE)\n",
    "m1 <- lmer(rt_lag1_clr_pe ~ 1 + pe_clr1_roi0 + (1|sub), data=data, REML=FALSE)\n",
    "m2 <- lmer(rt_lag1_clr_pe ~ 1 + pe_clr1_roi1 + (1|sub), data=data, REML=FALSE)\n",
    "m3 <- lmer(rt_lag1_clr_pe ~ 1 + pe_clr1_roi2 + (1|sub), data=data, REML=FALSE)\n",
    "m4 <- lmer(rt_lag1_clr_pe ~ 1 + pe_clr1_roi3 + (1|sub), data=data, REML=FALSE)\n",
    "m5 <- lmer(rt_lag1_clr_pe ~ 1 + pe_clr1_roi4 + (1|sub), data=data, REML=FALSE)\n",
    "anova(m0, m1)\n",
    "anova(m0, m2)\n",
    "anova(m0, m3)\n",
    "anova(m0, m4)\n",
    "anova(m0, m5)"
   ]
  },
  {
   "cell_type": "code",
   "execution_count": 93,
   "metadata": {},
   "outputs": [
    {
     "data": {
      "text/plain": [
       "Linear mixed model fit by maximum likelihood  ['lmerMod']\n",
       "Formula: rt_lag1_clr_pe ~ 1 + pe_clr1_roi0 + (1 | sub)\n",
       "   Data: data\n",
       "      AIC       BIC    logLik  deviance  df.resid \n",
       "-449.7587 -438.3194  228.8793 -457.7587       125 \n",
       "Random effects:\n",
       " Groups   Name        Std.Dev.\n",
       " sub      (Intercept) 0.02406 \n",
       " Residual             0.03901 \n",
       "Number of obs: 129, groups:  sub, 6\n",
       "Fixed Effects:\n",
       " (Intercept)  pe_clr1_roi0  \n",
       "  -6.264e-02    -1.738e-05  "
      ]
     },
     "metadata": {},
     "output_type": "display_data"
    }
   ],
   "source": [
    "m1"
   ]
  },
  {
   "cell_type": "code",
   "execution_count": 94,
   "metadata": {},
   "outputs": [
    {
     "data": {
      "text/plain": [
       "Linear mixed model fit by maximum likelihood  ['lmerMod']\n",
       "Formula: rt_lag1_clr_pe ~ 1 + pe_clr1_roi1 + (1 | sub)\n",
       "   Data: data\n",
       "      AIC       BIC    logLik  deviance  df.resid \n",
       "-453.3209 -441.8816  230.6604 -461.3209       125 \n",
       "Random effects:\n",
       " Groups   Name        Std.Dev.\n",
       " sub      (Intercept) 0.02381 \n",
       " Residual             0.03847 \n",
       "Number of obs: 129, groups:  sub, 6\n",
       "Fixed Effects:\n",
       " (Intercept)  pe_clr1_roi1  \n",
       "  -5.939e-02     1.977e-05  "
      ]
     },
     "metadata": {},
     "output_type": "display_data"
    }
   ],
   "source": [
    "m2"
   ]
  },
  {
   "cell_type": "code",
   "execution_count": 95,
   "metadata": {},
   "outputs": [
    {
     "data": {
      "text/plain": [
       "Linear mixed model fit by maximum likelihood  ['lmerMod']\n",
       "Formula: rt_lag1_clr_pe ~ 1 + pe_clr1_roi2 + (1 | sub)\n",
       "   Data: data\n",
       "      AIC       BIC    logLik  deviance  df.resid \n",
       "-449.8672 -438.4279  228.9336 -457.8672       125 \n",
       "Random effects:\n",
       " Groups   Name        Std.Dev.\n",
       " sub      (Intercept) 0.02357 \n",
       " Residual             0.03903 \n",
       "Number of obs: 129, groups:  sub, 6\n",
       "Fixed Effects:\n",
       " (Intercept)  pe_clr1_roi2  \n",
       "  -6.052e-02     1.917e-05  "
      ]
     },
     "metadata": {},
     "output_type": "display_data"
    }
   ],
   "source": [
    "m3"
   ]
  },
  {
   "cell_type": "code",
   "execution_count": 96,
   "metadata": {},
   "outputs": [
    {
     "data": {
      "text/plain": [
       "Linear mixed model fit by maximum likelihood  ['lmerMod']\n",
       "Formula: rt_lag1_clr_pe ~ 1 + pe_clr1_roi3 + (1 | sub)\n",
       "   Data: data\n",
       "      AIC       BIC    logLik  deviance  df.resid \n",
       "-450.1483 -438.7090  229.0741 -458.1483       125 \n",
       "Random effects:\n",
       " Groups   Name        Std.Dev.\n",
       " sub      (Intercept) 0.02334 \n",
       " Residual             0.03900 \n",
       "Number of obs: 129, groups:  sub, 6\n",
       "Fixed Effects:\n",
       " (Intercept)  pe_clr1_roi3  \n",
       "  -6.015e-02     2.568e-05  "
      ]
     },
     "metadata": {},
     "output_type": "display_data"
    }
   ],
   "source": [
    "m4"
   ]
  },
  {
   "cell_type": "code",
   "execution_count": 97,
   "metadata": {},
   "outputs": [
    {
     "data": {
      "text/plain": [
       "Linear mixed model fit by maximum likelihood  ['lmerMod']\n",
       "Formula: rt_lag1_clr_pe ~ 1 + pe_clr1_roi4 + (1 | sub)\n",
       "   Data: data\n",
       "      AIC       BIC    logLik  deviance  df.resid \n",
       "-449.7090 -438.2698  228.8545 -457.7090       125 \n",
       "Random effects:\n",
       " Groups   Name        Std.Dev.\n",
       " sub      (Intercept) 0.02347 \n",
       " Residual             0.03906 \n",
       "Number of obs: 129, groups:  sub, 6\n",
       "Fixed Effects:\n",
       " (Intercept)  pe_clr1_roi4  \n",
       "  -6.034e-02     1.122e-05  "
      ]
     },
     "metadata": {},
     "output_type": "display_data"
    }
   ],
   "source": [
    "m5"
   ]
  },
  {
   "cell_type": "markdown",
   "metadata": {},
   "source": [
    "### Color lag2"
   ]
  },
  {
   "cell_type": "code",
   "execution_count": 77,
   "metadata": {},
   "outputs": [
    {
     "data": {
      "text/html": [
       "<table>\n",
       "<thead><tr><th></th><th scope=col>Df</th><th scope=col>AIC</th><th scope=col>BIC</th><th scope=col>logLik</th><th scope=col>deviance</th><th scope=col>Chisq</th><th scope=col>Chi Df</th><th scope=col>Pr(&gt;Chisq)</th></tr></thead>\n",
       "<tbody>\n",
       "\t<tr><th scope=row>m0</th><td>3           </td><td>-224.1107   </td><td>-215.5313   </td><td>115.0554    </td><td>-230.1107   </td><td>      NA    </td><td>NA          </td><td>          NA</td></tr>\n",
       "\t<tr><th scope=row>m1</th><td>4           </td><td>-248.2884   </td><td>-236.8492   </td><td>128.1442    </td><td>-256.2884   </td><td>26.17772    </td><td> 1          </td><td>3.113954e-07</td></tr>\n",
       "</tbody>\n",
       "</table>\n"
      ],
      "text/latex": [
       "\\begin{tabular}{r|llllllll}\n",
       "  & Df & AIC & BIC & logLik & deviance & Chisq & Chi Df & Pr(>Chisq)\\\\\n",
       "\\hline\n",
       "\tm0 & 3            & -224.1107    & -215.5313    & 115.0554     & -230.1107    &       NA     & NA           &           NA\\\\\n",
       "\tm1 & 4            & -248.2884    & -236.8492    & 128.1442     & -256.2884    & 26.17772     &  1           & 3.113954e-07\\\\\n",
       "\\end{tabular}\n"
      ],
      "text/markdown": [
       "\n",
       "| <!--/--> | Df | AIC | BIC | logLik | deviance | Chisq | Chi Df | Pr(>Chisq) | \n",
       "|---|---|\n",
       "| m0 | 3            | -224.1107    | -215.5313    | 115.0554     | -230.1107    |       NA     | NA           |           NA | \n",
       "| m1 | 4            | -248.2884    | -236.8492    | 128.1442     | -256.2884    | 26.17772     |  1           | 3.113954e-07 | \n",
       "\n",
       "\n"
      ],
      "text/plain": [
       "   Df AIC       BIC       logLik   deviance  Chisq    Chi Df Pr(>Chisq)  \n",
       "m0 3  -224.1107 -215.5313 115.0554 -230.1107       NA NA               NA\n",
       "m1 4  -248.2884 -236.8492 128.1442 -256.2884 26.17772  1     3.113954e-07"
      ]
     },
     "metadata": {},
     "output_type": "display_data"
    },
    {
     "data": {
      "text/html": [
       "<table>\n",
       "<thead><tr><th></th><th scope=col>Df</th><th scope=col>AIC</th><th scope=col>BIC</th><th scope=col>logLik</th><th scope=col>deviance</th><th scope=col>Chisq</th><th scope=col>Chi Df</th><th scope=col>Pr(&gt;Chisq)</th></tr></thead>\n",
       "<tbody>\n",
       "\t<tr><th scope=row>m0</th><td>3           </td><td>-224.1107   </td><td>-215.5313   </td><td>115.0554    </td><td>-230.1107   </td><td>      NA    </td><td>NA          </td><td>          NA</td></tr>\n",
       "\t<tr><th scope=row>m2</th><td>4           </td><td>-234.5799   </td><td>-223.1407   </td><td>121.2900    </td><td>-242.5799   </td><td>12.46921    </td><td> 1          </td><td>0.0004137148</td></tr>\n",
       "</tbody>\n",
       "</table>\n"
      ],
      "text/latex": [
       "\\begin{tabular}{r|llllllll}\n",
       "  & Df & AIC & BIC & logLik & deviance & Chisq & Chi Df & Pr(>Chisq)\\\\\n",
       "\\hline\n",
       "\tm0 & 3            & -224.1107    & -215.5313    & 115.0554     & -230.1107    &       NA     & NA           &           NA\\\\\n",
       "\tm2 & 4            & -234.5799    & -223.1407    & 121.2900     & -242.5799    & 12.46921     &  1           & 0.0004137148\\\\\n",
       "\\end{tabular}\n"
      ],
      "text/markdown": [
       "\n",
       "| <!--/--> | Df | AIC | BIC | logLik | deviance | Chisq | Chi Df | Pr(>Chisq) | \n",
       "|---|---|\n",
       "| m0 | 3            | -224.1107    | -215.5313    | 115.0554     | -230.1107    |       NA     | NA           |           NA | \n",
       "| m2 | 4            | -234.5799    | -223.1407    | 121.2900     | -242.5799    | 12.46921     |  1           | 0.0004137148 | \n",
       "\n",
       "\n"
      ],
      "text/plain": [
       "   Df AIC       BIC       logLik   deviance  Chisq    Chi Df Pr(>Chisq)  \n",
       "m0 3  -224.1107 -215.5313 115.0554 -230.1107       NA NA               NA\n",
       "m2 4  -234.5799 -223.1407 121.2900 -242.5799 12.46921  1     0.0004137148"
      ]
     },
     "metadata": {},
     "output_type": "display_data"
    },
    {
     "data": {
      "text/html": [
       "<table>\n",
       "<thead><tr><th></th><th scope=col>Df</th><th scope=col>AIC</th><th scope=col>BIC</th><th scope=col>logLik</th><th scope=col>deviance</th><th scope=col>Chisq</th><th scope=col>Chi Df</th><th scope=col>Pr(&gt;Chisq)</th></tr></thead>\n",
       "<tbody>\n",
       "\t<tr><th scope=row>m0</th><td>3           </td><td>-224.1107   </td><td>-215.5313   </td><td>115.0554    </td><td>-230.1107   </td><td>      NA    </td><td>NA          </td><td>          NA</td></tr>\n",
       "\t<tr><th scope=row>m3</th><td>4           </td><td>-253.5888   </td><td>-242.1496   </td><td>130.7944    </td><td>-261.5888   </td><td>31.47812    </td><td> 1          </td><td>2.017007e-08</td></tr>\n",
       "</tbody>\n",
       "</table>\n"
      ],
      "text/latex": [
       "\\begin{tabular}{r|llllllll}\n",
       "  & Df & AIC & BIC & logLik & deviance & Chisq & Chi Df & Pr(>Chisq)\\\\\n",
       "\\hline\n",
       "\tm0 & 3            & -224.1107    & -215.5313    & 115.0554     & -230.1107    &       NA     & NA           &           NA\\\\\n",
       "\tm3 & 4            & -253.5888    & -242.1496    & 130.7944     & -261.5888    & 31.47812     &  1           & 2.017007e-08\\\\\n",
       "\\end{tabular}\n"
      ],
      "text/markdown": [
       "\n",
       "| <!--/--> | Df | AIC | BIC | logLik | deviance | Chisq | Chi Df | Pr(>Chisq) | \n",
       "|---|---|\n",
       "| m0 | 3            | -224.1107    | -215.5313    | 115.0554     | -230.1107    |       NA     | NA           |           NA | \n",
       "| m3 | 4            | -253.5888    | -242.1496    | 130.7944     | -261.5888    | 31.47812     |  1           | 2.017007e-08 | \n",
       "\n",
       "\n"
      ],
      "text/plain": [
       "   Df AIC       BIC       logLik   deviance  Chisq    Chi Df Pr(>Chisq)  \n",
       "m0 3  -224.1107 -215.5313 115.0554 -230.1107       NA NA               NA\n",
       "m3 4  -253.5888 -242.1496 130.7944 -261.5888 31.47812  1     2.017007e-08"
      ]
     },
     "metadata": {},
     "output_type": "display_data"
    }
   ],
   "source": [
    "m0 <- lmer(rt_lag2_clr_pe ~ 1 + (1|sub), data=data, REML=FALSE)\n",
    "m1 <- lmer(rt_lag2_clr_pe ~ 1 + pe_clr2_roi0 + (1|sub), data=data, REML=FALSE)\n",
    "m2 <- lmer(rt_lag2_clr_pe ~ 1 + pe_clr2_roi1 + (1|sub), data=data, REML=FALSE)\n",
    "m3 <- lmer(rt_lag2_clr_pe ~ 1 + pe_clr2_roi2 + (1|sub), data=data, REML=FALSE)\n",
    "anova(m0, m1)\n",
    "anova(m0, m2)\n",
    "anova(m0, m3)"
   ]
  },
  {
   "cell_type": "code",
   "execution_count": 80,
   "metadata": {},
   "outputs": [
    {
     "data": {
      "text/plain": [
       "Linear mixed model fit by maximum likelihood  ['lmerMod']\n",
       "Formula: rt_lag2_clr_pe ~ 1 + pe_clr2_roi0 + (1 | sub)\n",
       "   Data: data\n",
       "      AIC       BIC    logLik  deviance  df.resid \n",
       "-248.2884 -236.8492  128.1442 -256.2884       125 \n",
       "Random effects:\n",
       " Groups   Name        Std.Dev.\n",
       " sub      (Intercept) 0.009214\n",
       " Residual             0.089182\n",
       "Number of obs: 129, groups:  sub, 6\n",
       "Fixed Effects:\n",
       " (Intercept)  pe_clr2_roi0  \n",
       "  -5.235e-02     5.897e-05  "
      ]
     },
     "metadata": {},
     "output_type": "display_data"
    }
   ],
   "source": [
    "m1"
   ]
  },
  {
   "cell_type": "code",
   "execution_count": 81,
   "metadata": {},
   "outputs": [
    {
     "data": {
      "text/plain": [
       "Linear mixed model fit by maximum likelihood  ['lmerMod']\n",
       "Formula: rt_lag2_clr_pe ~ 1 + pe_clr2_roi1 + (1 | sub)\n",
       "   Data: data\n",
       "      AIC       BIC    logLik  deviance  df.resid \n",
       "-234.5799 -223.1407  121.2900 -242.5799       125 \n",
       "Random effects:\n",
       " Groups   Name        Std.Dev.\n",
       " sub      (Intercept) 0.001413\n",
       " Residual             0.094488\n",
       "Number of obs: 129, groups:  sub, 6\n",
       "Fixed Effects:\n",
       " (Intercept)  pe_clr2_roi1  \n",
       "  -5.065e-02     3.367e-05  "
      ]
     },
     "metadata": {},
     "output_type": "display_data"
    }
   ],
   "source": [
    "m2"
   ]
  },
  {
   "cell_type": "code",
   "execution_count": 82,
   "metadata": {},
   "outputs": [
    {
     "data": {
      "text/plain": [
       "Linear mixed model fit by maximum likelihood  ['lmerMod']\n",
       "Formula: rt_lag2_clr_pe ~ 1 + pe_clr2_roi2 + (1 | sub)\n",
       "   Data: data\n",
       "      AIC       BIC    logLik  deviance  df.resid \n",
       "-253.5888 -242.1496  130.7944 -261.5888       125 \n",
       "Random effects:\n",
       " Groups   Name        Std.Dev.\n",
       " sub      (Intercept) 0.00000 \n",
       " Residual             0.08779 \n",
       "Number of obs: 129, groups:  sub, 6\n",
       "Fixed Effects:\n",
       " (Intercept)  pe_clr2_roi2  \n",
       "  -5.008e-02     5.543e-05  "
      ]
     },
     "metadata": {},
     "output_type": "display_data"
    }
   ],
   "source": [
    "m3"
   ]
  },
  {
   "cell_type": "markdown",
   "metadata": {},
   "source": [
    "### Location lag1"
   ]
  },
  {
   "cell_type": "code",
   "execution_count": 89,
   "metadata": {},
   "outputs": [
    {
     "data": {
      "text/html": [
       "<table>\n",
       "<thead><tr><th></th><th scope=col>Df</th><th scope=col>AIC</th><th scope=col>BIC</th><th scope=col>logLik</th><th scope=col>deviance</th><th scope=col>Chisq</th><th scope=col>Chi Df</th><th scope=col>Pr(&gt;Chisq)</th></tr></thead>\n",
       "<tbody>\n",
       "\t<tr><th scope=row>m0</th><td>3           </td><td>-408.8299   </td><td>-400.2505   </td><td>207.4149    </td><td>-414.8299   </td><td>      NA    </td><td>NA          </td><td>          NA</td></tr>\n",
       "\t<tr><th scope=row>m1</th><td>4           </td><td>-423.8407   </td><td>-412.4015   </td><td>215.9204    </td><td>-431.8407   </td><td>17.01082    </td><td> 1          </td><td>3.716739e-05</td></tr>\n",
       "</tbody>\n",
       "</table>\n"
      ],
      "text/latex": [
       "\\begin{tabular}{r|llllllll}\n",
       "  & Df & AIC & BIC & logLik & deviance & Chisq & Chi Df & Pr(>Chisq)\\\\\n",
       "\\hline\n",
       "\tm0 & 3            & -408.8299    & -400.2505    & 207.4149     & -414.8299    &       NA     & NA           &           NA\\\\\n",
       "\tm1 & 4            & -423.8407    & -412.4015    & 215.9204     & -431.8407    & 17.01082     &  1           & 3.716739e-05\\\\\n",
       "\\end{tabular}\n"
      ],
      "text/markdown": [
       "\n",
       "| <!--/--> | Df | AIC | BIC | logLik | deviance | Chisq | Chi Df | Pr(>Chisq) | \n",
       "|---|---|\n",
       "| m0 | 3            | -408.8299    | -400.2505    | 207.4149     | -414.8299    |       NA     | NA           |           NA | \n",
       "| m1 | 4            | -423.8407    | -412.4015    | 215.9204     | -431.8407    | 17.01082     |  1           | 3.716739e-05 | \n",
       "\n",
       "\n"
      ],
      "text/plain": [
       "   Df AIC       BIC       logLik   deviance  Chisq    Chi Df Pr(>Chisq)  \n",
       "m0 3  -408.8299 -400.2505 207.4149 -414.8299       NA NA               NA\n",
       "m1 4  -423.8407 -412.4015 215.9204 -431.8407 17.01082  1     3.716739e-05"
      ]
     },
     "metadata": {},
     "output_type": "display_data"
    },
    {
     "data": {
      "text/html": [
       "<table>\n",
       "<thead><tr><th></th><th scope=col>Df</th><th scope=col>AIC</th><th scope=col>BIC</th><th scope=col>logLik</th><th scope=col>deviance</th><th scope=col>Chisq</th><th scope=col>Chi Df</th><th scope=col>Pr(&gt;Chisq)</th></tr></thead>\n",
       "<tbody>\n",
       "\t<tr><th scope=row>m0</th><td>3         </td><td>-408.8299 </td><td>-400.2505 </td><td>207.4149  </td><td>-414.8299 </td><td>      NA  </td><td>NA        </td><td>        NA</td></tr>\n",
       "\t<tr><th scope=row>m2</th><td>4         </td><td>-410.9422 </td><td>-399.5030 </td><td>209.4711  </td><td>-418.9422 </td><td>4.112342  </td><td> 1        </td><td>0.04257136</td></tr>\n",
       "</tbody>\n",
       "</table>\n"
      ],
      "text/latex": [
       "\\begin{tabular}{r|llllllll}\n",
       "  & Df & AIC & BIC & logLik & deviance & Chisq & Chi Df & Pr(>Chisq)\\\\\n",
       "\\hline\n",
       "\tm0 & 3          & -408.8299  & -400.2505  & 207.4149   & -414.8299  &       NA   & NA         &         NA\\\\\n",
       "\tm2 & 4          & -410.9422  & -399.5030  & 209.4711   & -418.9422  & 4.112342   &  1         & 0.04257136\\\\\n",
       "\\end{tabular}\n"
      ],
      "text/markdown": [
       "\n",
       "| <!--/--> | Df | AIC | BIC | logLik | deviance | Chisq | Chi Df | Pr(>Chisq) | \n",
       "|---|---|\n",
       "| m0 | 3          | -408.8299  | -400.2505  | 207.4149   | -414.8299  |       NA   | NA         |         NA | \n",
       "| m2 | 4          | -410.9422  | -399.5030  | 209.4711   | -418.9422  | 4.112342   |  1         | 0.04257136 | \n",
       "\n",
       "\n"
      ],
      "text/plain": [
       "   Df AIC       BIC       logLik   deviance  Chisq    Chi Df Pr(>Chisq)\n",
       "m0 3  -408.8299 -400.2505 207.4149 -414.8299       NA NA             NA\n",
       "m2 4  -410.9422 -399.5030 209.4711 -418.9422 4.112342  1     0.04257136"
      ]
     },
     "metadata": {},
     "output_type": "display_data"
    }
   ],
   "source": [
    "m0 <- lmer(rt_lag1_loc_pe ~ 1 + (1|sub), data=data, REML=FALSE)\n",
    "m1 <- lmer(rt_lag1_loc_pe ~ 1 + pe_loc1_roi0 + (1|sub), data=data, REML=FALSE)\n",
    "m2 <- lmer(rt_lag1_loc_pe ~ 1 + pe_loc1_roi1 + (1|sub), data=data, REML=FALSE)\n",
    "\n",
    "anova(m0, m1)\n",
    "anova(m0, m2)"
   ]
  },
  {
   "cell_type": "code",
   "execution_count": 90,
   "metadata": {},
   "outputs": [
    {
     "data": {
      "text/plain": [
       "Linear mixed model fit by maximum likelihood  ['lmerMod']\n",
       "Formula: rt_lag1_loc_pe ~ 1 + pe_loc1_roi0 + (1 | sub)\n",
       "   Data: data\n",
       "      AIC       BIC    logLik  deviance  df.resid \n",
       "-423.8407 -412.4015  215.9204 -431.8407       125 \n",
       "Random effects:\n",
       " Groups   Name        Std.Dev.\n",
       " sub      (Intercept) 0.01051 \n",
       " Residual             0.04457 \n",
       "Number of obs: 129, groups:  sub, 6\n",
       "Fixed Effects:\n",
       " (Intercept)  pe_loc1_roi0  \n",
       "   -0.042556      0.000063  "
      ]
     },
     "metadata": {},
     "output_type": "display_data"
    }
   ],
   "source": [
    "m1"
   ]
  },
  {
   "cell_type": "code",
   "execution_count": 91,
   "metadata": {},
   "outputs": [
    {
     "data": {
      "text/plain": [
       "Linear mixed model fit by maximum likelihood  ['lmerMod']\n",
       "Formula: rt_lag1_loc_pe ~ 1 + pe_loc1_roi1 + (1 | sub)\n",
       "   Data: data\n",
       "      AIC       BIC    logLik  deviance  df.resid \n",
       "-410.9422 -399.5030  209.4711 -418.9422       125 \n",
       "Random effects:\n",
       " Groups   Name        Std.Dev.\n",
       " sub      (Intercept) 0.008863\n",
       " Residual             0.047088\n",
       "Number of obs: 129, groups:  sub, 6\n",
       "Fixed Effects:\n",
       " (Intercept)  pe_loc1_roi1  \n",
       "  -4.485e-02     3.182e-05  "
      ]
     },
     "metadata": {},
     "output_type": "display_data"
    }
   ],
   "source": [
    "m2"
   ]
  },
  {
   "cell_type": "markdown",
   "metadata": {},
   "source": [
    "### Location lag2"
   ]
  },
  {
   "cell_type": "code",
   "execution_count": 84,
   "metadata": {},
   "outputs": [
    {
     "data": {
      "text/html": [
       "<table>\n",
       "<thead><tr><th></th><th scope=col>Df</th><th scope=col>AIC</th><th scope=col>BIC</th><th scope=col>logLik</th><th scope=col>deviance</th><th scope=col>Chisq</th><th scope=col>Chi Df</th><th scope=col>Pr(&gt;Chisq)</th></tr></thead>\n",
       "<tbody>\n",
       "\t<tr><th scope=row>m0</th><td>3           </td><td>-237.1655   </td><td>-228.5861   </td><td>121.5828    </td><td>-243.1655   </td><td>      NA    </td><td>NA          </td><td>          NA</td></tr>\n",
       "\t<tr><th scope=row>m1</th><td>4           </td><td>-248.4096   </td><td>-236.9704   </td><td>128.2048    </td><td>-256.4096   </td><td>13.24412    </td><td> 1          </td><td>0.0002734364</td></tr>\n",
       "</tbody>\n",
       "</table>\n"
      ],
      "text/latex": [
       "\\begin{tabular}{r|llllllll}\n",
       "  & Df & AIC & BIC & logLik & deviance & Chisq & Chi Df & Pr(>Chisq)\\\\\n",
       "\\hline\n",
       "\tm0 & 3            & -237.1655    & -228.5861    & 121.5828     & -243.1655    &       NA     & NA           &           NA\\\\\n",
       "\tm1 & 4            & -248.4096    & -236.9704    & 128.2048     & -256.4096    & 13.24412     &  1           & 0.0002734364\\\\\n",
       "\\end{tabular}\n"
      ],
      "text/markdown": [
       "\n",
       "| <!--/--> | Df | AIC | BIC | logLik | deviance | Chisq | Chi Df | Pr(>Chisq) | \n",
       "|---|---|\n",
       "| m0 | 3            | -237.1655    | -228.5861    | 121.5828     | -243.1655    |       NA     | NA           |           NA | \n",
       "| m1 | 4            | -248.4096    | -236.9704    | 128.2048     | -256.4096    | 13.24412     |  1           | 0.0002734364 | \n",
       "\n",
       "\n"
      ],
      "text/plain": [
       "   Df AIC       BIC       logLik   deviance  Chisq    Chi Df Pr(>Chisq)  \n",
       "m0 3  -237.1655 -228.5861 121.5828 -243.1655       NA NA               NA\n",
       "m1 4  -248.4096 -236.9704 128.2048 -256.4096 13.24412  1     0.0002734364"
      ]
     },
     "metadata": {},
     "output_type": "display_data"
    },
    {
     "data": {
      "text/html": [
       "<table>\n",
       "<thead><tr><th></th><th scope=col>Df</th><th scope=col>AIC</th><th scope=col>BIC</th><th scope=col>logLik</th><th scope=col>deviance</th><th scope=col>Chisq</th><th scope=col>Chi Df</th><th scope=col>Pr(&gt;Chisq)</th></tr></thead>\n",
       "<tbody>\n",
       "\t<tr><th scope=row>m0</th><td>3         </td><td>-237.1655 </td><td>-228.5861 </td><td>121.5828  </td><td>-243.1655 </td><td>      NA  </td><td>NA        </td><td>        NA</td></tr>\n",
       "\t<tr><th scope=row>m2</th><td>4         </td><td>-257.6968 </td><td>-246.2575 </td><td>132.8484  </td><td>-265.6968 </td><td>22.53127  </td><td> 1        </td><td>2.0675e-06</td></tr>\n",
       "</tbody>\n",
       "</table>\n"
      ],
      "text/latex": [
       "\\begin{tabular}{r|llllllll}\n",
       "  & Df & AIC & BIC & logLik & deviance & Chisq & Chi Df & Pr(>Chisq)\\\\\n",
       "\\hline\n",
       "\tm0 & 3          & -237.1655  & -228.5861  & 121.5828   & -243.1655  &       NA   & NA         &         NA\\\\\n",
       "\tm2 & 4          & -257.6968  & -246.2575  & 132.8484   & -265.6968  & 22.53127   &  1         & 2.0675e-06\\\\\n",
       "\\end{tabular}\n"
      ],
      "text/markdown": [
       "\n",
       "| <!--/--> | Df | AIC | BIC | logLik | deviance | Chisq | Chi Df | Pr(>Chisq) | \n",
       "|---|---|\n",
       "| m0 | 3          | -237.1655  | -228.5861  | 121.5828   | -243.1655  |       NA   | NA         |         NA | \n",
       "| m2 | 4          | -257.6968  | -246.2575  | 132.8484   | -265.6968  | 22.53127   |  1         | 2.0675e-06 | \n",
       "\n",
       "\n"
      ],
      "text/plain": [
       "   Df AIC       BIC       logLik   deviance  Chisq    Chi Df Pr(>Chisq)\n",
       "m0 3  -237.1655 -228.5861 121.5828 -243.1655       NA NA             NA\n",
       "m2 4  -257.6968 -246.2575 132.8484 -265.6968 22.53127  1     2.0675e-06"
      ]
     },
     "metadata": {},
     "output_type": "display_data"
    },
    {
     "data": {
      "text/html": [
       "<table>\n",
       "<thead><tr><th></th><th scope=col>Df</th><th scope=col>AIC</th><th scope=col>BIC</th><th scope=col>logLik</th><th scope=col>deviance</th><th scope=col>Chisq</th><th scope=col>Chi Df</th><th scope=col>Pr(&gt;Chisq)</th></tr></thead>\n",
       "<tbody>\n",
       "\t<tr><th scope=row>m0</th><td>3          </td><td>-237.1655  </td><td>-228.5861  </td><td>121.5828   </td><td>-243.1655  </td><td>      NA   </td><td>NA         </td><td>         NA</td></tr>\n",
       "\t<tr><th scope=row>m3</th><td>4          </td><td>-243.6371  </td><td>-232.1979  </td><td>125.8186   </td><td>-251.6371  </td><td>8.471643   </td><td> 1         </td><td>0.003607255</td></tr>\n",
       "</tbody>\n",
       "</table>\n"
      ],
      "text/latex": [
       "\\begin{tabular}{r|llllllll}\n",
       "  & Df & AIC & BIC & logLik & deviance & Chisq & Chi Df & Pr(>Chisq)\\\\\n",
       "\\hline\n",
       "\tm0 & 3           & -237.1655   & -228.5861   & 121.5828    & -243.1655   &       NA    & NA          &          NA\\\\\n",
       "\tm3 & 4           & -243.6371   & -232.1979   & 125.8186    & -251.6371   & 8.471643    &  1          & 0.003607255\\\\\n",
       "\\end{tabular}\n"
      ],
      "text/markdown": [
       "\n",
       "| <!--/--> | Df | AIC | BIC | logLik | deviance | Chisq | Chi Df | Pr(>Chisq) | \n",
       "|---|---|\n",
       "| m0 | 3           | -237.1655   | -228.5861   | 121.5828    | -243.1655   |       NA    | NA          |          NA | \n",
       "| m3 | 4           | -243.6371   | -232.1979   | 125.8186    | -251.6371   | 8.471643    |  1          | 0.003607255 | \n",
       "\n",
       "\n"
      ],
      "text/plain": [
       "   Df AIC       BIC       logLik   deviance  Chisq    Chi Df Pr(>Chisq) \n",
       "m0 3  -237.1655 -228.5861 121.5828 -243.1655       NA NA              NA\n",
       "m3 4  -243.6371 -232.1979 125.8186 -251.6371 8.471643  1     0.003607255"
      ]
     },
     "metadata": {},
     "output_type": "display_data"
    },
    {
     "data": {
      "text/html": [
       "<table>\n",
       "<thead><tr><th></th><th scope=col>Df</th><th scope=col>AIC</th><th scope=col>BIC</th><th scope=col>logLik</th><th scope=col>deviance</th><th scope=col>Chisq</th><th scope=col>Chi Df</th><th scope=col>Pr(&gt;Chisq)</th></tr></thead>\n",
       "<tbody>\n",
       "\t<tr><th scope=row>m0</th><td>3          </td><td>-237.1655  </td><td>-228.5861  </td><td>121.5828   </td><td>-243.1655  </td><td>      NA   </td><td>NA         </td><td>         NA</td></tr>\n",
       "\t<tr><th scope=row>m4</th><td>4          </td><td>-243.3941  </td><td>-231.9549  </td><td>125.6971   </td><td>-251.3941  </td><td>8.228625   </td><td> 1         </td><td>0.004123477</td></tr>\n",
       "</tbody>\n",
       "</table>\n"
      ],
      "text/latex": [
       "\\begin{tabular}{r|llllllll}\n",
       "  & Df & AIC & BIC & logLik & deviance & Chisq & Chi Df & Pr(>Chisq)\\\\\n",
       "\\hline\n",
       "\tm0 & 3           & -237.1655   & -228.5861   & 121.5828    & -243.1655   &       NA    & NA          &          NA\\\\\n",
       "\tm4 & 4           & -243.3941   & -231.9549   & 125.6971    & -251.3941   & 8.228625    &  1          & 0.004123477\\\\\n",
       "\\end{tabular}\n"
      ],
      "text/markdown": [
       "\n",
       "| <!--/--> | Df | AIC | BIC | logLik | deviance | Chisq | Chi Df | Pr(>Chisq) | \n",
       "|---|---|\n",
       "| m0 | 3           | -237.1655   | -228.5861   | 121.5828    | -243.1655   |       NA    | NA          |          NA | \n",
       "| m4 | 4           | -243.3941   | -231.9549   | 125.6971    | -251.3941   | 8.228625    |  1          | 0.004123477 | \n",
       "\n",
       "\n"
      ],
      "text/plain": [
       "   Df AIC       BIC       logLik   deviance  Chisq    Chi Df Pr(>Chisq) \n",
       "m0 3  -237.1655 -228.5861 121.5828 -243.1655       NA NA              NA\n",
       "m4 4  -243.3941 -231.9549 125.6971 -251.3941 8.228625  1     0.004123477"
      ]
     },
     "metadata": {},
     "output_type": "display_data"
    }
   ],
   "source": [
    "m0 <- lmer(rt_lag2_loc_pe ~ 1 + (1|sub), data=data, REML=FALSE)\n",
    "m1 <- lmer(rt_lag2_loc_pe ~ 1 + pe_loc2_roi0 + (1|sub), data=data, REML=FALSE)\n",
    "m2 <- lmer(rt_lag2_loc_pe ~ 1 + pe_loc2_roi1 + (1|sub), data=data, REML=FALSE)\n",
    "m3 <- lmer(rt_lag2_loc_pe ~ 1 + pe_loc2_roi2 + (1|sub), data=data, REML=FALSE)\n",
    "m4 <- lmer(rt_lag2_loc_pe ~ 1 + pe_loc2_roi3 + (1|sub), data=data, REML=FALSE)\n",
    "\n",
    "anova(m0, m1)\n",
    "anova(m0, m2)\n",
    "anova(m0, m3)\n",
    "anova(m0, m4)"
   ]
  },
  {
   "cell_type": "code",
   "execution_count": 85,
   "metadata": {},
   "outputs": [
    {
     "data": {
      "text/plain": [
       "Linear mixed model fit by maximum likelihood  ['lmerMod']\n",
       "Formula: rt_lag2_loc_pe ~ 1 + pe_loc2_roi0 + (1 | sub)\n",
       "   Data: data\n",
       "      AIC       BIC    logLik  deviance  df.resid \n",
       "-248.4096 -236.9704  128.2048 -256.4096       125 \n",
       "Random effects:\n",
       " Groups   Name        Std.Dev. \n",
       " sub      (Intercept) 1.173e-09\n",
       " Residual             8.957e-02\n",
       "Number of obs: 129, groups:  sub, 6\n",
       "Fixed Effects:\n",
       " (Intercept)  pe_loc2_roi0  \n",
       "  -4.725e-02     5.242e-05  "
      ]
     },
     "metadata": {},
     "output_type": "display_data"
    }
   ],
   "source": [
    "m1"
   ]
  },
  {
   "cell_type": "code",
   "execution_count": 86,
   "metadata": {},
   "outputs": [
    {
     "data": {
      "text/plain": [
       "Linear mixed model fit by maximum likelihood  ['lmerMod']\n",
       "Formula: rt_lag2_loc_pe ~ 1 + pe_loc2_roi1 + (1 | sub)\n",
       "   Data: data\n",
       "      AIC       BIC    logLik  deviance  df.resid \n",
       "-257.6968 -246.2575  132.8484 -265.6968       125 \n",
       "Random effects:\n",
       " Groups   Name        Std.Dev.\n",
       " sub      (Intercept) 0.0000  \n",
       " Residual             0.0864  \n",
       "Number of obs: 129, groups:  sub, 6\n",
       "Fixed Effects:\n",
       " (Intercept)  pe_loc2_roi1  \n",
       "  -4.687e-02     6.096e-05  "
      ]
     },
     "metadata": {},
     "output_type": "display_data"
    }
   ],
   "source": [
    "m2"
   ]
  },
  {
   "cell_type": "code",
   "execution_count": 87,
   "metadata": {},
   "outputs": [
    {
     "data": {
      "text/plain": [
       "Linear mixed model fit by maximum likelihood  ['lmerMod']\n",
       "Formula: rt_lag2_loc_pe ~ 1 + pe_loc2_roi2 + (1 | sub)\n",
       "   Data: data\n",
       "      AIC       BIC    logLik  deviance  df.resid \n",
       "-243.6371 -232.1979  125.8186 -251.6371       125 \n",
       "Random effects:\n",
       " Groups   Name        Std.Dev.\n",
       " sub      (Intercept) 0.00000 \n",
       " Residual             0.09124 \n",
       "Number of obs: 129, groups:  sub, 6\n",
       "Fixed Effects:\n",
       " (Intercept)  pe_loc2_roi2  \n",
       "  -4.519e-02     3.774e-05  "
      ]
     },
     "metadata": {},
     "output_type": "display_data"
    }
   ],
   "source": [
    "m3"
   ]
  },
  {
   "cell_type": "code",
   "execution_count": 88,
   "metadata": {},
   "outputs": [
    {
     "data": {
      "text/plain": [
       "Linear mixed model fit by maximum likelihood  ['lmerMod']\n",
       "Formula: rt_lag2_loc_pe ~ 1 + pe_loc2_roi3 + (1 | sub)\n",
       "   Data: data\n",
       "      AIC       BIC    logLik  deviance  df.resid \n",
       "-243.3941 -231.9549  125.6971 -251.3941       125 \n",
       "Random effects:\n",
       " Groups   Name        Std.Dev.\n",
       " sub      (Intercept) 0.00000 \n",
       " Residual             0.09132 \n",
       "Number of obs: 129, groups:  sub, 6\n",
       "Fixed Effects:\n",
       " (Intercept)  pe_loc2_roi3  \n",
       "  -4.516e-02     3.989e-05  "
      ]
     },
     "metadata": {},
     "output_type": "display_data"
    }
   ],
   "source": [
    "m4"
   ]
  },
  {
   "cell_type": "code",
   "execution_count": null,
   "metadata": {},
   "outputs": [],
   "source": []
  }
 ],
 "metadata": {
  "kernelspec": {
   "display_name": "R",
   "language": "R",
   "name": "ir"
  },
  "language_info": {
   "codemirror_mode": "r",
   "file_extension": ".r",
   "mimetype": "text/x-r-source",
   "name": "R",
   "pygments_lexer": "r",
   "version": "3.4.3"
  }
 },
 "nbformat": 4,
 "nbformat_minor": 2
}
