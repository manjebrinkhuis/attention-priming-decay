{
 "cells": [
  {
   "cell_type": "code",
   "execution_count": null,
   "metadata": {},
   "outputs": [],
   "source": [
    "# install.packages(\"lme4\")\n",
    "# install.packages(\"nlme\")"
   ]
  },
  {
   "cell_type": "code",
   "execution_count": null,
   "metadata": {},
   "outputs": [],
   "source": [
    "# Load the libraries\n",
    "library(\"lme4\")"
   ]
  },
  {
   "cell_type": "markdown",
   "metadata": {},
   "source": [
    "# Analysis of behavioral data\n",
    "\n",
    "## Run linear mixed models in R"
   ]
  },
  {
   "cell_type": "markdown",
   "metadata": {},
   "source": [
    "We're following a model comparison approach. So, we create several models with added factors in each new model to compare iteratively. Subject ID is always included as random factor.\n",
    "\n",
    "For more details and explanations, please see our paper.\n",
    "\n",
    "Raw response times have been normalized by subtracting linear slopes, subtracting the mean and dividing by standard deviation. These data were then tranformed by adding the grand mean and multiplying by the grand standard deviation of the raw data, to better represent the actual scale. Note that this last step has no effect on the following analyses.\n",
    "\n",
    "- **M0** normalized reaction time (RT) modeled by intercept.\n",
    "- **M1A** normalized RT modeled by intercept and lag-1 color repetition\n",
    "- **M2A** normalized RT modeled by intercept and lag-1 + lag-2 color repetition\n",
    "- **M3A** normalized RT modeled by intercept and lag-2 color repetition\n",
    "- **M1B** normalized RT modeled by intercept and lag-1 location repetition\n",
    "- **M2B** normalized RT modeled by intercept and lag-1 + lag-2 location repetition\n",
    "- **M3B** normalized RT modeled by intercept and lag-2 location repetition\n",
    "- **M1C** normalized RT modeled by intercept and lag-1 color and location repetition\n",
    "- **M2C** normalized RT modeled by intercept and lag-1 + lag-2 color and location repetition\n"
   ]
  },
  {
   "cell_type": "code",
   "execution_count": null,
   "metadata": {},
   "outputs": [],
   "source": [
    "# Load the data\n",
    "data <- read.csv(\"../data/regs_and_rts.csv\")"
   ]
  },
  {
   "cell_type": "code",
   "execution_count": null,
   "metadata": {},
   "outputs": [],
   "source": [
    "# Using lme gives identical results as lme4\n",
    "# library(\"nlme\")"
   ]
  },
  {
   "cell_type": "code",
   "execution_count": null,
   "metadata": {},
   "outputs": [],
   "source": [
    "# m0 <- lme(norm_rt ~ 1, random=~1|sub, data=data, method=\"ML\")\n",
    "# m1a <- lme(norm_rt ~ 1 + lag1_clr, random = ~1|sub, data=data, method=\"ML\")\n",
    "# m2a <- lme(norm_rt ~ 1 + lag1_clr + lag2_clr, random=~1|sub, data=data, method=\"ML\")\n",
    "# m3a <- lme(norm_rt ~ 1 + lag2_clr, random=~1|sub, data=data, method=\"ML\")\n",
    "# m1b <- lme(norm_rt ~ 1 + lag1_loc, random = ~1|sub, data=data, method=\"ML\")\n",
    "# m2b <- lme(norm_rt ~ 1 + lag1_loc + lag2_loc, random=~1|sub, data=data, method=\"ML\")\n",
    "# m3b <- lme(norm_rt ~ 1 + lag2_loc, random=~1|sub, data=data, method=\"ML\")\n",
    "# m1c <- lme(norm_rt ~ 1 + lag1_clr + lag1_loc, random = ~1|sub, data=data, method=\"ML\")\n",
    "# m2c <- lme(norm_rt ~ 1 + lag1_clr + lag2_clr + lag1_loc + lag2_loc, random=~1|sub, data=data, method=\"ML\")"
   ]
  },
  {
   "cell_type": "code",
   "execution_count": null,
   "metadata": {},
   "outputs": [],
   "source": [
    "# anova(m0, m1a, m2a)\n",
    "# anova(m0, m1b, m2b)\n",
    "# anova(m0, m1c, m2c)"
   ]
  },
  {
   "cell_type": "code",
   "execution_count": null,
   "metadata": {},
   "outputs": [],
   "source": [
    "# Using lme4\n",
    "m0 <- lmer(norm_rt ~ 1 + (1|sub), data=data, REML=FALSE, control = lmerControl(optimizer =\"Nelder_Mead\"))\n",
    "m1a <- lmer(norm_rt ~ lag1_clr + (1|sub), data=data, REML=FALSE, control = lmerControl(optimizer =\"Nelder_Mead\"))\n",
    "m2a <- lmer(norm_rt ~ lag1_clr + lag2_clr + (1|sub), data=data, REML=FALSE, control = lmerControl(optimizer =\"Nelder_Mead\"))\n",
    "m3a <- lmer(norm_rt ~ lag2_clr + (1|sub), data=data, REML=FALSE, control = lmerControl(optimizer =\"Nelder_Mead\"))\n",
    "m1b <- lmer(norm_rt ~ lag1_loc + (1|sub), data=data, REML=FALSE, control = lmerControl(optimizer =\"Nelder_Mead\"))\n",
    "m2b <- lmer(norm_rt ~ lag1_loc + lag2_loc + (1|sub), data=data, REML=FALSE, control = lmerControl(optimizer =\"Nelder_Mead\"))\n",
    "m3b <- lmer(norm_rt ~ lag2_loc + (1|sub), data=data, REML=FALSE, control = lmerControl(optimizer =\"Nelder_Mead\"))\n",
    "m1a <- lmer(norm_rt ~ lag1_clr + (1|sub), data=data, REML=FALSE, control = lmerControl(optimizer =\"Nelder_Mead\"))\n",
    "m2a <- lmer(norm_rt ~ lag1_clr + lag2_clr + (1|sub), data=data, REML=FALSE, control = lmerControl(optimizer =\"Nelder_Mead\"))\n",
    "m1c <- lmer(norm_rt ~ lag1_loc + lag1_clr + (1|sub), data=data, REML=FALSE, control = lmerControl(optimizer =\"Nelder_Mead\"))\n",
    "m2c <- lmer(norm_rt ~ lag1_loc + lag2_loc + lag1_clr + lag2_clr + (1|sub), data=data, REML=FALSE, control = lmerControl(optimizer =\"Nelder_Mead\"))\n",
    "\n",
    "anova(m0, m1a, m2a)\n",
    "anova(m0, m1b, m2b)\n",
    "anova(m0, m1c, m2c)"
   ]
  },
  {
   "cell_type": "markdown",
   "metadata": {},
   "source": [
    "Sanity check if our output makes sense. If we shuffle the data, do we lose our effects?"
   ]
  },
  {
   "cell_type": "code",
   "execution_count": null,
   "metadata": {},
   "outputs": [],
   "source": [
    "shuffled_rt <- data$norm_rt[sample(nrow(data))]\n",
    "data$shuffled_rt <- shuffled_rt"
   ]
  },
  {
   "cell_type": "code",
   "execution_count": null,
   "metadata": {},
   "outputs": [],
   "source": [
    "m0 <- lmer(shuffled_rt ~ 1 + (1|sub), data=data, REML=FALSE, control = lmerControl(optimizer =\"Nelder_Mead\"))\n",
    "m1a <- lmer(shuffled_rt ~ lag1_clr + (1|sub), data=data, REML=FALSE, control = lmerControl(optimizer =\"Nelder_Mead\"))\n",
    "m2a <- lmer(shuffled_rt ~ lag1_clr + lag2_clr + (1|sub), data=data, REML=FALSE, control = lmerControl(optimizer =\"Nelder_Mead\"))\n",
    "m1b <- lmer(shuffled_rt ~ lag1_loc + (1|sub), data=data, REML=FALSE, control = lmerControl(optimizer =\"Nelder_Mead\"))\n",
    "m2b <- lmer(shuffled_rt ~ lag1_loc + lag2_loc + (1|sub), data=data, REML=FALSE, control = lmerControl(optimizer =\"Nelder_Mead\"))\n",
    "m1a <- lmer(shuffled_rt ~ lag1_clr + (1|sub), data=data, REML=FALSE, control = lmerControl(optimizer =\"Nelder_Mead\"))\n",
    "m2a <- lmer(shuffled_rt ~ lag1_clr + lag2_clr + (1|sub), data=data, REML=FALSE, control = lmerControl(optimizer =\"Nelder_Mead\"))\n",
    "m1c <- lmer(shuffled_rt ~ lag1_loc + lag1_clr + (1|sub), data=data, REML=FALSE, control = lmerControl(optimizer =\"Nelder_Mead\"))\n",
    "m2c <- lmer(shuffled_rt ~ lag1_loc + lag2_loc + lag1_clr + lag2_clr + (1|sub), data=data, REML=FALSE, control = lmerControl(optimizer =\"Nelder_Mead\"))\n",
    "\n",
    "anova(m0, m1a, m2a)\n",
    "anova(m0, m1b, m2b)\n",
    "anova(m0, m1c, m2c)"
   ]
  },
  {
   "cell_type": "markdown",
   "metadata": {},
   "source": [
    "## Behavioral versus BOLD\n",
    "\n",
    "Which factors, i.e. BOLD signal for overall significant ROIs per experiment run, predict RT? "
   ]
  },
  {
   "cell_type": "code",
   "execution_count": null,
   "metadata": {},
   "outputs": [],
   "source": [
    "data <- read.csv(\"../data/joined.csv\")"
   ]
  },
  {
   "cell_type": "code",
   "execution_count": null,
   "metadata": {},
   "outputs": [],
   "source": [
    "m0 <- lmer(rt_lag1_clr_pe ~ 1 + (1|sub), data=data, REML=FALSE)\n",
    "m1 <- lmer(rt_lag1_clr_pe ~ 1 + pe_clr1_roi0 + pe_clr1_roi1 + pe_clr1_roi2 + pe_clr1_roi3 + (1|sub), data=data, REML=FALSE)\n",
    "anova(m0, m1)"
   ]
  },
  {
   "cell_type": "code",
   "execution_count": null,
   "metadata": {},
   "outputs": [],
   "source": [
    "m0 <- lmer(rt_lag2_clr_pe ~ 1 + (1|sub), data=data, REML=FALSE)\n",
    "m2 <- lmer(rt_lag2_clr_pe ~ 1 + pe_clr2_roi0 + pe_clr2_roi1 + pe_clr2_roi2 + (1|sub), data=data, REML=FALSE)\n",
    "anova(m0, m2)"
   ]
  },
  {
   "cell_type": "code",
   "execution_count": null,
   "metadata": {},
   "outputs": [],
   "source": [
    "shuffled_pe <- data$rt_lag2_clr_pe[sample(nrow(data))]\n",
    "data$shuffled_pe <- shuffled_pe\n",
    "m0 <- lmer(shuffled_pe ~ 1 + (1|sub), data=data, REML=FALSE)\n",
    "m2 <- lmer(shuffled_pe ~ 1 + pe_clr2_roi0 + pe_clr2_roi1 + pe_clr2_roi2 + (1|sub), data=data, REML=FALSE)\n",
    "anova(m0, m2)"
   ]
  },
  {
   "cell_type": "code",
   "execution_count": null,
   "metadata": {},
   "outputs": [],
   "source": [
    "m0 <- lmer(rt_lag1_loc_pe ~ 1 + (1|sub), data=data, REML=FALSE)\n",
    "m3 <- lmer(rt_lag1_loc_pe ~ 1 + pe_loc1_roi0 + pe_loc1_roi1 + (1|sub), data=data, REML=FALSE)\n",
    "anova(m0, m3)"
   ]
  },
  {
   "cell_type": "code",
   "execution_count": null,
   "metadata": {},
   "outputs": [],
   "source": [
    "m0 <- lmer(rt_lag2_loc_pe ~ 1 + (1|sub), data=data, REML=FALSE)\n",
    "m4 <- lmer(rt_lag2_loc_pe ~ 1 + pe_loc2_roi0 + pe_loc2_roi1 + pe_loc2_roi2 + pe_loc2_roi3 + pe_loc2_roi4 + (1|sub), data=data, REML=FALSE)\n",
    "anova(m0, m4)"
   ]
  },
  {
   "cell_type": "markdown",
   "metadata": {},
   "source": [
    "## Check per roi and if individual fixed effects are positive"
   ]
  },
  {
   "cell_type": "markdown",
   "metadata": {},
   "source": [
    "### Color lag1"
   ]
  },
  {
   "cell_type": "code",
   "execution_count": null,
   "metadata": {},
   "outputs": [],
   "source": [
    "m0 <- lmer(rt_lag1_clr_pe ~ 1 + (1|sub), data=data, REML=FALSE)\n",
    "m1 <- lmer(rt_lag1_clr_pe ~ 1 + pe_clr1_roi0 + (1|sub), data=data, REML=FALSE)\n",
    "m2 <- lmer(rt_lag1_clr_pe ~ 1 + pe_clr1_roi1 + (1|sub), data=data, REML=FALSE)\n",
    "m3 <- lmer(rt_lag1_clr_pe ~ 1 + pe_clr1_roi2 + (1|sub), data=data, REML=FALSE)\n",
    "m4 <- lmer(rt_lag1_clr_pe ~ 1 + pe_clr1_roi3 + (1|sub), data=data, REML=FALSE)\n",
    "anova(m0, m1)\n",
    "anova(m0, m2)\n",
    "anova(m0, m3)\n",
    "anova(m0, m4)"
   ]
  },
  {
   "cell_type": "markdown",
   "metadata": {},
   "source": [
    "### Color lag2"
   ]
  },
  {
   "cell_type": "code",
   "execution_count": null,
   "metadata": {},
   "outputs": [],
   "source": [
    "m0 <- lmer(rt_lag2_clr_pe ~ 1 + (1|sub), data=data, REML=FALSE)\n",
    "m1 <- lmer(rt_lag2_clr_pe ~ 1 + pe_clr2_roi0 + (1|sub), data=data, REML=FALSE)\n",
    "m2 <- lmer(rt_lag2_clr_pe ~ 1 + pe_clr2_roi1 + (1|sub), data=data, REML=FALSE)\n",
    "m3 <- lmer(rt_lag2_clr_pe ~ 1 + pe_clr2_roi2 + (1|sub), data=data, REML=FALSE)\n",
    "anova(m0, m1)\n",
    "anova(m0, m2)\n",
    "anova(m0, m3)"
   ]
  },
  {
   "cell_type": "markdown",
   "metadata": {},
   "source": [
    "### Location lag1"
   ]
  },
  {
   "cell_type": "code",
   "execution_count": null,
   "metadata": {},
   "outputs": [],
   "source": [
    "m0 <- lmer(rt_lag1_loc_pe ~ 1 + (1|sub), data=data, REML=FALSE)\n",
    "m1 <- lmer(rt_lag1_loc_pe ~ 1 + pe_loc1_roi0 + (1|sub), data=data, REML=FALSE)\n",
    "m2 <- lmer(rt_lag1_loc_pe ~ 1 + pe_loc1_roi1 + (1|sub), data=data, REML=FALSE)\n",
    "\n",
    "anova(m0, m1)\n",
    "anova(m0, m2)"
   ]
  },
  {
   "cell_type": "markdown",
   "metadata": {},
   "source": [
    "### Location lag2"
   ]
  },
  {
   "cell_type": "code",
   "execution_count": null,
   "metadata": {},
   "outputs": [],
   "source": [
    "m0 <- lmer(rt_lag2_loc_pe ~ 1 + (1|sub), data=data, REML=FALSE)\n",
    "m1 <- lmer(rt_lag2_loc_pe ~ 1 + pe_loc2_roi0 + (1|sub), data=data, REML=FALSE)\n",
    "m2 <- lmer(rt_lag2_loc_pe ~ 1 + pe_loc2_roi1 + (1|sub), data=data, REML=FALSE)\n",
    "m3 <- lmer(rt_lag2_loc_pe ~ 1 + pe_loc2_roi2 + (1|sub), data=data, REML=FALSE)\n",
    "m4 <- lmer(rt_lag2_loc_pe ~ 1 + pe_loc2_roi3 + (1|sub), data=data, REML=FALSE)\n",
    "m5 <- lmer(rt_lag2_loc_pe ~ 1 + pe_loc2_roi4 + (1|sub), data=data, REML=FALSE)\n",
    "\n",
    "anova(m0, m1)\n",
    "anova(m0, m2)\n",
    "anova(m0, m3)\n",
    "anova(m0, m4)\n",
    "anova(m0, m5)"
   ]
  }
 ],
 "metadata": {
  "kernelspec": {
   "display_name": "R",
   "language": "R",
   "name": "ir"
  },
  "language_info": {
   "codemirror_mode": "r",
   "file_extension": ".r",
   "mimetype": "text/x-r-source",
   "name": "R",
   "pygments_lexer": "r",
   "version": "3.4.3"
  }
 },
 "nbformat": 4,
 "nbformat_minor": 4
}
