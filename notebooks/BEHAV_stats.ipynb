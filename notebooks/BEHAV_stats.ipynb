{
 "cells": [
  {
   "cell_type": "code",
   "execution_count": 1,
   "metadata": {},
   "outputs": [
    {
     "name": "stderr",
     "output_type": "stream",
     "text": [
      "Updating HTML index of packages in '.Library'\n",
      "Making 'packages.html' ... done\n"
     ]
    }
   ],
   "source": [
    "install.packages(\"lme4\")"
   ]
  },
  {
   "cell_type": "code",
   "execution_count": 1,
   "metadata": {},
   "outputs": [
    {
     "name": "stderr",
     "output_type": "stream",
     "text": [
      "Loading required package: Matrix\n"
     ]
    }
   ],
   "source": [
    "library(\"lme4\")"
   ]
  },
  {
   "cell_type": "code",
   "execution_count": 2,
   "metadata": {},
   "outputs": [],
   "source": [
    "data <- read.csv(\"../data/regs_and_rts.csv\")"
   ]
  },
  {
   "cell_type": "code",
   "execution_count": 7,
   "metadata": {},
   "outputs": [
    {
     "data": {
      "text/html": [
       "<table>\n",
       "<thead><tr><th></th><th scope=col>Df</th><th scope=col>AIC</th><th scope=col>BIC</th><th scope=col>logLik</th><th scope=col>deviance</th><th scope=col>Chisq</th><th scope=col>Chi Df</th><th scope=col>Pr(&gt;Chisq)</th></tr></thead>\n",
       "<tbody>\n",
       "\t<tr><th scope=row>m0</th><td>3           </td><td>-4019.448   </td><td>-3997.166   </td><td>2012.724    </td><td>-4025.448   </td><td>      NA    </td><td>NA          </td><td>          NA</td></tr>\n",
       "\t<tr><th scope=row>m3b</th><td>4           </td><td>-4091.359   </td><td>-4061.649   </td><td>2049.679    </td><td>-4099.359   </td><td>73.91075    </td><td> 1          </td><td>8.173013e-18</td></tr>\n",
       "</tbody>\n",
       "</table>\n"
      ],
      "text/latex": [
       "\\begin{tabular}{r|llllllll}\n",
       "  & Df & AIC & BIC & logLik & deviance & Chisq & Chi Df & Pr(>Chisq)\\\\\n",
       "\\hline\n",
       "\tm0 & 3            & -4019.448    & -3997.166    & 2012.724     & -4025.448    &       NA     & NA           &           NA\\\\\n",
       "\tm3b & 4            & -4091.359    & -4061.649    & 2049.679     & -4099.359    & 73.91075     &  1           & 8.173013e-18\\\\\n",
       "\\end{tabular}\n"
      ],
      "text/markdown": [
       "\n",
       "| <!--/--> | Df | AIC | BIC | logLik | deviance | Chisq | Chi Df | Pr(>Chisq) | \n",
       "|---|---|\n",
       "| m0 | 3            | -4019.448    | -3997.166    | 2012.724     | -4025.448    |       NA     | NA           |           NA | \n",
       "| m3b | 4            | -4091.359    | -4061.649    | 2049.679     | -4099.359    | 73.91075     |  1           | 8.173013e-18 | \n",
       "\n",
       "\n"
      ],
      "text/plain": [
       "    Df AIC       BIC       logLik   deviance  Chisq    Chi Df Pr(>Chisq)  \n",
       "m0  3  -4019.448 -3997.166 2012.724 -4025.448       NA NA               NA\n",
       "m3b 4  -4091.359 -4061.649 2049.679 -4099.359 73.91075  1     8.173013e-18"
      ]
     },
     "metadata": {},
     "output_type": "display_data"
    },
    {
     "data": {
      "text/html": [
       "<table>\n",
       "<thead><tr><th></th><th scope=col>Df</th><th scope=col>AIC</th><th scope=col>BIC</th><th scope=col>logLik</th><th scope=col>deviance</th><th scope=col>Chisq</th><th scope=col>Chi Df</th><th scope=col>Pr(&gt;Chisq)</th></tr></thead>\n",
       "<tbody>\n",
       "\t<tr><th scope=row>m0</th><td>3           </td><td>-4019.448   </td><td>-3997.166   </td><td>2012.724    </td><td>-4025.448   </td><td>       NA   </td><td>NA          </td><td>          NA</td></tr>\n",
       "\t<tr><th scope=row>m1a</th><td>4           </td><td>-4250.294   </td><td>-4220.585   </td><td>2129.147    </td><td>-4258.294   </td><td>232.84652   </td><td> 1          </td><td>1.427515e-52</td></tr>\n",
       "\t<tr><th scope=row>m2a</th><td>5           </td><td>-4308.204   </td><td>-4271.067   </td><td>2159.102    </td><td>-4318.204   </td><td> 59.90942   </td><td> 1          </td><td>9.932505e-15</td></tr>\n",
       "</tbody>\n",
       "</table>\n"
      ],
      "text/latex": [
       "\\begin{tabular}{r|llllllll}\n",
       "  & Df & AIC & BIC & logLik & deviance & Chisq & Chi Df & Pr(>Chisq)\\\\\n",
       "\\hline\n",
       "\tm0 & 3            & -4019.448    & -3997.166    & 2012.724     & -4025.448    &        NA    & NA           &           NA\\\\\n",
       "\tm1a & 4            & -4250.294    & -4220.585    & 2129.147     & -4258.294    & 232.84652    &  1           & 1.427515e-52\\\\\n",
       "\tm2a & 5            & -4308.204    & -4271.067    & 2159.102     & -4318.204    &  59.90942    &  1           & 9.932505e-15\\\\\n",
       "\\end{tabular}\n"
      ],
      "text/markdown": [
       "\n",
       "| <!--/--> | Df | AIC | BIC | logLik | deviance | Chisq | Chi Df | Pr(>Chisq) | \n",
       "|---|---|---|\n",
       "| m0 | 3            | -4019.448    | -3997.166    | 2012.724     | -4025.448    |        NA    | NA           |           NA | \n",
       "| m1a | 4            | -4250.294    | -4220.585    | 2129.147     | -4258.294    | 232.84652    |  1           | 1.427515e-52 | \n",
       "| m2a | 5            | -4308.204    | -4271.067    | 2159.102     | -4318.204    |  59.90942    |  1           | 9.932505e-15 | \n",
       "\n",
       "\n"
      ],
      "text/plain": [
       "    Df AIC       BIC       logLik   deviance  Chisq     Chi Df Pr(>Chisq)  \n",
       "m0  3  -4019.448 -3997.166 2012.724 -4025.448        NA NA               NA\n",
       "m1a 4  -4250.294 -4220.585 2129.147 -4258.294 232.84652  1     1.427515e-52\n",
       "m2a 5  -4308.204 -4271.067 2159.102 -4318.204  59.90942  1     9.932505e-15"
      ]
     },
     "metadata": {},
     "output_type": "display_data"
    },
    {
     "data": {
      "text/html": [
       "<table>\n",
       "<thead><tr><th></th><th scope=col>Df</th><th scope=col>AIC</th><th scope=col>BIC</th><th scope=col>logLik</th><th scope=col>deviance</th><th scope=col>Chisq</th><th scope=col>Chi Df</th><th scope=col>Pr(&gt;Chisq)</th></tr></thead>\n",
       "<tbody>\n",
       "\t<tr><th scope=row>m0</th><td>3           </td><td>-4019.448   </td><td>-3997.166   </td><td>2012.724    </td><td>-4025.448   </td><td>       NA   </td><td>NA          </td><td>          NA</td></tr>\n",
       "\t<tr><th scope=row>m1b</th><td>4           </td><td>-4121.661   </td><td>-4091.951   </td><td>2064.830    </td><td>-4129.661   </td><td>104.21272   </td><td> 1          </td><td>1.817201e-24</td></tr>\n",
       "\t<tr><th scope=row>m2b</th><td>5           </td><td>-4195.429   </td><td>-4158.292   </td><td>2102.714    </td><td>-4205.429   </td><td> 75.76785   </td><td> 1          </td><td>3.190542e-18</td></tr>\n",
       "</tbody>\n",
       "</table>\n"
      ],
      "text/latex": [
       "\\begin{tabular}{r|llllllll}\n",
       "  & Df & AIC & BIC & logLik & deviance & Chisq & Chi Df & Pr(>Chisq)\\\\\n",
       "\\hline\n",
       "\tm0 & 3            & -4019.448    & -3997.166    & 2012.724     & -4025.448    &        NA    & NA           &           NA\\\\\n",
       "\tm1b & 4            & -4121.661    & -4091.951    & 2064.830     & -4129.661    & 104.21272    &  1           & 1.817201e-24\\\\\n",
       "\tm2b & 5            & -4195.429    & -4158.292    & 2102.714     & -4205.429    &  75.76785    &  1           & 3.190542e-18\\\\\n",
       "\\end{tabular}\n"
      ],
      "text/markdown": [
       "\n",
       "| <!--/--> | Df | AIC | BIC | logLik | deviance | Chisq | Chi Df | Pr(>Chisq) | \n",
       "|---|---|---|\n",
       "| m0 | 3            | -4019.448    | -3997.166    | 2012.724     | -4025.448    |        NA    | NA           |           NA | \n",
       "| m1b | 4            | -4121.661    | -4091.951    | 2064.830     | -4129.661    | 104.21272    |  1           | 1.817201e-24 | \n",
       "| m2b | 5            | -4195.429    | -4158.292    | 2102.714     | -4205.429    |  75.76785    |  1           | 3.190542e-18 | \n",
       "\n",
       "\n"
      ],
      "text/plain": [
       "    Df AIC       BIC       logLik   deviance  Chisq     Chi Df Pr(>Chisq)  \n",
       "m0  3  -4019.448 -3997.166 2012.724 -4025.448        NA NA               NA\n",
       "m1b 4  -4121.661 -4091.951 2064.830 -4129.661 104.21272  1     1.817201e-24\n",
       "m2b 5  -4195.429 -4158.292 2102.714 -4205.429  75.76785  1     3.190542e-18"
      ]
     },
     "metadata": {},
     "output_type": "display_data"
    },
    {
     "data": {
      "text/html": [
       "<table>\n",
       "<thead><tr><th></th><th scope=col>Df</th><th scope=col>AIC</th><th scope=col>BIC</th><th scope=col>logLik</th><th scope=col>deviance</th><th scope=col>Chisq</th><th scope=col>Chi Df</th><th scope=col>Pr(&gt;Chisq)</th></tr></thead>\n",
       "<tbody>\n",
       "\t<tr><th scope=row>m0</th><td>3           </td><td>-4019.448   </td><td>-3997.166   </td><td>2012.724    </td><td>-4025.448   </td><td>      NA    </td><td>NA          </td><td>          NA</td></tr>\n",
       "\t<tr><th scope=row>m1c</th><td>5           </td><td>-4358.369   </td><td>-4321.232   </td><td>2184.184    </td><td>-4368.369   </td><td>342.9208    </td><td> 2          </td><td>3.433171e-75</td></tr>\n",
       "\t<tr><th scope=row>m2c</th><td>7           </td><td>-4498.304   </td><td>-4446.313   </td><td>2256.152    </td><td>-4512.304   </td><td>143.9349    </td><td> 2          </td><td>5.558114e-32</td></tr>\n",
       "</tbody>\n",
       "</table>\n"
      ],
      "text/latex": [
       "\\begin{tabular}{r|llllllll}\n",
       "  & Df & AIC & BIC & logLik & deviance & Chisq & Chi Df & Pr(>Chisq)\\\\\n",
       "\\hline\n",
       "\tm0 & 3            & -4019.448    & -3997.166    & 2012.724     & -4025.448    &       NA     & NA           &           NA\\\\\n",
       "\tm1c & 5            & -4358.369    & -4321.232    & 2184.184     & -4368.369    & 342.9208     &  2           & 3.433171e-75\\\\\n",
       "\tm2c & 7            & -4498.304    & -4446.313    & 2256.152     & -4512.304    & 143.9349     &  2           & 5.558114e-32\\\\\n",
       "\\end{tabular}\n"
      ],
      "text/markdown": [
       "\n",
       "| <!--/--> | Df | AIC | BIC | logLik | deviance | Chisq | Chi Df | Pr(>Chisq) | \n",
       "|---|---|---|\n",
       "| m0 | 3            | -4019.448    | -3997.166    | 2012.724     | -4025.448    |       NA     | NA           |           NA | \n",
       "| m1c | 5            | -4358.369    | -4321.232    | 2184.184     | -4368.369    | 342.9208     |  2           | 3.433171e-75 | \n",
       "| m2c | 7            | -4498.304    | -4446.313    | 2256.152     | -4512.304    | 143.9349     |  2           | 5.558114e-32 | \n",
       "\n",
       "\n"
      ],
      "text/plain": [
       "    Df AIC       BIC       logLik   deviance  Chisq    Chi Df Pr(>Chisq)  \n",
       "m0  3  -4019.448 -3997.166 2012.724 -4025.448       NA NA               NA\n",
       "m1c 5  -4358.369 -4321.232 2184.184 -4368.369 342.9208  2     3.433171e-75\n",
       "m2c 7  -4498.304 -4446.313 2256.152 -4512.304 143.9349  2     5.558114e-32"
      ]
     },
     "metadata": {},
     "output_type": "display_data"
    }
   ],
   "source": [
    "m0 <- lmer(norm_rt ~ 1 + (1|sub), data=data, REML=FALSE, control = lmerControl(optimizer =\"Nelder_Mead\"))\n",
    "m1a <- lmer(norm_rt ~ lag1_clr + (1|sub), data=data, REML=FALSE, control = lmerControl(optimizer =\"Nelder_Mead\"))\n",
    "m2a <- lmer(norm_rt ~ lag1_clr + lag2_clr + (1|sub), data=data, REML=FALSE, control = lmerControl(optimizer =\"Nelder_Mead\"))\n",
    "m3a <- lmer(norm_rt ~ lag2_clr + (1|sub), data=data, REML=FALSE, control = lmerControl(optimizer =\"Nelder_Mead\"))\n",
    "\n",
    "m1b <- lmer(norm_rt ~ lag1_loc + (1|sub), data=data, REML=FALSE, control = lmerControl(optimizer =\"Nelder_Mead\"))\n",
    "m2b <- lmer(norm_rt ~ lag1_loc + lag2_loc + (1|sub), data=data, REML=FALSE, control = lmerControl(optimizer =\"Nelder_Mead\"))\n",
    "m3b <- lmer(norm_rt ~ lag2_loc + (1|sub), data=data, REML=FALSE, control = lmerControl(optimizer =\"Nelder_Mead\"))\n",
    "\n",
    "m1a <- lmer(norm_rt ~ lag1_clr + (1|sub), data=data, REML=FALSE, control = lmerControl(optimizer =\"Nelder_Mead\"))\n",
    "m2a <- lmer(norm_rt ~ lag1_clr + lag2_clr + (1|sub), data=data, REML=FALSE, control = lmerControl(optimizer =\"Nelder_Mead\"))\n",
    "\n",
    "m1c <- lmer(norm_rt ~ lag1_loc + lag1_clr + (1|sub), data=data, REML=FALSE, control = lmerControl(optimizer =\"Nelder_Mead\"))\n",
    "m2c <- lmer(norm_rt ~ lag1_loc + lag2_loc + lag1_clr + lag2_clr + (1|sub), data=data, REML=FALSE, control = lmerControl(optimizer =\"Nelder_Mead\"))\n",
    "\n",
    "anova(m0, m3b)\n",
    "anova(m0, m1a, m2a)\n",
    "anova(m0, m1b, m2b)\n",
    "anova(m0, m1c, m2c)"
   ]
  },
  {
   "cell_type": "code",
   "execution_count": 9,
   "metadata": {},
   "outputs": [],
   "source": [
    "shuffled_rt <- data$norm_rt[sample(nrow(data))]\n",
    "data$shuffled_rt <- shuffled_rt"
   ]
  },
  {
   "cell_type": "code",
   "execution_count": 10,
   "metadata": {},
   "outputs": [
    {
     "ename": "ERROR",
     "evalue": "Error in model.frame.default(data = data, drop.unused.levels = TRUE, formula = shuffled_rt ~ : invalid type (NULL) for variable 'shuffled_rt'\n",
     "execution_count": 10,
     "output_type": "error",
     "traceback": [
      "Error in model.frame.default(data = data, drop.unused.levels = TRUE, formula = shuffled_rt ~ : invalid type (NULL) for variable 'shuffled_rt'\nTraceback:\n",
      "1. lmer(shuffled_rt ~ 1 + (1 | sub), data = data, REML = FALSE, \n .     control = lmerControl(optimizer = \"Nelder_Mead\"))",
      "2. eval(mc, parent.frame(1L))",
      "3. eval(mc, parent.frame(1L))",
      "4. lme4::lFormula(formula = shuffled_rt ~ 1 + (1 | sub), data = data, \n .     REML = FALSE, control = structure(list(optimizer = \"Nelder_Mead\", \n .         restart_edge = TRUE, boundary.tol = 1e-05, calc.derivs = TRUE, \n .         use.last.params = FALSE, checkControl = structure(list(\n .             check.nobs.vs.rankZ = \"ignore\", check.nobs.vs.nlev = \"stop\", \n .             check.nlev.gtreq.5 = \"ignore\", check.nlev.gtr.1 = \"stop\", \n .             check.nobs.vs.nRE = \"stop\", check.rankX = \"message+drop.cols\", \n .             check.scaleX = \"warning\", check.formula.LHS = \"stop\"), .Names = c(\"check.nobs.vs.rankZ\", \n .         \"check.nobs.vs.nlev\", \"check.nlev.gtreq.5\", \"check.nlev.gtr.1\", \n .         \"check.nobs.vs.nRE\", \"check.rankX\", \"check.scaleX\", \"check.formula.LHS\"\n .         )), checkConv = structure(list(check.conv.grad = structure(list(\n .             action = \"warning\", tol = 0.002, relTol = NULL), .Names = c(\"action\", \n .         \"tol\", \"relTol\")), check.conv.singular = structure(list(\n .             action = \"ignore\", tol = 1e-04), .Names = c(\"action\", \n .         \"tol\")), check.conv.hess = structure(list(action = \"warning\", \n .             tol = 1e-06), .Names = c(\"action\", \"tol\"))), .Names = c(\"check.conv.grad\", \n .         \"check.conv.singular\", \"check.conv.hess\")), optCtrl = list()), .Names = c(\"optimizer\", \n .     \"restart_edge\", \"boundary.tol\", \"calc.derivs\", \"use.last.params\", \n .     \"checkControl\", \"checkConv\", \"optCtrl\"), class = c(\"lmerControl\", \n .     \"merControl\")))",
      "5. eval(mf, parent.frame())",
      "6. eval(mf, parent.frame())",
      "7. stats::model.frame(data = data, drop.unused.levels = TRUE, formula = shuffled_rt ~ \n .     1 + (1 + sub))",
      "8. model.frame.default(data = data, drop.unused.levels = TRUE, formula = shuffled_rt ~ \n .     1 + (1 + sub))"
     ]
    }
   ],
   "source": [
    "m0 <- lmer(shuffled_rt ~ 1 + (1|sub), data=data, REML=FALSE, control = lmerControl(optimizer =\"Nelder_Mead\"))\n",
    "m1a <- lmer(shuffled_rt ~ lag1_clr + (1|sub), data=data, REML=FALSE, control = lmerControl(optimizer =\"Nelder_Mead\"))\n",
    "m2a <- lmer(shuffled_rt ~ lag1_clr + lag2_clr + (1|sub), data=data, REML=FALSE, control = lmerControl(optimizer =\"Nelder_Mead\"))\n",
    "\n",
    "m1b <- lmer(shuffled_rt ~ lag1_loc + (1|sub), data=data, REML=FALSE, control = lmerControl(optimizer =\"Nelder_Mead\"))\n",
    "m2b <- lmer(shuffled_rt ~ lag1_loc + lag2_loc + (1|sub), data=data, REML=FALSE, control = lmerControl(optimizer =\"Nelder_Mead\"))\n",
    "\n",
    "m1a <- lmer(shuffled_rt ~ lag1_clr + (1|sub), data=data, REML=FALSE, control = lmerControl(optimizer =\"Nelder_Mead\"))\n",
    "m2a <- lmer(shuffled_rt ~ lag1_clr + lag2_clr + (1|sub), data=data, REML=FALSE, control = lmerControl(optimizer =\"Nelder_Mead\"))\n",
    "\n",
    "m1c <- lmer(shuffled_rt ~ lag1_loc + lag1_clr + (1|sub), data=data, REML=FALSE, control = lmerControl(optimizer =\"Nelder_Mead\"))\n",
    "m2c <- lmer(shuffled_rt ~ lag1_loc + lag2_loc + lag1_clr + lag2_clr + (1|sub), data=data, REML=FALSE, control = lmerControl(optimizer =\"Nelder_Mead\"))\n",
    "\n",
    "anova(m0, m1a, m2a)\n",
    "anova(m0, m1b, m2b)\n",
    "anova(m0, m1c, m2c)"
   ]
  },
  {
   "cell_type": "markdown",
   "metadata": {},
   "source": [
    "## Behavioral versus BOLD"
   ]
  },
  {
   "cell_type": "code",
   "execution_count": 8,
   "metadata": {},
   "outputs": [],
   "source": [
    "data <- read.csv(\"../data/joined.csv\")"
   ]
  },
  {
   "cell_type": "code",
   "execution_count": 9,
   "metadata": {},
   "outputs": [
    {
     "ename": "ERROR",
     "evalue": "Error in columns(data): could not find function \"columns\"\n",
     "execution_count": 9,
     "output_type": "error",
     "traceback": [
      "Error in columns(data): could not find function \"columns\"\nTraceback:\n"
     ]
    }
   ],
   "source": [
    "columns(data)"
   ]
  },
  {
   "cell_type": "code",
   "execution_count": 10,
   "metadata": {},
   "outputs": [
    {
     "data": {
      "text/html": [
       "<table>\n",
       "<thead><tr><th></th><th scope=col>Df</th><th scope=col>AIC</th><th scope=col>BIC</th><th scope=col>logLik</th><th scope=col>deviance</th><th scope=col>Chisq</th><th scope=col>Chi Df</th><th scope=col>Pr(&gt;Chisq)</th></tr></thead>\n",
       "<tbody>\n",
       "\t<tr><th scope=row>m0</th><td>3        </td><td>-450.4174</td><td>-441.8380</td><td>228.2087 </td><td>-456.4174</td><td>      NA </td><td>NA       </td><td>      NA </td></tr>\n",
       "\t<tr><th scope=row>m1</th><td>7        </td><td>-448.7196</td><td>-428.7009</td><td>231.3598 </td><td>-462.7196</td><td>6.302154 </td><td> 4       </td><td>0.177691 </td></tr>\n",
       "</tbody>\n",
       "</table>\n"
      ],
      "text/latex": [
       "\\begin{tabular}{r|llllllll}\n",
       "  & Df & AIC & BIC & logLik & deviance & Chisq & Chi Df & Pr(>Chisq)\\\\\n",
       "\\hline\n",
       "\tm0 & 3         & -450.4174 & -441.8380 & 228.2087  & -456.4174 &       NA  & NA        &       NA \\\\\n",
       "\tm1 & 7         & -448.7196 & -428.7009 & 231.3598  & -462.7196 & 6.302154  &  4        & 0.177691 \\\\\n",
       "\\end{tabular}\n"
      ],
      "text/markdown": [
       "\n",
       "| <!--/--> | Df | AIC | BIC | logLik | deviance | Chisq | Chi Df | Pr(>Chisq) | \n",
       "|---|---|\n",
       "| m0 | 3         | -450.4174 | -441.8380 | 228.2087  | -456.4174 |       NA  | NA        |       NA  | \n",
       "| m1 | 7         | -448.7196 | -428.7009 | 231.3598  | -462.7196 | 6.302154  |  4        | 0.177691  | \n",
       "\n",
       "\n"
      ],
      "text/plain": [
       "   Df AIC       BIC       logLik   deviance  Chisq    Chi Df Pr(>Chisq)\n",
       "m0 3  -450.4174 -441.8380 228.2087 -456.4174       NA NA           NA  \n",
       "m1 7  -448.7196 -428.7009 231.3598 -462.7196 6.302154  4     0.177691  "
      ]
     },
     "metadata": {},
     "output_type": "display_data"
    }
   ],
   "source": [
    "m0 <- lmer(rt_lag1_clr_pe ~ 1 + (1|sub), data=data, REML=FALSE)\n",
    "m1 <- lmer(rt_lag1_clr_pe ~ 1 + pe_clr1_roi0 + pe_clr1_roi1 + pe_clr1_roi2 + pe_clr1_roi3 + (1|sub), data=data, REML=FALSE)\n",
    "anova(m0, m1)"
   ]
  },
  {
   "cell_type": "code",
   "execution_count": 11,
   "metadata": {},
   "outputs": [
    {
     "data": {
      "text/html": [
       "<table>\n",
       "<thead><tr><th></th><th scope=col>Df</th><th scope=col>AIC</th><th scope=col>BIC</th><th scope=col>logLik</th><th scope=col>deviance</th><th scope=col>Chisq</th><th scope=col>Chi Df</th><th scope=col>Pr(&gt;Chisq)</th></tr></thead>\n",
       "<tbody>\n",
       "\t<tr><th scope=row>m0</th><td>3          </td><td>-224.1107  </td><td>-215.5313  </td><td>115.0554   </td><td>-230.1107  </td><td>      NA   </td><td>NA         </td><td>         NA</td></tr>\n",
       "\t<tr><th scope=row>m2</th><td>6          </td><td>-257.9199  </td><td>-240.7610  </td><td>134.9599   </td><td>-269.9199  </td><td>39.80916   </td><td> 3         </td><td>1.16952e-08</td></tr>\n",
       "</tbody>\n",
       "</table>\n"
      ],
      "text/latex": [
       "\\begin{tabular}{r|llllllll}\n",
       "  & Df & AIC & BIC & logLik & deviance & Chisq & Chi Df & Pr(>Chisq)\\\\\n",
       "\\hline\n",
       "\tm0 & 3           & -224.1107   & -215.5313   & 115.0554    & -230.1107   &       NA    & NA          &          NA\\\\\n",
       "\tm2 & 6           & -257.9199   & -240.7610   & 134.9599    & -269.9199   & 39.80916    &  3          & 1.16952e-08\\\\\n",
       "\\end{tabular}\n"
      ],
      "text/markdown": [
       "\n",
       "| <!--/--> | Df | AIC | BIC | logLik | deviance | Chisq | Chi Df | Pr(>Chisq) | \n",
       "|---|---|\n",
       "| m0 | 3           | -224.1107   | -215.5313   | 115.0554    | -230.1107   |       NA    | NA          |          NA | \n",
       "| m2 | 6           | -257.9199   | -240.7610   | 134.9599    | -269.9199   | 39.80916    |  3          | 1.16952e-08 | \n",
       "\n",
       "\n"
      ],
      "text/plain": [
       "   Df AIC       BIC       logLik   deviance  Chisq    Chi Df Pr(>Chisq) \n",
       "m0 3  -224.1107 -215.5313 115.0554 -230.1107       NA NA              NA\n",
       "m2 6  -257.9199 -240.7610 134.9599 -269.9199 39.80916  3     1.16952e-08"
      ]
     },
     "metadata": {},
     "output_type": "display_data"
    }
   ],
   "source": [
    "m0 <- lmer(rt_lag2_clr_pe ~ 1 + (1|sub), data=data, REML=FALSE)\n",
    "m2 <- lmer(rt_lag2_clr_pe ~ 1 + pe_clr2_roi0 + pe_clr2_roi1 + pe_clr2_roi2 + (1|sub), data=data, REML=FALSE)\n",
    "anova(m0, m2)"
   ]
  },
  {
   "cell_type": "code",
   "execution_count": 15,
   "metadata": {},
   "outputs": [
    {
     "data": {
      "text/html": [
       "<table>\n",
       "<thead><tr><th></th><th scope=col>Df</th><th scope=col>AIC</th><th scope=col>BIC</th><th scope=col>logLik</th><th scope=col>deviance</th><th scope=col>Chisq</th><th scope=col>Chi Df</th><th scope=col>Pr(&gt;Chisq)</th></tr></thead>\n",
       "<tbody>\n",
       "\t<tr><th scope=row>m0</th><td>3        </td><td>-225.4897</td><td>-216.9102</td><td>115.7448 </td><td>-231.4897</td><td>      NA </td><td>NA       </td><td>       NA</td></tr>\n",
       "\t<tr><th scope=row>m2</th><td>6        </td><td>-224.6351</td><td>-207.4762</td><td>118.3175 </td><td>-236.6351</td><td>5.145377 </td><td> 3       </td><td>0.1614562</td></tr>\n",
       "</tbody>\n",
       "</table>\n"
      ],
      "text/latex": [
       "\\begin{tabular}{r|llllllll}\n",
       "  & Df & AIC & BIC & logLik & deviance & Chisq & Chi Df & Pr(>Chisq)\\\\\n",
       "\\hline\n",
       "\tm0 & 3         & -225.4897 & -216.9102 & 115.7448  & -231.4897 &       NA  & NA        &        NA\\\\\n",
       "\tm2 & 6         & -224.6351 & -207.4762 & 118.3175  & -236.6351 & 5.145377  &  3        & 0.1614562\\\\\n",
       "\\end{tabular}\n"
      ],
      "text/markdown": [
       "\n",
       "| <!--/--> | Df | AIC | BIC | logLik | deviance | Chisq | Chi Df | Pr(>Chisq) | \n",
       "|---|---|\n",
       "| m0 | 3         | -225.4897 | -216.9102 | 115.7448  | -231.4897 |       NA  | NA        |        NA | \n",
       "| m2 | 6         | -224.6351 | -207.4762 | 118.3175  | -236.6351 | 5.145377  |  3        | 0.1614562 | \n",
       "\n",
       "\n"
      ],
      "text/plain": [
       "   Df AIC       BIC       logLik   deviance  Chisq    Chi Df Pr(>Chisq)\n",
       "m0 3  -225.4897 -216.9102 115.7448 -231.4897       NA NA            NA \n",
       "m2 6  -224.6351 -207.4762 118.3175 -236.6351 5.145377  3     0.1614562 "
      ]
     },
     "metadata": {},
     "output_type": "display_data"
    }
   ],
   "source": [
    "shuffled_pe <- data$rt_lag2_clr_pe[sample(nrow(data))]\n",
    "data$shuffled_pe <- shuffled_pe\n",
    "m0 <- lmer(shuffled_pe ~ 1 + (1|sub), data=data, REML=FALSE)\n",
    "m2 <- lmer(shuffled_pe ~ 1 + pe_clr2_roi0 + pe_clr2_roi1 + pe_clr2_roi2 + (1|sub), data=data, REML=FALSE)\n",
    "anova(m0, m2)"
   ]
  },
  {
   "cell_type": "code",
   "execution_count": 16,
   "metadata": {},
   "outputs": [
    {
     "data": {
      "text/html": [
       "<table>\n",
       "<thead><tr><th></th><th scope=col>Df</th><th scope=col>AIC</th><th scope=col>BIC</th><th scope=col>logLik</th><th scope=col>deviance</th><th scope=col>Chisq</th><th scope=col>Chi Df</th><th scope=col>Pr(&gt;Chisq)</th></tr></thead>\n",
       "<tbody>\n",
       "\t<tr><th scope=row>m0</th><td>3           </td><td>-408.8299   </td><td>-400.2505   </td><td>207.4149    </td><td>-414.8299   </td><td>      NA    </td><td>NA          </td><td>          NA</td></tr>\n",
       "\t<tr><th scope=row>m3</th><td>5           </td><td>-423.8336   </td><td>-409.5345   </td><td>216.9168    </td><td>-433.8336   </td><td>19.00368    </td><td> 2          </td><td>7.471415e-05</td></tr>\n",
       "</tbody>\n",
       "</table>\n"
      ],
      "text/latex": [
       "\\begin{tabular}{r|llllllll}\n",
       "  & Df & AIC & BIC & logLik & deviance & Chisq & Chi Df & Pr(>Chisq)\\\\\n",
       "\\hline\n",
       "\tm0 & 3            & -408.8299    & -400.2505    & 207.4149     & -414.8299    &       NA     & NA           &           NA\\\\\n",
       "\tm3 & 5            & -423.8336    & -409.5345    & 216.9168     & -433.8336    & 19.00368     &  2           & 7.471415e-05\\\\\n",
       "\\end{tabular}\n"
      ],
      "text/markdown": [
       "\n",
       "| <!--/--> | Df | AIC | BIC | logLik | deviance | Chisq | Chi Df | Pr(>Chisq) | \n",
       "|---|---|\n",
       "| m0 | 3            | -408.8299    | -400.2505    | 207.4149     | -414.8299    |       NA     | NA           |           NA | \n",
       "| m3 | 5            | -423.8336    | -409.5345    | 216.9168     | -433.8336    | 19.00368     |  2           | 7.471415e-05 | \n",
       "\n",
       "\n"
      ],
      "text/plain": [
       "   Df AIC       BIC       logLik   deviance  Chisq    Chi Df Pr(>Chisq)  \n",
       "m0 3  -408.8299 -400.2505 207.4149 -414.8299       NA NA               NA\n",
       "m3 5  -423.8336 -409.5345 216.9168 -433.8336 19.00368  2     7.471415e-05"
      ]
     },
     "metadata": {},
     "output_type": "display_data"
    }
   ],
   "source": [
    "m0 <- lmer(rt_lag1_loc_pe ~ 1 + (1|sub), data=data, REML=FALSE)\n",
    "m3 <- lmer(rt_lag1_loc_pe ~ 1 + pe_loc1_roi0 + pe_loc1_roi1 + (1|sub), data=data, REML=FALSE)\n",
    "anova(m0, m3)"
   ]
  },
  {
   "cell_type": "code",
   "execution_count": 17,
   "metadata": {},
   "outputs": [
    {
     "data": {
      "text/html": [
       "<table>\n",
       "<thead><tr><th></th><th scope=col>Df</th><th scope=col>AIC</th><th scope=col>BIC</th><th scope=col>logLik</th><th scope=col>deviance</th><th scope=col>Chisq</th><th scope=col>Chi Df</th><th scope=col>Pr(&gt;Chisq)</th></tr></thead>\n",
       "<tbody>\n",
       "\t<tr><th scope=row>m0</th><td>3           </td><td>-237.1655   </td><td>-228.5861   </td><td>121.5828    </td><td>-243.1655   </td><td>      NA    </td><td>NA          </td><td>          NA</td></tr>\n",
       "\t<tr><th scope=row>m4</th><td>8           </td><td>-256.8101   </td><td>-233.9316   </td><td>136.4050    </td><td>-272.8101   </td><td>29.64456    </td><td> 5          </td><td>1.732491e-05</td></tr>\n",
       "</tbody>\n",
       "</table>\n"
      ],
      "text/latex": [
       "\\begin{tabular}{r|llllllll}\n",
       "  & Df & AIC & BIC & logLik & deviance & Chisq & Chi Df & Pr(>Chisq)\\\\\n",
       "\\hline\n",
       "\tm0 & 3            & -237.1655    & -228.5861    & 121.5828     & -243.1655    &       NA     & NA           &           NA\\\\\n",
       "\tm4 & 8            & -256.8101    & -233.9316    & 136.4050     & -272.8101    & 29.64456     &  5           & 1.732491e-05\\\\\n",
       "\\end{tabular}\n"
      ],
      "text/markdown": [
       "\n",
       "| <!--/--> | Df | AIC | BIC | logLik | deviance | Chisq | Chi Df | Pr(>Chisq) | \n",
       "|---|---|\n",
       "| m0 | 3            | -237.1655    | -228.5861    | 121.5828     | -243.1655    |       NA     | NA           |           NA | \n",
       "| m4 | 8            | -256.8101    | -233.9316    | 136.4050     | -272.8101    | 29.64456     |  5           | 1.732491e-05 | \n",
       "\n",
       "\n"
      ],
      "text/plain": [
       "   Df AIC       BIC       logLik   deviance  Chisq    Chi Df Pr(>Chisq)  \n",
       "m0 3  -237.1655 -228.5861 121.5828 -243.1655       NA NA               NA\n",
       "m4 8  -256.8101 -233.9316 136.4050 -272.8101 29.64456  5     1.732491e-05"
      ]
     },
     "metadata": {},
     "output_type": "display_data"
    }
   ],
   "source": [
    "m0 <- lmer(rt_lag2_loc_pe ~ 1 + (1|sub), data=data, REML=FALSE)\n",
    "m4 <- lmer(rt_lag2_loc_pe ~ 1 + pe_loc2_roi0 + pe_loc2_roi1 + pe_loc2_roi2 + pe_loc2_roi3 + pe_loc2_roi4 + (1|sub), data=data, REML=FALSE)\n",
    "anova(m0, m4)"
   ]
  },
  {
   "cell_type": "markdown",
   "metadata": {},
   "source": [
    "## Check per roi and if individual fixed effects are positive"
   ]
  },
  {
   "cell_type": "markdown",
   "metadata": {},
   "source": [
    "### Color lag1"
   ]
  },
  {
   "cell_type": "code",
   "execution_count": 49,
   "metadata": {},
   "outputs": [
    {
     "data": {
      "text/html": [
       "<table>\n",
       "<thead><tr><th></th><th scope=col>Df</th><th scope=col>AIC</th><th scope=col>BIC</th><th scope=col>logLik</th><th scope=col>deviance</th><th scope=col>Chisq</th><th scope=col>Chi Df</th><th scope=col>Pr(&gt;Chisq)</th></tr></thead>\n",
       "<tbody>\n",
       "\t<tr><th scope=row>m0</th><td>3        </td><td>-450.4174</td><td>-441.838 </td><td>228.2087 </td><td>-456.4174</td><td>       NA</td><td>NA       </td><td>       NA</td></tr>\n",
       "\t<tr><th scope=row>m1</th><td>4        </td><td>-449.3992</td><td>-437.960 </td><td>228.6996 </td><td>-457.3992</td><td>0.9818138</td><td> 1       </td><td>0.3217514</td></tr>\n",
       "</tbody>\n",
       "</table>\n"
      ],
      "text/latex": [
       "\\begin{tabular}{r|llllllll}\n",
       "  & Df & AIC & BIC & logLik & deviance & Chisq & Chi Df & Pr(>Chisq)\\\\\n",
       "\\hline\n",
       "\tm0 & 3         & -450.4174 & -441.838  & 228.2087  & -456.4174 &        NA & NA        &        NA\\\\\n",
       "\tm1 & 4         & -449.3992 & -437.960  & 228.6996  & -457.3992 & 0.9818138 &  1        & 0.3217514\\\\\n",
       "\\end{tabular}\n"
      ],
      "text/markdown": [
       "\n",
       "| <!--/--> | Df | AIC | BIC | logLik | deviance | Chisq | Chi Df | Pr(>Chisq) | \n",
       "|---|---|\n",
       "| m0 | 3         | -450.4174 | -441.838  | 228.2087  | -456.4174 |        NA | NA        |        NA | \n",
       "| m1 | 4         | -449.3992 | -437.960  | 228.6996  | -457.3992 | 0.9818138 |  1        | 0.3217514 | \n",
       "\n",
       "\n"
      ],
      "text/plain": [
       "   Df AIC       BIC      logLik   deviance  Chisq     Chi Df Pr(>Chisq)\n",
       "m0 3  -450.4174 -441.838 228.2087 -456.4174        NA NA            NA \n",
       "m1 4  -449.3992 -437.960 228.6996 -457.3992 0.9818138  1     0.3217514 "
      ]
     },
     "metadata": {},
     "output_type": "display_data"
    },
    {
     "data": {
      "text/html": [
       "<table>\n",
       "<thead><tr><th></th><th scope=col>Df</th><th scope=col>AIC</th><th scope=col>BIC</th><th scope=col>logLik</th><th scope=col>deviance</th><th scope=col>Chisq</th><th scope=col>Chi Df</th><th scope=col>Pr(&gt;Chisq)</th></tr></thead>\n",
       "<tbody>\n",
       "\t<tr><th scope=row>m0</th><td>3        </td><td>-450.4174</td><td>-441.838 </td><td>228.2087 </td><td>-456.4174</td><td>       NA</td><td>NA       </td><td>       NA</td></tr>\n",
       "\t<tr><th scope=row>m2</th><td>4        </td><td>-449.0722</td><td>-437.633 </td><td>228.5361 </td><td>-457.0722</td><td>0.6548227</td><td> 1       </td><td>0.4183937</td></tr>\n",
       "</tbody>\n",
       "</table>\n"
      ],
      "text/latex": [
       "\\begin{tabular}{r|llllllll}\n",
       "  & Df & AIC & BIC & logLik & deviance & Chisq & Chi Df & Pr(>Chisq)\\\\\n",
       "\\hline\n",
       "\tm0 & 3         & -450.4174 & -441.838  & 228.2087  & -456.4174 &        NA & NA        &        NA\\\\\n",
       "\tm2 & 4         & -449.0722 & -437.633  & 228.5361  & -457.0722 & 0.6548227 &  1        & 0.4183937\\\\\n",
       "\\end{tabular}\n"
      ],
      "text/markdown": [
       "\n",
       "| <!--/--> | Df | AIC | BIC | logLik | deviance | Chisq | Chi Df | Pr(>Chisq) | \n",
       "|---|---|\n",
       "| m0 | 3         | -450.4174 | -441.838  | 228.2087  | -456.4174 |        NA | NA        |        NA | \n",
       "| m2 | 4         | -449.0722 | -437.633  | 228.5361  | -457.0722 | 0.6548227 |  1        | 0.4183937 | \n",
       "\n",
       "\n"
      ],
      "text/plain": [
       "   Df AIC       BIC      logLik   deviance  Chisq     Chi Df Pr(>Chisq)\n",
       "m0 3  -450.4174 -441.838 228.2087 -456.4174        NA NA            NA \n",
       "m2 4  -449.0722 -437.633 228.5361 -457.0722 0.6548227  1     0.4183937 "
      ]
     },
     "metadata": {},
     "output_type": "display_data"
    },
    {
     "data": {
      "text/html": [
       "<table>\n",
       "<thead><tr><th></th><th scope=col>Df</th><th scope=col>AIC</th><th scope=col>BIC</th><th scope=col>logLik</th><th scope=col>deviance</th><th scope=col>Chisq</th><th scope=col>Chi Df</th><th scope=col>Pr(&gt;Chisq)</th></tr></thead>\n",
       "<tbody>\n",
       "\t<tr><th scope=row>m0</th><td>3        </td><td>-450.4174</td><td>-441.838 </td><td>228.2087 </td><td>-456.4174</td><td>      NA </td><td>NA       </td><td>      NA </td></tr>\n",
       "\t<tr><th scope=row>m3</th><td>4        </td><td>-449.5013</td><td>-438.062 </td><td>228.7506 </td><td>-457.5013</td><td>1.083881 </td><td> 1       </td><td>0.297831 </td></tr>\n",
       "</tbody>\n",
       "</table>\n"
      ],
      "text/latex": [
       "\\begin{tabular}{r|llllllll}\n",
       "  & Df & AIC & BIC & logLik & deviance & Chisq & Chi Df & Pr(>Chisq)\\\\\n",
       "\\hline\n",
       "\tm0 & 3         & -450.4174 & -441.838  & 228.2087  & -456.4174 &       NA  & NA        &       NA \\\\\n",
       "\tm3 & 4         & -449.5013 & -438.062  & 228.7506  & -457.5013 & 1.083881  &  1        & 0.297831 \\\\\n",
       "\\end{tabular}\n"
      ],
      "text/markdown": [
       "\n",
       "| <!--/--> | Df | AIC | BIC | logLik | deviance | Chisq | Chi Df | Pr(>Chisq) | \n",
       "|---|---|\n",
       "| m0 | 3         | -450.4174 | -441.838  | 228.2087  | -456.4174 |       NA  | NA        |       NA  | \n",
       "| m3 | 4         | -449.5013 | -438.062  | 228.7506  | -457.5013 | 1.083881  |  1        | 0.297831  | \n",
       "\n",
       "\n"
      ],
      "text/plain": [
       "   Df AIC       BIC      logLik   deviance  Chisq    Chi Df Pr(>Chisq)\n",
       "m0 3  -450.4174 -441.838 228.2087 -456.4174       NA NA           NA  \n",
       "m3 4  -449.5013 -438.062 228.7506 -457.5013 1.083881  1     0.297831  "
      ]
     },
     "metadata": {},
     "output_type": "display_data"
    },
    {
     "data": {
      "text/html": [
       "<table>\n",
       "<thead><tr><th></th><th scope=col>Df</th><th scope=col>AIC</th><th scope=col>BIC</th><th scope=col>logLik</th><th scope=col>deviance</th><th scope=col>Chisq</th><th scope=col>Chi Df</th><th scope=col>Pr(&gt;Chisq)</th></tr></thead>\n",
       "<tbody>\n",
       "\t<tr><th scope=row>m0</th><td>3        </td><td>-450.4174</td><td>-441.8380</td><td>228.2087 </td><td>-456.4174</td><td>      NA </td><td>NA       </td><td>       NA</td></tr>\n",
       "\t<tr><th scope=row>m4</th><td>4        </td><td>-449.7459</td><td>-438.3066</td><td>228.8729 </td><td>-457.7459</td><td>1.328465 </td><td> 1       </td><td>0.2490785</td></tr>\n",
       "</tbody>\n",
       "</table>\n"
      ],
      "text/latex": [
       "\\begin{tabular}{r|llllllll}\n",
       "  & Df & AIC & BIC & logLik & deviance & Chisq & Chi Df & Pr(>Chisq)\\\\\n",
       "\\hline\n",
       "\tm0 & 3         & -450.4174 & -441.8380 & 228.2087  & -456.4174 &       NA  & NA        &        NA\\\\\n",
       "\tm4 & 4         & -449.7459 & -438.3066 & 228.8729  & -457.7459 & 1.328465  &  1        & 0.2490785\\\\\n",
       "\\end{tabular}\n"
      ],
      "text/markdown": [
       "\n",
       "| <!--/--> | Df | AIC | BIC | logLik | deviance | Chisq | Chi Df | Pr(>Chisq) | \n",
       "|---|---|\n",
       "| m0 | 3         | -450.4174 | -441.8380 | 228.2087  | -456.4174 |       NA  | NA        |        NA | \n",
       "| m4 | 4         | -449.7459 | -438.3066 | 228.8729  | -457.7459 | 1.328465  |  1        | 0.2490785 | \n",
       "\n",
       "\n"
      ],
      "text/plain": [
       "   Df AIC       BIC       logLik   deviance  Chisq    Chi Df Pr(>Chisq)\n",
       "m0 3  -450.4174 -441.8380 228.2087 -456.4174       NA NA            NA \n",
       "m4 4  -449.7459 -438.3066 228.8729 -457.7459 1.328465  1     0.2490785 "
      ]
     },
     "metadata": {},
     "output_type": "display_data"
    },
    {
     "data": {
      "text/html": [
       "<table>\n",
       "<thead><tr><th></th><th scope=col>Df</th><th scope=col>AIC</th><th scope=col>BIC</th><th scope=col>logLik</th><th scope=col>deviance</th><th scope=col>Chisq</th><th scope=col>Chi Df</th><th scope=col>Pr(&gt;Chisq)</th></tr></thead>\n",
       "<tbody>\n",
       "\t<tr><th scope=row>m0</th><td>3        </td><td>-450.4174</td><td>-441.8380</td><td>228.2087 </td><td>-456.4174</td><td>      NA </td><td>NA       </td><td>       NA</td></tr>\n",
       "\t<tr><th scope=row>m5</th><td>4        </td><td>-449.7589</td><td>-438.3197</td><td>228.8795 </td><td>-457.7589</td><td>1.341512 </td><td> 1       </td><td>0.2467676</td></tr>\n",
       "</tbody>\n",
       "</table>\n"
      ],
      "text/latex": [
       "\\begin{tabular}{r|llllllll}\n",
       "  & Df & AIC & BIC & logLik & deviance & Chisq & Chi Df & Pr(>Chisq)\\\\\n",
       "\\hline\n",
       "\tm0 & 3         & -450.4174 & -441.8380 & 228.2087  & -456.4174 &       NA  & NA        &        NA\\\\\n",
       "\tm5 & 4         & -449.7589 & -438.3197 & 228.8795  & -457.7589 & 1.341512  &  1        & 0.2467676\\\\\n",
       "\\end{tabular}\n"
      ],
      "text/markdown": [
       "\n",
       "| <!--/--> | Df | AIC | BIC | logLik | deviance | Chisq | Chi Df | Pr(>Chisq) | \n",
       "|---|---|\n",
       "| m0 | 3         | -450.4174 | -441.8380 | 228.2087  | -456.4174 |       NA  | NA        |        NA | \n",
       "| m5 | 4         | -449.7589 | -438.3197 | 228.8795  | -457.7589 | 1.341512  |  1        | 0.2467676 | \n",
       "\n",
       "\n"
      ],
      "text/plain": [
       "   Df AIC       BIC       logLik   deviance  Chisq    Chi Df Pr(>Chisq)\n",
       "m0 3  -450.4174 -441.8380 228.2087 -456.4174       NA NA            NA \n",
       "m5 4  -449.7589 -438.3197 228.8795 -457.7589 1.341512  1     0.2467676 "
      ]
     },
     "metadata": {},
     "output_type": "display_data"
    }
   ],
   "source": [
    "m0 <- lmer(rt_lag1_clr_pe ~ 1 + (1|sub), data=data, REML=FALSE)\n",
    "m1 <- lmer(rt_lag1_clr_pe ~ 1 + pe_clr1_roi0 + (1|sub), data=data, REML=FALSE)\n",
    "m2 <- lmer(rt_lag1_clr_pe ~ 1 + pe_clr1_roi1 + (1|sub), data=data, REML=FALSE)\n",
    "m3 <- lmer(rt_lag1_clr_pe ~ 1 + pe_clr1_roi2 + (1|sub), data=data, REML=FALSE)\n",
    "m4 <- lmer(rt_lag1_clr_pe ~ 1 + pe_clr1_roi3 + (1|sub), data=data, REML=FALSE)\n",
    "m5 <- lmer(rt_lag1_clr_pe ~ 1 + pe_clr1_roi4 + (1|sub), data=data, REML=FALSE)\n",
    "anova(m0, m1)\n",
    "anova(m0, m2)\n",
    "anova(m0, m3)\n",
    "anova(m0, m4)\n",
    "anova(m0, m5)"
   ]
  },
  {
   "cell_type": "code",
   "execution_count": 50,
   "metadata": {},
   "outputs": [
    {
     "data": {
      "text/plain": [
       "Linear mixed model fit by maximum likelihood  ['lmerMod']\n",
       "Formula: rt_lag1_clr_pe ~ 1 + pe_clr1_roi0 + (1 | sub)\n",
       "   Data: data\n",
       "      AIC       BIC    logLik  deviance  df.resid \n",
       "-449.3992 -437.9600  228.6996 -457.3992       125 \n",
       "Random effects:\n",
       " Groups   Name        Std.Dev.\n",
       " sub      (Intercept) 0.02359 \n",
       " Residual             0.03910 \n",
       "Number of obs: 129, groups:  sub, 6\n",
       "Fixed Effects:\n",
       " (Intercept)  pe_clr1_roi0  \n",
       "  -6.098e-02     1.542e-05  "
      ]
     },
     "metadata": {},
     "output_type": "display_data"
    }
   ],
   "source": [
    "m1"
   ]
  },
  {
   "cell_type": "code",
   "execution_count": 51,
   "metadata": {},
   "outputs": [
    {
     "data": {
      "text/plain": [
       "Linear mixed model fit by maximum likelihood  ['lmerMod']\n",
       "Formula: rt_lag1_clr_pe ~ 1 + pe_clr1_roi1 + (1 | sub)\n",
       "   Data: data\n",
       "      AIC       BIC    logLik  deviance  df.resid \n",
       "-449.0722 -437.6330  228.5361 -457.0722       125 \n",
       "Random effects:\n",
       " Groups   Name        Std.Dev.\n",
       " sub      (Intercept) 0.02400 \n",
       " Residual             0.03912 \n",
       "Number of obs: 129, groups:  sub, 6\n",
       "Fixed Effects:\n",
       " (Intercept)  pe_clr1_roi1  \n",
       "  -6.229e-02    -1.481e-05  "
      ]
     },
     "metadata": {},
     "output_type": "display_data"
    }
   ],
   "source": [
    "m2"
   ]
  },
  {
   "cell_type": "code",
   "execution_count": 52,
   "metadata": {},
   "outputs": [
    {
     "data": {
      "text/plain": [
       "Linear mixed model fit by maximum likelihood  ['lmerMod']\n",
       "Formula: rt_lag1_clr_pe ~ 1 + pe_clr1_roi2 + (1 | sub)\n",
       "   Data: data\n",
       "      AIC       BIC    logLik  deviance  df.resid \n",
       "-449.5013 -438.0620  228.7506 -457.5013       125 \n",
       "Random effects:\n",
       " Groups   Name        Std.Dev.\n",
       " sub      (Intercept) 0.02367 \n",
       " Residual             0.03908 \n",
       "Number of obs: 129, groups:  sub, 6\n",
       "Fixed Effects:\n",
       " (Intercept)  pe_clr1_roi2  \n",
       "  -0.0606586     0.0000167  "
      ]
     },
     "metadata": {},
     "output_type": "display_data"
    }
   ],
   "source": [
    "m3"
   ]
  },
  {
   "cell_type": "code",
   "execution_count": 53,
   "metadata": {},
   "outputs": [
    {
     "data": {
      "text/plain": [
       "Linear mixed model fit by maximum likelihood  ['lmerMod']\n",
       "Formula: rt_lag1_clr_pe ~ 1 + pe_clr1_roi3 + (1 | sub)\n",
       "   Data: data\n",
       "      AIC       BIC    logLik  deviance  df.resid \n",
       "-449.7459 -438.3066  228.8729 -457.7459       125 \n",
       "Random effects:\n",
       " Groups   Name        Std.Dev.\n",
       " sub      (Intercept) 0.02345 \n",
       " Residual             0.03906 \n",
       "Number of obs: 129, groups:  sub, 6\n",
       "Fixed Effects:\n",
       " (Intercept)  pe_clr1_roi3  \n",
       "  -6.033e-02     2.166e-05  "
      ]
     },
     "metadata": {},
     "output_type": "display_data"
    }
   ],
   "source": [
    "m4"
   ]
  },
  {
   "cell_type": "code",
   "execution_count": 54,
   "metadata": {},
   "outputs": [
    {
     "data": {
      "text/plain": [
       "Linear mixed model fit by maximum likelihood  ['lmerMod']\n",
       "Formula: rt_lag1_clr_pe ~ 1 + pe_clr1_roi4 + (1 | sub)\n",
       "   Data: data\n",
       "      AIC       BIC    logLik  deviance  df.resid \n",
       "-449.7589 -438.3197  228.8795 -457.7589       125 \n",
       "Random effects:\n",
       " Groups   Name        Std.Dev.\n",
       " sub      (Intercept) 0.02357 \n",
       " Residual             0.03904 \n",
       "Number of obs: 129, groups:  sub, 6\n",
       "Fixed Effects:\n",
       " (Intercept)  pe_clr1_roi4  \n",
       "  -0.0603322     0.0000117  "
      ]
     },
     "metadata": {},
     "output_type": "display_data"
    }
   ],
   "source": [
    "m5"
   ]
  },
  {
   "cell_type": "markdown",
   "metadata": {},
   "source": [
    "### Color lag2"
   ]
  },
  {
   "cell_type": "code",
   "execution_count": 29,
   "metadata": {},
   "outputs": [
    {
     "data": {
      "text/html": [
       "<table>\n",
       "<thead><tr><th></th><th scope=col>Df</th><th scope=col>AIC</th><th scope=col>BIC</th><th scope=col>logLik</th><th scope=col>deviance</th><th scope=col>Chisq</th><th scope=col>Chi Df</th><th scope=col>Pr(&gt;Chisq)</th></tr></thead>\n",
       "<tbody>\n",
       "\t<tr><th scope=row>m0</th><td>3          </td><td>-224.1107  </td><td>-215.5313  </td><td>115.0554   </td><td>-230.1107  </td><td>      NA   </td><td>NA         </td><td>         NA</td></tr>\n",
       "\t<tr><th scope=row>m1</th><td>4          </td><td>-232.8111  </td><td>-221.3718  </td><td>120.4055   </td><td>-240.8111  </td><td>10.70036   </td><td> 1         </td><td>0.001071149</td></tr>\n",
       "</tbody>\n",
       "</table>\n"
      ],
      "text/latex": [
       "\\begin{tabular}{r|llllllll}\n",
       "  & Df & AIC & BIC & logLik & deviance & Chisq & Chi Df & Pr(>Chisq)\\\\\n",
       "\\hline\n",
       "\tm0 & 3           & -224.1107   & -215.5313   & 115.0554    & -230.1107   &       NA    & NA          &          NA\\\\\n",
       "\tm1 & 4           & -232.8111   & -221.3718   & 120.4055    & -240.8111   & 10.70036    &  1          & 0.001071149\\\\\n",
       "\\end{tabular}\n"
      ],
      "text/markdown": [
       "\n",
       "| <!--/--> | Df | AIC | BIC | logLik | deviance | Chisq | Chi Df | Pr(>Chisq) | \n",
       "|---|---|\n",
       "| m0 | 3           | -224.1107   | -215.5313   | 115.0554    | -230.1107   |       NA    | NA          |          NA | \n",
       "| m1 | 4           | -232.8111   | -221.3718   | 120.4055    | -240.8111   | 10.70036    |  1          | 0.001071149 | \n",
       "\n",
       "\n"
      ],
      "text/plain": [
       "   Df AIC       BIC       logLik   deviance  Chisq    Chi Df Pr(>Chisq) \n",
       "m0 3  -224.1107 -215.5313 115.0554 -230.1107       NA NA              NA\n",
       "m1 4  -232.8111 -221.3718 120.4055 -240.8111 10.70036  1     0.001071149"
      ]
     },
     "metadata": {},
     "output_type": "display_data"
    },
    {
     "data": {
      "text/html": [
       "<table>\n",
       "<thead><tr><th></th><th scope=col>Df</th><th scope=col>AIC</th><th scope=col>BIC</th><th scope=col>logLik</th><th scope=col>deviance</th><th scope=col>Chisq</th><th scope=col>Chi Df</th><th scope=col>Pr(&gt;Chisq)</th></tr></thead>\n",
       "<tbody>\n",
       "\t<tr><th scope=row>m0</th><td>3           </td><td>-224.1107   </td><td>-215.5313   </td><td>115.0554    </td><td>-230.1107   </td><td>      NA    </td><td>NA          </td><td>          NA</td></tr>\n",
       "\t<tr><th scope=row>m2</th><td>4           </td><td>-255.3723   </td><td>-243.9330   </td><td>131.6861    </td><td>-263.3723   </td><td>33.26156    </td><td> 1          </td><td>8.055934e-09</td></tr>\n",
       "</tbody>\n",
       "</table>\n"
      ],
      "text/latex": [
       "\\begin{tabular}{r|llllllll}\n",
       "  & Df & AIC & BIC & logLik & deviance & Chisq & Chi Df & Pr(>Chisq)\\\\\n",
       "\\hline\n",
       "\tm0 & 3            & -224.1107    & -215.5313    & 115.0554     & -230.1107    &       NA     & NA           &           NA\\\\\n",
       "\tm2 & 4            & -255.3723    & -243.9330    & 131.6861     & -263.3723    & 33.26156     &  1           & 8.055934e-09\\\\\n",
       "\\end{tabular}\n"
      ],
      "text/markdown": [
       "\n",
       "| <!--/--> | Df | AIC | BIC | logLik | deviance | Chisq | Chi Df | Pr(>Chisq) | \n",
       "|---|---|\n",
       "| m0 | 3            | -224.1107    | -215.5313    | 115.0554     | -230.1107    |       NA     | NA           |           NA | \n",
       "| m2 | 4            | -255.3723    | -243.9330    | 131.6861     | -263.3723    | 33.26156     |  1           | 8.055934e-09 | \n",
       "\n",
       "\n"
      ],
      "text/plain": [
       "   Df AIC       BIC       logLik   deviance  Chisq    Chi Df Pr(>Chisq)  \n",
       "m0 3  -224.1107 -215.5313 115.0554 -230.1107       NA NA               NA\n",
       "m2 4  -255.3723 -243.9330 131.6861 -263.3723 33.26156  1     8.055934e-09"
      ]
     },
     "metadata": {},
     "output_type": "display_data"
    },
    {
     "data": {
      "text/html": [
       "<table>\n",
       "<thead><tr><th></th><th scope=col>Df</th><th scope=col>AIC</th><th scope=col>BIC</th><th scope=col>logLik</th><th scope=col>deviance</th><th scope=col>Chisq</th><th scope=col>Chi Df</th><th scope=col>Pr(&gt;Chisq)</th></tr></thead>\n",
       "<tbody>\n",
       "\t<tr><th scope=row>m0</th><td>3           </td><td>-224.1107   </td><td>-215.5313   </td><td>115.0554    </td><td>-230.1107   </td><td>      NA    </td><td>NA          </td><td>          NA</td></tr>\n",
       "\t<tr><th scope=row>m3</th><td>4           </td><td>-251.7561   </td><td>-240.3168   </td><td>129.8780    </td><td>-259.7561   </td><td>29.64536    </td><td> 1          </td><td>5.187662e-08</td></tr>\n",
       "</tbody>\n",
       "</table>\n"
      ],
      "text/latex": [
       "\\begin{tabular}{r|llllllll}\n",
       "  & Df & AIC & BIC & logLik & deviance & Chisq & Chi Df & Pr(>Chisq)\\\\\n",
       "\\hline\n",
       "\tm0 & 3            & -224.1107    & -215.5313    & 115.0554     & -230.1107    &       NA     & NA           &           NA\\\\\n",
       "\tm3 & 4            & -251.7561    & -240.3168    & 129.8780     & -259.7561    & 29.64536     &  1           & 5.187662e-08\\\\\n",
       "\\end{tabular}\n"
      ],
      "text/markdown": [
       "\n",
       "| <!--/--> | Df | AIC | BIC | logLik | deviance | Chisq | Chi Df | Pr(>Chisq) | \n",
       "|---|---|\n",
       "| m0 | 3            | -224.1107    | -215.5313    | 115.0554     | -230.1107    |       NA     | NA           |           NA | \n",
       "| m3 | 4            | -251.7561    | -240.3168    | 129.8780     | -259.7561    | 29.64536     |  1           | 5.187662e-08 | \n",
       "\n",
       "\n"
      ],
      "text/plain": [
       "   Df AIC       BIC       logLik   deviance  Chisq    Chi Df Pr(>Chisq)  \n",
       "m0 3  -224.1107 -215.5313 115.0554 -230.1107       NA NA               NA\n",
       "m3 4  -251.7561 -240.3168 129.8780 -259.7561 29.64536  1     5.187662e-08"
      ]
     },
     "metadata": {},
     "output_type": "display_data"
    }
   ],
   "source": [
    "m0 <- lmer(rt_lag2_clr_pe ~ 1 + (1|sub), data=data, REML=FALSE)\n",
    "m1 <- lmer(rt_lag2_clr_pe ~ 1 + pe_clr2_roi0 + (1|sub), data=data, REML=FALSE)\n",
    "m2 <- lmer(rt_lag2_clr_pe ~ 1 + pe_clr2_roi1 + (1|sub), data=data, REML=FALSE)\n",
    "m3 <- lmer(rt_lag2_clr_pe ~ 1 + pe_clr2_roi2 + (1|sub), data=data, REML=FALSE)\n",
    "anova(m0, m1)\n",
    "anova(m0, m2)\n",
    "anova(m0, m3)"
   ]
  },
  {
   "cell_type": "code",
   "execution_count": 30,
   "metadata": {},
   "outputs": [
    {
     "data": {
      "text/plain": [
       "Linear mixed model fit by maximum likelihood  ['lmerMod']\n",
       "Formula: rt_lag2_clr_pe ~ 1 + pe_clr2_roi0 + (1 | sub)\n",
       "   Data: data\n",
       "      AIC       BIC    logLik  deviance  df.resid \n",
       "-232.8111 -221.3718  120.4055 -240.8111       125 \n",
       "Random effects:\n",
       " Groups   Name        Std.Dev.\n",
       " sub      (Intercept) 0.001965\n",
       " Residual             0.095128\n",
       "Number of obs: 129, groups:  sub, 6\n",
       "Fixed Effects:\n",
       " (Intercept)  pe_clr2_roi0  \n",
       "  -5.118e-02     3.177e-05  "
      ]
     },
     "metadata": {},
     "output_type": "display_data"
    }
   ],
   "source": [
    "m1"
   ]
  },
  {
   "cell_type": "code",
   "execution_count": 31,
   "metadata": {},
   "outputs": [
    {
     "data": {
      "text/plain": [
       "Linear mixed model fit by maximum likelihood  ['lmerMod']\n",
       "Formula: rt_lag2_clr_pe ~ 1 + pe_clr2_roi1 + (1 | sub)\n",
       "   Data: data\n",
       "      AIC       BIC    logLik  deviance  df.resid \n",
       "-255.3723 -243.9330  131.6861 -263.3723       125 \n",
       "Random effects:\n",
       " Groups   Name        Std.Dev.\n",
       " sub      (Intercept) 0.00000 \n",
       " Residual             0.08718 \n",
       "Number of obs: 129, groups:  sub, 6\n",
       "Fixed Effects:\n",
       " (Intercept)  pe_clr2_roi1  \n",
       "  -4.953e-02     5.547e-05  "
      ]
     },
     "metadata": {},
     "output_type": "display_data"
    }
   ],
   "source": [
    "m2"
   ]
  },
  {
   "cell_type": "code",
   "execution_count": 32,
   "metadata": {},
   "outputs": [
    {
     "data": {
      "text/plain": [
       "Linear mixed model fit by maximum likelihood  ['lmerMod']\n",
       "Formula: rt_lag2_clr_pe ~ 1 + pe_clr2_roi2 + (1 | sub)\n",
       "   Data: data\n",
       "      AIC       BIC    logLik  deviance  df.resid \n",
       "-251.7561 -240.3168  129.8780 -259.7561       125 \n",
       "Random effects:\n",
       " Groups   Name        Std.Dev.\n",
       " sub      (Intercept) 0.01089 \n",
       " Residual             0.08783 \n",
       "Number of obs: 129, groups:  sub, 6\n",
       "Fixed Effects:\n",
       " (Intercept)  pe_clr2_roi2  \n",
       "  -5.162e-02     8.123e-05  "
      ]
     },
     "metadata": {},
     "output_type": "display_data"
    }
   ],
   "source": [
    "m3"
   ]
  },
  {
   "cell_type": "markdown",
   "metadata": {},
   "source": [
    "### Location lag1"
   ]
  },
  {
   "cell_type": "code",
   "execution_count": 26,
   "metadata": {},
   "outputs": [
    {
     "data": {
      "text/html": [
       "<table>\n",
       "<thead><tr><th></th><th scope=col>Df</th><th scope=col>AIC</th><th scope=col>BIC</th><th scope=col>logLik</th><th scope=col>deviance</th><th scope=col>Chisq</th><th scope=col>Chi Df</th><th scope=col>Pr(&gt;Chisq)</th></tr></thead>\n",
       "<tbody>\n",
       "\t<tr><th scope=row>m0</th><td>3         </td><td>-408.8299 </td><td>-400.2505 </td><td>207.4149  </td><td>-414.8299 </td><td>     NA   </td><td>NA        </td><td>        NA</td></tr>\n",
       "\t<tr><th scope=row>m1</th><td>4         </td><td>-410.1276 </td><td>-398.6884 </td><td>209.0638  </td><td>-418.1276 </td><td>3.29773   </td><td> 1        </td><td>0.06937568</td></tr>\n",
       "</tbody>\n",
       "</table>\n"
      ],
      "text/latex": [
       "\\begin{tabular}{r|llllllll}\n",
       "  & Df & AIC & BIC & logLik & deviance & Chisq & Chi Df & Pr(>Chisq)\\\\\n",
       "\\hline\n",
       "\tm0 & 3          & -408.8299  & -400.2505  & 207.4149   & -414.8299  &      NA    & NA         &         NA\\\\\n",
       "\tm1 & 4          & -410.1276  & -398.6884  & 209.0638   & -418.1276  & 3.29773    &  1         & 0.06937568\\\\\n",
       "\\end{tabular}\n"
      ],
      "text/markdown": [
       "\n",
       "| <!--/--> | Df | AIC | BIC | logLik | deviance | Chisq | Chi Df | Pr(>Chisq) | \n",
       "|---|---|\n",
       "| m0 | 3          | -408.8299  | -400.2505  | 207.4149   | -414.8299  |      NA    | NA         |         NA | \n",
       "| m1 | 4          | -410.1276  | -398.6884  | 209.0638   | -418.1276  | 3.29773    |  1         | 0.06937568 | \n",
       "\n",
       "\n"
      ],
      "text/plain": [
       "   Df AIC       BIC       logLik   deviance  Chisq   Chi Df Pr(>Chisq)\n",
       "m0 3  -408.8299 -400.2505 207.4149 -414.8299      NA NA             NA\n",
       "m1 4  -410.1276 -398.6884 209.0638 -418.1276 3.29773  1     0.06937568"
      ]
     },
     "metadata": {},
     "output_type": "display_data"
    },
    {
     "data": {
      "text/html": [
       "<table>\n",
       "<thead><tr><th></th><th scope=col>Df</th><th scope=col>AIC</th><th scope=col>BIC</th><th scope=col>logLik</th><th scope=col>deviance</th><th scope=col>Chisq</th><th scope=col>Chi Df</th><th scope=col>Pr(&gt;Chisq)</th></tr></thead>\n",
       "<tbody>\n",
       "\t<tr><th scope=row>m0</th><td>3           </td><td>-408.8299   </td><td>-400.2505   </td><td>207.4149    </td><td>-414.8299   </td><td>      NA    </td><td>NA          </td><td>          NA</td></tr>\n",
       "\t<tr><th scope=row>m2</th><td>4           </td><td>-423.7993   </td><td>-412.3600   </td><td>215.8996    </td><td>-431.7993   </td><td>16.96937    </td><td> 1          </td><td>3.798784e-05</td></tr>\n",
       "</tbody>\n",
       "</table>\n"
      ],
      "text/latex": [
       "\\begin{tabular}{r|llllllll}\n",
       "  & Df & AIC & BIC & logLik & deviance & Chisq & Chi Df & Pr(>Chisq)\\\\\n",
       "\\hline\n",
       "\tm0 & 3            & -408.8299    & -400.2505    & 207.4149     & -414.8299    &       NA     & NA           &           NA\\\\\n",
       "\tm2 & 4            & -423.7993    & -412.3600    & 215.8996     & -431.7993    & 16.96937     &  1           & 3.798784e-05\\\\\n",
       "\\end{tabular}\n"
      ],
      "text/markdown": [
       "\n",
       "| <!--/--> | Df | AIC | BIC | logLik | deviance | Chisq | Chi Df | Pr(>Chisq) | \n",
       "|---|---|\n",
       "| m0 | 3            | -408.8299    | -400.2505    | 207.4149     | -414.8299    |       NA     | NA           |           NA | \n",
       "| m2 | 4            | -423.7993    | -412.3600    | 215.8996     | -431.7993    | 16.96937     |  1           | 3.798784e-05 | \n",
       "\n",
       "\n"
      ],
      "text/plain": [
       "   Df AIC       BIC       logLik   deviance  Chisq    Chi Df Pr(>Chisq)  \n",
       "m0 3  -408.8299 -400.2505 207.4149 -414.8299       NA NA               NA\n",
       "m2 4  -423.7993 -412.3600 215.8996 -431.7993 16.96937  1     3.798784e-05"
      ]
     },
     "metadata": {},
     "output_type": "display_data"
    }
   ],
   "source": [
    "m0 <- lmer(rt_lag1_loc_pe ~ 1 + (1|sub), data=data, REML=FALSE)\n",
    "m1 <- lmer(rt_lag1_loc_pe ~ 1 + pe_loc1_roi0 + (1|sub), data=data, REML=FALSE)\n",
    "m2 <- lmer(rt_lag1_loc_pe ~ 1 + pe_loc1_roi1 + (1|sub), data=data, REML=FALSE)\n",
    "\n",
    "anova(m0, m1)\n",
    "anova(m0, m2)"
   ]
  },
  {
   "cell_type": "code",
   "execution_count": 27,
   "metadata": {},
   "outputs": [
    {
     "data": {
      "text/plain": [
       "Linear mixed model fit by maximum likelihood  ['lmerMod']\n",
       "Formula: rt_lag1_loc_pe ~ 1 + pe_loc1_roi0 + (1 | sub)\n",
       "   Data: data\n",
       "      AIC       BIC    logLik  deviance  df.resid \n",
       "-410.1276 -398.6884  209.0638 -418.1276       125 \n",
       "Random effects:\n",
       " Groups   Name        Std.Dev.\n",
       " sub      (Intercept) 0.009045\n",
       " Residual             0.047221\n",
       "Number of obs: 129, groups:  sub, 6\n",
       "Fixed Effects:\n",
       " (Intercept)  pe_loc1_roi0  \n",
       "  -4.485e-02     3.184e-05  "
      ]
     },
     "metadata": {},
     "output_type": "display_data"
    }
   ],
   "source": [
    "m1"
   ]
  },
  {
   "cell_type": "code",
   "execution_count": 28,
   "metadata": {},
   "outputs": [
    {
     "data": {
      "text/plain": [
       "Linear mixed model fit by maximum likelihood  ['lmerMod']\n",
       "Formula: rt_lag1_loc_pe ~ 1 + pe_loc1_roi1 + (1 | sub)\n",
       "   Data: data\n",
       "      AIC       BIC    logLik  deviance  df.resid \n",
       "-423.7993 -412.3600  215.8996 -431.7993       125 \n",
       "Random effects:\n",
       " Groups   Name        Std.Dev.\n",
       " sub      (Intercept) 0.01117 \n",
       " Residual             0.04450 \n",
       "Number of obs: 129, groups:  sub, 6\n",
       "Fixed Effects:\n",
       " (Intercept)  pe_loc1_roi1  \n",
       "  -4.231e-02     6.553e-05  "
      ]
     },
     "metadata": {},
     "output_type": "display_data"
    }
   ],
   "source": [
    "m2"
   ]
  },
  {
   "cell_type": "markdown",
   "metadata": {},
   "source": [
    "### Location lag2"
   ]
  },
  {
   "cell_type": "code",
   "execution_count": 21,
   "metadata": {},
   "outputs": [
    {
     "data": {
      "text/html": [
       "<table>\n",
       "<thead><tr><th></th><th scope=col>Df</th><th scope=col>AIC</th><th scope=col>BIC</th><th scope=col>logLik</th><th scope=col>deviance</th><th scope=col>Chisq</th><th scope=col>Chi Df</th><th scope=col>Pr(&gt;Chisq)</th></tr></thead>\n",
       "<tbody>\n",
       "\t<tr><th scope=row>m0</th><td>3           </td><td>-237.1655   </td><td>-228.5861   </td><td>121.5828    </td><td>-243.1655   </td><td>      NA    </td><td>NA          </td><td>          NA</td></tr>\n",
       "\t<tr><th scope=row>m1</th><td>4           </td><td>-262.5252   </td><td>-251.0860   </td><td>135.2626    </td><td>-270.5252   </td><td>27.35971    </td><td> 1          </td><td>1.689139e-07</td></tr>\n",
       "</tbody>\n",
       "</table>\n"
      ],
      "text/latex": [
       "\\begin{tabular}{r|llllllll}\n",
       "  & Df & AIC & BIC & logLik & deviance & Chisq & Chi Df & Pr(>Chisq)\\\\\n",
       "\\hline\n",
       "\tm0 & 3            & -237.1655    & -228.5861    & 121.5828     & -243.1655    &       NA     & NA           &           NA\\\\\n",
       "\tm1 & 4            & -262.5252    & -251.0860    & 135.2626     & -270.5252    & 27.35971     &  1           & 1.689139e-07\\\\\n",
       "\\end{tabular}\n"
      ],
      "text/markdown": [
       "\n",
       "| <!--/--> | Df | AIC | BIC | logLik | deviance | Chisq | Chi Df | Pr(>Chisq) | \n",
       "|---|---|\n",
       "| m0 | 3            | -237.1655    | -228.5861    | 121.5828     | -243.1655    |       NA     | NA           |           NA | \n",
       "| m1 | 4            | -262.5252    | -251.0860    | 135.2626     | -270.5252    | 27.35971     |  1           | 1.689139e-07 | \n",
       "\n",
       "\n"
      ],
      "text/plain": [
       "   Df AIC       BIC       logLik   deviance  Chisq    Chi Df Pr(>Chisq)  \n",
       "m0 3  -237.1655 -228.5861 121.5828 -243.1655       NA NA               NA\n",
       "m1 4  -262.5252 -251.0860 135.2626 -270.5252 27.35971  1     1.689139e-07"
      ]
     },
     "metadata": {},
     "output_type": "display_data"
    },
    {
     "data": {
      "text/html": [
       "<table>\n",
       "<thead><tr><th></th><th scope=col>Df</th><th scope=col>AIC</th><th scope=col>BIC</th><th scope=col>logLik</th><th scope=col>deviance</th><th scope=col>Chisq</th><th scope=col>Chi Df</th><th scope=col>Pr(&gt;Chisq)</th></tr></thead>\n",
       "<tbody>\n",
       "\t<tr><th scope=row>m0</th><td>3           </td><td>-237.1655   </td><td>-228.5861   </td><td>121.5828    </td><td>-243.1655   </td><td>      NA    </td><td>NA          </td><td>          NA</td></tr>\n",
       "\t<tr><th scope=row>m2</th><td>4           </td><td>-249.9886   </td><td>-238.5493   </td><td>128.9943    </td><td>-257.9886   </td><td>14.82307    </td><td> 1          </td><td>0.0001180819</td></tr>\n",
       "</tbody>\n",
       "</table>\n"
      ],
      "text/latex": [
       "\\begin{tabular}{r|llllllll}\n",
       "  & Df & AIC & BIC & logLik & deviance & Chisq & Chi Df & Pr(>Chisq)\\\\\n",
       "\\hline\n",
       "\tm0 & 3            & -237.1655    & -228.5861    & 121.5828     & -243.1655    &       NA     & NA           &           NA\\\\\n",
       "\tm2 & 4            & -249.9886    & -238.5493    & 128.9943     & -257.9886    & 14.82307     &  1           & 0.0001180819\\\\\n",
       "\\end{tabular}\n"
      ],
      "text/markdown": [
       "\n",
       "| <!--/--> | Df | AIC | BIC | logLik | deviance | Chisq | Chi Df | Pr(>Chisq) | \n",
       "|---|---|\n",
       "| m0 | 3            | -237.1655    | -228.5861    | 121.5828     | -243.1655    |       NA     | NA           |           NA | \n",
       "| m2 | 4            | -249.9886    | -238.5493    | 128.9943     | -257.9886    | 14.82307     |  1           | 0.0001180819 | \n",
       "\n",
       "\n"
      ],
      "text/plain": [
       "   Df AIC       BIC       logLik   deviance  Chisq    Chi Df Pr(>Chisq)  \n",
       "m0 3  -237.1655 -228.5861 121.5828 -243.1655       NA NA               NA\n",
       "m2 4  -249.9886 -238.5493 128.9943 -257.9886 14.82307  1     0.0001180819"
      ]
     },
     "metadata": {},
     "output_type": "display_data"
    },
    {
     "data": {
      "text/html": [
       "<table>\n",
       "<thead><tr><th></th><th scope=col>Df</th><th scope=col>AIC</th><th scope=col>BIC</th><th scope=col>logLik</th><th scope=col>deviance</th><th scope=col>Chisq</th><th scope=col>Chi Df</th><th scope=col>Pr(&gt;Chisq)</th></tr></thead>\n",
       "<tbody>\n",
       "\t<tr><th scope=row>m0</th><td>3           </td><td>-237.1655   </td><td>-228.5861   </td><td>121.5828    </td><td>-243.1655   </td><td>      NA    </td><td>NA          </td><td>          NA</td></tr>\n",
       "\t<tr><th scope=row>m3</th><td>4           </td><td>-255.1650   </td><td>-243.7257   </td><td>131.5825    </td><td>-263.1650   </td><td>19.99946    </td><td> 1          </td><td>7.746414e-06</td></tr>\n",
       "</tbody>\n",
       "</table>\n"
      ],
      "text/latex": [
       "\\begin{tabular}{r|llllllll}\n",
       "  & Df & AIC & BIC & logLik & deviance & Chisq & Chi Df & Pr(>Chisq)\\\\\n",
       "\\hline\n",
       "\tm0 & 3            & -237.1655    & -228.5861    & 121.5828     & -243.1655    &       NA     & NA           &           NA\\\\\n",
       "\tm3 & 4            & -255.1650    & -243.7257    & 131.5825     & -263.1650    & 19.99946     &  1           & 7.746414e-06\\\\\n",
       "\\end{tabular}\n"
      ],
      "text/markdown": [
       "\n",
       "| <!--/--> | Df | AIC | BIC | logLik | deviance | Chisq | Chi Df | Pr(>Chisq) | \n",
       "|---|---|\n",
       "| m0 | 3            | -237.1655    | -228.5861    | 121.5828     | -243.1655    |       NA     | NA           |           NA | \n",
       "| m3 | 4            | -255.1650    | -243.7257    | 131.5825     | -263.1650    | 19.99946     |  1           | 7.746414e-06 | \n",
       "\n",
       "\n"
      ],
      "text/plain": [
       "   Df AIC       BIC       logLik   deviance  Chisq    Chi Df Pr(>Chisq)  \n",
       "m0 3  -237.1655 -228.5861 121.5828 -243.1655       NA NA               NA\n",
       "m3 4  -255.1650 -243.7257 131.5825 -263.1650 19.99946  1     7.746414e-06"
      ]
     },
     "metadata": {},
     "output_type": "display_data"
    },
    {
     "data": {
      "text/html": [
       "<table>\n",
       "<thead><tr><th></th><th scope=col>Df</th><th scope=col>AIC</th><th scope=col>BIC</th><th scope=col>logLik</th><th scope=col>deviance</th><th scope=col>Chisq</th><th scope=col>Chi Df</th><th scope=col>Pr(&gt;Chisq)</th></tr></thead>\n",
       "<tbody>\n",
       "\t<tr><th scope=row>m0</th><td>3         </td><td>-237.1655 </td><td>-228.5861 </td><td>121.5828  </td><td>-243.1655 </td><td>      NA  </td><td>NA        </td><td>        NA</td></tr>\n",
       "\t<tr><th scope=row>m4</th><td>4         </td><td>-244.9436 </td><td>-233.5043 </td><td>126.4718  </td><td>-252.9436 </td><td>9.778086  </td><td> 1        </td><td>0.00176604</td></tr>\n",
       "</tbody>\n",
       "</table>\n"
      ],
      "text/latex": [
       "\\begin{tabular}{r|llllllll}\n",
       "  & Df & AIC & BIC & logLik & deviance & Chisq & Chi Df & Pr(>Chisq)\\\\\n",
       "\\hline\n",
       "\tm0 & 3          & -237.1655  & -228.5861  & 121.5828   & -243.1655  &       NA   & NA         &         NA\\\\\n",
       "\tm4 & 4          & -244.9436  & -233.5043  & 126.4718   & -252.9436  & 9.778086   &  1         & 0.00176604\\\\\n",
       "\\end{tabular}\n"
      ],
      "text/markdown": [
       "\n",
       "| <!--/--> | Df | AIC | BIC | logLik | deviance | Chisq | Chi Df | Pr(>Chisq) | \n",
       "|---|---|\n",
       "| m0 | 3          | -237.1655  | -228.5861  | 121.5828   | -243.1655  |       NA   | NA         |         NA | \n",
       "| m4 | 4          | -244.9436  | -233.5043  | 126.4718   | -252.9436  | 9.778086   |  1         | 0.00176604 | \n",
       "\n",
       "\n"
      ],
      "text/plain": [
       "   Df AIC       BIC       logLik   deviance  Chisq    Chi Df Pr(>Chisq)\n",
       "m0 3  -237.1655 -228.5861 121.5828 -243.1655       NA NA             NA\n",
       "m4 4  -244.9436 -233.5043 126.4718 -252.9436 9.778086  1     0.00176604"
      ]
     },
     "metadata": {},
     "output_type": "display_data"
    },
    {
     "data": {
      "text/html": [
       "<table>\n",
       "<thead><tr><th></th><th scope=col>Df</th><th scope=col>AIC</th><th scope=col>BIC</th><th scope=col>logLik</th><th scope=col>deviance</th><th scope=col>Chisq</th><th scope=col>Chi Df</th><th scope=col>Pr(&gt;Chisq)</th></tr></thead>\n",
       "<tbody>\n",
       "\t<tr><th scope=row>m0</th><td>3          </td><td>-237.1655  </td><td>-228.5861  </td><td>121.5828   </td><td>-243.1655  </td><td>      NA   </td><td>NA         </td><td>         NA</td></tr>\n",
       "\t<tr><th scope=row>m5</th><td>4          </td><td>-243.7142  </td><td>-232.2750  </td><td>125.8571   </td><td>-251.7142  </td><td>8.548699   </td><td> 1         </td><td>0.003457693</td></tr>\n",
       "</tbody>\n",
       "</table>\n"
      ],
      "text/latex": [
       "\\begin{tabular}{r|llllllll}\n",
       "  & Df & AIC & BIC & logLik & deviance & Chisq & Chi Df & Pr(>Chisq)\\\\\n",
       "\\hline\n",
       "\tm0 & 3           & -237.1655   & -228.5861   & 121.5828    & -243.1655   &       NA    & NA          &          NA\\\\\n",
       "\tm5 & 4           & -243.7142   & -232.2750   & 125.8571    & -251.7142   & 8.548699    &  1          & 0.003457693\\\\\n",
       "\\end{tabular}\n"
      ],
      "text/markdown": [
       "\n",
       "| <!--/--> | Df | AIC | BIC | logLik | deviance | Chisq | Chi Df | Pr(>Chisq) | \n",
       "|---|---|\n",
       "| m0 | 3           | -237.1655   | -228.5861   | 121.5828    | -243.1655   |       NA    | NA          |          NA | \n",
       "| m5 | 4           | -243.7142   | -232.2750   | 125.8571    | -251.7142   | 8.548699    |  1          | 0.003457693 | \n",
       "\n",
       "\n"
      ],
      "text/plain": [
       "   Df AIC       BIC       logLik   deviance  Chisq    Chi Df Pr(>Chisq) \n",
       "m0 3  -237.1655 -228.5861 121.5828 -243.1655       NA NA              NA\n",
       "m5 4  -243.7142 -232.2750 125.8571 -251.7142 8.548699  1     0.003457693"
      ]
     },
     "metadata": {},
     "output_type": "display_data"
    }
   ],
   "source": [
    "m0 <- lmer(rt_lag2_loc_pe ~ 1 + (1|sub), data=data, REML=FALSE)\n",
    "m1 <- lmer(rt_lag2_loc_pe ~ 1 + pe_loc2_roi0 + (1|sub), data=data, REML=FALSE)\n",
    "m2 <- lmer(rt_lag2_loc_pe ~ 1 + pe_loc2_roi1 + (1|sub), data=data, REML=FALSE)\n",
    "m3 <- lmer(rt_lag2_loc_pe ~ 1 + pe_loc2_roi2 + (1|sub), data=data, REML=FALSE)\n",
    "m4 <- lmer(rt_lag2_loc_pe ~ 1 + pe_loc2_roi3 + (1|sub), data=data, REML=FALSE)\n",
    "m5 <- lmer(rt_lag2_loc_pe ~ 1 + pe_loc2_roi4 + (1|sub), data=data, REML=FALSE)\n",
    "\n",
    "anova(m0, m1)\n",
    "anova(m0, m2)\n",
    "anova(m0, m3)\n",
    "anova(m0, m4)\n",
    "anova(m0, m5)"
   ]
  },
  {
   "cell_type": "code",
   "execution_count": 22,
   "metadata": {},
   "outputs": [
    {
     "data": {
      "text/plain": [
       "Linear mixed model fit by maximum likelihood  ['lmerMod']\n",
       "Formula: rt_lag2_loc_pe ~ 1 + pe_loc2_roi0 + (1 | sub)\n",
       "   Data: data\n",
       "      AIC       BIC    logLik  deviance  df.resid \n",
       "-262.5252 -251.0860  135.2626 -270.5252       125 \n",
       "Random effects:\n",
       " Groups   Name        Std.Dev.\n",
       " sub      (Intercept) 0.0000  \n",
       " Residual             0.0848  \n",
       "Number of obs: 129, groups:  sub, 6\n",
       "Fixed Effects:\n",
       " (Intercept)  pe_loc2_roi0  \n",
       "  -0.0455183     0.0000784  "
      ]
     },
     "metadata": {},
     "output_type": "display_data"
    }
   ],
   "source": [
    "m1"
   ]
  },
  {
   "cell_type": "code",
   "execution_count": 23,
   "metadata": {},
   "outputs": [
    {
     "data": {
      "text/plain": [
       "Linear mixed model fit by maximum likelihood  ['lmerMod']\n",
       "Formula: rt_lag2_loc_pe ~ 1 + pe_loc2_roi1 + (1 | sub)\n",
       "   Data: data\n",
       "      AIC       BIC    logLik  deviance  df.resid \n",
       "-249.9886 -238.5493  128.9943 -257.9886       125 \n",
       "Random effects:\n",
       " Groups   Name        Std.Dev.\n",
       " sub      (Intercept) 0.00000 \n",
       " Residual             0.08902 \n",
       "Number of obs: 129, groups:  sub, 6\n",
       "Fixed Effects:\n",
       " (Intercept)  pe_loc2_roi1  \n",
       "  -4.571e-02     6.543e-05  "
      ]
     },
     "metadata": {},
     "output_type": "display_data"
    }
   ],
   "source": [
    "m2"
   ]
  },
  {
   "cell_type": "code",
   "execution_count": 24,
   "metadata": {},
   "outputs": [
    {
     "data": {
      "text/plain": [
       "Linear mixed model fit by maximum likelihood  ['lmerMod']\n",
       "Formula: rt_lag2_loc_pe ~ 1 + pe_loc2_roi2 + (1 | sub)\n",
       "   Data: data\n",
       "      AIC       BIC    logLik  deviance  df.resid \n",
       "-255.1650 -243.7257  131.5825 -263.1650       125 \n",
       "Random effects:\n",
       " Groups   Name        Std.Dev.\n",
       " sub      (Intercept) 0.00000 \n",
       " Residual             0.08725 \n",
       "Number of obs: 129, groups:  sub, 6\n",
       "Fixed Effects:\n",
       " (Intercept)  pe_loc2_roi2  \n",
       "  -4.748e-02     7.187e-05  "
      ]
     },
     "metadata": {},
     "output_type": "display_data"
    }
   ],
   "source": [
    "m3"
   ]
  },
  {
   "cell_type": "code",
   "execution_count": 88,
   "metadata": {},
   "outputs": [
    {
     "data": {
      "text/plain": [
       "Linear mixed model fit by maximum likelihood  ['lmerMod']\n",
       "Formula: rt_lag2_loc_pe ~ 1 + pe_loc2_roi3 + (1 | sub)\n",
       "   Data: data\n",
       "      AIC       BIC    logLik  deviance  df.resid \n",
       "-243.3941 -231.9549  125.6971 -251.3941       125 \n",
       "Random effects:\n",
       " Groups   Name        Std.Dev.\n",
       " sub      (Intercept) 0.00000 \n",
       " Residual             0.09132 \n",
       "Number of obs: 129, groups:  sub, 6\n",
       "Fixed Effects:\n",
       " (Intercept)  pe_loc2_roi3  \n",
       "  -4.516e-02     3.989e-05  "
      ]
     },
     "metadata": {},
     "output_type": "display_data"
    }
   ],
   "source": [
    "m4"
   ]
  },
  {
   "cell_type": "code",
   "execution_count": 25,
   "metadata": {},
   "outputs": [
    {
     "data": {
      "text/plain": [
       "Linear mixed model fit by maximum likelihood  ['lmerMod']\n",
       "Formula: rt_lag2_loc_pe ~ 1 + pe_loc2_roi4 + (1 | sub)\n",
       "   Data: data\n",
       "      AIC       BIC    logLik  deviance  df.resid \n",
       "-243.7142 -232.2750  125.8571 -251.7142       125 \n",
       "Random effects:\n",
       " Groups   Name        Std.Dev.\n",
       " sub      (Intercept) 0.00000 \n",
       " Residual             0.09121 \n",
       "Number of obs: 129, groups:  sub, 6\n",
       "Fixed Effects:\n",
       " (Intercept)  pe_loc2_roi4  \n",
       "  -0.0452556     0.0000427  "
      ]
     },
     "metadata": {},
     "output_type": "display_data"
    }
   ],
   "source": [
    "m5"
   ]
  },
  {
   "cell_type": "code",
   "execution_count": null,
   "metadata": {},
   "outputs": [],
   "source": []
  }
 ],
 "metadata": {
  "kernelspec": {
   "display_name": "R",
   "language": "R",
   "name": "ir"
  },
  "language_info": {
   "codemirror_mode": "r",
   "file_extension": ".r",
   "mimetype": "text/x-r-source",
   "name": "R",
   "pygments_lexer": "r",
   "version": "3.4.3"
  }
 },
 "nbformat": 4,
 "nbformat_minor": 2
}
