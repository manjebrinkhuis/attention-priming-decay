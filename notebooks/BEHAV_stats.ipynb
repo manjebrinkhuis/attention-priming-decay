{
 "cells": [
  {
   "cell_type": "code",
   "execution_count": 1,
   "metadata": {},
   "outputs": [],
   "source": [
    "data <- read.csv(\"../data/regs_and_rts.csv\")"
   ]
  },
  {
   "cell_type": "code",
   "execution_count": 2,
   "metadata": {},
   "outputs": [
    {
     "name": "stderr",
     "output_type": "stream",
     "text": [
      "Updating HTML index of packages in '.Library'\n",
      "Making 'packages.html' ... done\n"
     ]
    }
   ],
   "source": [
    "install.packages(\"lme4\")"
   ]
  },
  {
   "cell_type": "code",
   "execution_count": 3,
   "metadata": {},
   "outputs": [
    {
     "name": "stderr",
     "output_type": "stream",
     "text": [
      "Loading required package: Matrix\n"
     ]
    }
   ],
   "source": [
    "library(\"lme4\")"
   ]
  },
  {
   "cell_type": "code",
   "execution_count": 46,
   "metadata": {},
   "outputs": [
    {
     "data": {
      "text/html": [
       "<table>\n",
       "<thead><tr><th></th><th scope=col>Df</th><th scope=col>AIC</th><th scope=col>BIC</th><th scope=col>logLik</th><th scope=col>deviance</th><th scope=col>Chisq</th><th scope=col>Chi Df</th><th scope=col>Pr(&gt;Chisq)</th></tr></thead>\n",
       "<tbody>\n",
       "\t<tr><th scope=row>m0</th><td>3           </td><td>-4019.448   </td><td>-3997.166   </td><td>2012.724    </td><td>-4025.448   </td><td>       NA   </td><td>NA          </td><td>          NA</td></tr>\n",
       "\t<tr><th scope=row>m1a</th><td>4           </td><td>-4250.294   </td><td>-4220.585   </td><td>2129.147    </td><td>-4258.294   </td><td>232.84652   </td><td> 1          </td><td>1.427515e-52</td></tr>\n",
       "\t<tr><th scope=row>m2a</th><td>5           </td><td>-4308.204   </td><td>-4271.067   </td><td>2159.102    </td><td>-4318.204   </td><td> 59.90942   </td><td> 1          </td><td>9.932505e-15</td></tr>\n",
       "</tbody>\n",
       "</table>\n"
      ],
      "text/latex": [
       "\\begin{tabular}{r|llllllll}\n",
       "  & Df & AIC & BIC & logLik & deviance & Chisq & Chi Df & Pr(>Chisq)\\\\\n",
       "\\hline\n",
       "\tm0 & 3            & -4019.448    & -3997.166    & 2012.724     & -4025.448    &        NA    & NA           &           NA\\\\\n",
       "\tm1a & 4            & -4250.294    & -4220.585    & 2129.147     & -4258.294    & 232.84652    &  1           & 1.427515e-52\\\\\n",
       "\tm2a & 5            & -4308.204    & -4271.067    & 2159.102     & -4318.204    &  59.90942    &  1           & 9.932505e-15\\\\\n",
       "\\end{tabular}\n"
      ],
      "text/markdown": [
       "\n",
       "| <!--/--> | Df | AIC | BIC | logLik | deviance | Chisq | Chi Df | Pr(>Chisq) | \n",
       "|---|---|---|\n",
       "| m0 | 3            | -4019.448    | -3997.166    | 2012.724     | -4025.448    |        NA    | NA           |           NA | \n",
       "| m1a | 4            | -4250.294    | -4220.585    | 2129.147     | -4258.294    | 232.84652    |  1           | 1.427515e-52 | \n",
       "| m2a | 5            | -4308.204    | -4271.067    | 2159.102     | -4318.204    |  59.90942    |  1           | 9.932505e-15 | \n",
       "\n",
       "\n"
      ],
      "text/plain": [
       "    Df AIC       BIC       logLik   deviance  Chisq     Chi Df Pr(>Chisq)  \n",
       "m0  3  -4019.448 -3997.166 2012.724 -4025.448        NA NA               NA\n",
       "m1a 4  -4250.294 -4220.585 2129.147 -4258.294 232.84652  1     1.427515e-52\n",
       "m2a 5  -4308.204 -4271.067 2159.102 -4318.204  59.90942  1     9.932505e-15"
      ]
     },
     "metadata": {},
     "output_type": "display_data"
    },
    {
     "data": {
      "text/html": [
       "<table>\n",
       "<thead><tr><th></th><th scope=col>Df</th><th scope=col>AIC</th><th scope=col>BIC</th><th scope=col>logLik</th><th scope=col>deviance</th><th scope=col>Chisq</th><th scope=col>Chi Df</th><th scope=col>Pr(&gt;Chisq)</th></tr></thead>\n",
       "<tbody>\n",
       "\t<tr><th scope=row>m0</th><td>3           </td><td>-4019.448   </td><td>-3997.166   </td><td>2012.724    </td><td>-4025.448   </td><td>       NA   </td><td>NA          </td><td>          NA</td></tr>\n",
       "\t<tr><th scope=row>m1b</th><td>4           </td><td>-4121.661   </td><td>-4091.951   </td><td>2064.830    </td><td>-4129.661   </td><td>104.21272   </td><td> 1          </td><td>1.817201e-24</td></tr>\n",
       "\t<tr><th scope=row>m2b</th><td>5           </td><td>-4195.429   </td><td>-4158.292   </td><td>2102.714    </td><td>-4205.429   </td><td> 75.76785   </td><td> 1          </td><td>3.190542e-18</td></tr>\n",
       "</tbody>\n",
       "</table>\n"
      ],
      "text/latex": [
       "\\begin{tabular}{r|llllllll}\n",
       "  & Df & AIC & BIC & logLik & deviance & Chisq & Chi Df & Pr(>Chisq)\\\\\n",
       "\\hline\n",
       "\tm0 & 3            & -4019.448    & -3997.166    & 2012.724     & -4025.448    &        NA    & NA           &           NA\\\\\n",
       "\tm1b & 4            & -4121.661    & -4091.951    & 2064.830     & -4129.661    & 104.21272    &  1           & 1.817201e-24\\\\\n",
       "\tm2b & 5            & -4195.429    & -4158.292    & 2102.714     & -4205.429    &  75.76785    &  1           & 3.190542e-18\\\\\n",
       "\\end{tabular}\n"
      ],
      "text/markdown": [
       "\n",
       "| <!--/--> | Df | AIC | BIC | logLik | deviance | Chisq | Chi Df | Pr(>Chisq) | \n",
       "|---|---|---|\n",
       "| m0 | 3            | -4019.448    | -3997.166    | 2012.724     | -4025.448    |        NA    | NA           |           NA | \n",
       "| m1b | 4            | -4121.661    | -4091.951    | 2064.830     | -4129.661    | 104.21272    |  1           | 1.817201e-24 | \n",
       "| m2b | 5            | -4195.429    | -4158.292    | 2102.714     | -4205.429    |  75.76785    |  1           | 3.190542e-18 | \n",
       "\n",
       "\n"
      ],
      "text/plain": [
       "    Df AIC       BIC       logLik   deviance  Chisq     Chi Df Pr(>Chisq)  \n",
       "m0  3  -4019.448 -3997.166 2012.724 -4025.448        NA NA               NA\n",
       "m1b 4  -4121.661 -4091.951 2064.830 -4129.661 104.21272  1     1.817201e-24\n",
       "m2b 5  -4195.429 -4158.292 2102.714 -4205.429  75.76785  1     3.190542e-18"
      ]
     },
     "metadata": {},
     "output_type": "display_data"
    },
    {
     "data": {
      "text/html": [
       "<table>\n",
       "<thead><tr><th></th><th scope=col>Df</th><th scope=col>AIC</th><th scope=col>BIC</th><th scope=col>logLik</th><th scope=col>deviance</th><th scope=col>Chisq</th><th scope=col>Chi Df</th><th scope=col>Pr(&gt;Chisq)</th></tr></thead>\n",
       "<tbody>\n",
       "\t<tr><th scope=row>m0</th><td>3           </td><td>-4019.448   </td><td>-3997.166   </td><td>2012.724    </td><td>-4025.448   </td><td>      NA    </td><td>NA          </td><td>          NA</td></tr>\n",
       "\t<tr><th scope=row>m1c</th><td>5           </td><td>-4358.369   </td><td>-4321.232   </td><td>2184.184    </td><td>-4368.369   </td><td>342.9208    </td><td> 2          </td><td>3.433171e-75</td></tr>\n",
       "\t<tr><th scope=row>m2c</th><td>7           </td><td>-4498.304   </td><td>-4446.313   </td><td>2256.152    </td><td>-4512.304   </td><td>143.9349    </td><td> 2          </td><td>5.558114e-32</td></tr>\n",
       "</tbody>\n",
       "</table>\n"
      ],
      "text/latex": [
       "\\begin{tabular}{r|llllllll}\n",
       "  & Df & AIC & BIC & logLik & deviance & Chisq & Chi Df & Pr(>Chisq)\\\\\n",
       "\\hline\n",
       "\tm0 & 3            & -4019.448    & -3997.166    & 2012.724     & -4025.448    &       NA     & NA           &           NA\\\\\n",
       "\tm1c & 5            & -4358.369    & -4321.232    & 2184.184     & -4368.369    & 342.9208     &  2           & 3.433171e-75\\\\\n",
       "\tm2c & 7            & -4498.304    & -4446.313    & 2256.152     & -4512.304    & 143.9349     &  2           & 5.558114e-32\\\\\n",
       "\\end{tabular}\n"
      ],
      "text/markdown": [
       "\n",
       "| <!--/--> | Df | AIC | BIC | logLik | deviance | Chisq | Chi Df | Pr(>Chisq) | \n",
       "|---|---|---|\n",
       "| m0 | 3            | -4019.448    | -3997.166    | 2012.724     | -4025.448    |       NA     | NA           |           NA | \n",
       "| m1c | 5            | -4358.369    | -4321.232    | 2184.184     | -4368.369    | 342.9208     |  2           | 3.433171e-75 | \n",
       "| m2c | 7            | -4498.304    | -4446.313    | 2256.152     | -4512.304    | 143.9349     |  2           | 5.558114e-32 | \n",
       "\n",
       "\n"
      ],
      "text/plain": [
       "    Df AIC       BIC       logLik   deviance  Chisq    Chi Df Pr(>Chisq)  \n",
       "m0  3  -4019.448 -3997.166 2012.724 -4025.448       NA NA               NA\n",
       "m1c 5  -4358.369 -4321.232 2184.184 -4368.369 342.9208  2     3.433171e-75\n",
       "m2c 7  -4498.304 -4446.313 2256.152 -4512.304 143.9349  2     5.558114e-32"
      ]
     },
     "metadata": {},
     "output_type": "display_data"
    }
   ],
   "source": [
    "m0 <- lmer(norm_rt ~ 1 + (1|sub), data=data, REML=FALSE, control = lmerControl(optimizer =\"Nelder_Mead\"))\n",
    "m1a <- lmer(norm_rt ~ lag1_clr + (1|sub), data=data, REML=FALSE, control = lmerControl(optimizer =\"Nelder_Mead\"))\n",
    "m2a <- lmer(norm_rt ~ lag1_clr + lag2_clr + (1|sub), data=data, REML=FALSE, control = lmerControl(optimizer =\"Nelder_Mead\"))\n",
    "\n",
    "m1b <- lmer(norm_rt ~ lag1_loc + (1|sub), data=data, REML=FALSE, control = lmerControl(optimizer =\"Nelder_Mead\"))\n",
    "m2b <- lmer(norm_rt ~ lag1_loc + lag2_loc + (1|sub), data=data, REML=FALSE, control = lmerControl(optimizer =\"Nelder_Mead\"))\n",
    "\n",
    "m1a <- lmer(norm_rt ~ lag1_clr + (1|sub), data=data, REML=FALSE, control = lmerControl(optimizer =\"Nelder_Mead\"))\n",
    "m2a <- lmer(norm_rt ~ lag1_clr + lag2_clr + (1|sub), data=data, REML=FALSE, control = lmerControl(optimizer =\"Nelder_Mead\"))\n",
    "\n",
    "m1c <- lmer(norm_rt ~ lag1_loc + lag1_clr + (1|sub), data=data, REML=FALSE, control = lmerControl(optimizer =\"Nelder_Mead\"))\n",
    "m2c <- lmer(norm_rt ~ lag1_loc + lag2_loc + lag1_clr + lag2_clr + (1|sub), data=data, REML=FALSE, control = lmerControl(optimizer =\"Nelder_Mead\"))\n",
    "\n",
    "anova(m0, m1a, m2a)\n",
    "anova(m0, m1b, m2b)\n",
    "anova(m0, m1c, m2c)"
   ]
  },
  {
   "cell_type": "code",
   "execution_count": 56,
   "metadata": {},
   "outputs": [],
   "source": [
    "shuffled_rt <- data$norm_rt[sample(nrow(data))]\n",
    "data$shuffled_rt <- shuffled_rt"
   ]
  },
  {
   "cell_type": "code",
   "execution_count": 57,
   "metadata": {},
   "outputs": [
    {
     "data": {
      "text/html": [
       "<table>\n",
       "<thead><tr><th></th><th scope=col>Df</th><th scope=col>AIC</th><th scope=col>BIC</th><th scope=col>logLik</th><th scope=col>deviance</th><th scope=col>Chisq</th><th scope=col>Chi Df</th><th scope=col>Pr(&gt;Chisq)</th></tr></thead>\n",
       "<tbody>\n",
       "\t<tr><th scope=row>m0</th><td>3        </td><td>-4019.448</td><td>-3997.166</td><td>2012.724 </td><td>-4025.448</td><td>       NA</td><td>NA       </td><td>       NA</td></tr>\n",
       "\t<tr><th scope=row>m1a</th><td>4        </td><td>-4017.530</td><td>-3987.821</td><td>2012.765 </td><td>-4025.530</td><td>0.0819820</td><td> 1       </td><td>0.7746292</td></tr>\n",
       "\t<tr><th scope=row>m2a</th><td>5        </td><td>-4016.252</td><td>-3979.116</td><td>2013.126 </td><td>-4026.252</td><td>0.7224893</td><td> 1       </td><td>0.3953286</td></tr>\n",
       "</tbody>\n",
       "</table>\n"
      ],
      "text/latex": [
       "\\begin{tabular}{r|llllllll}\n",
       "  & Df & AIC & BIC & logLik & deviance & Chisq & Chi Df & Pr(>Chisq)\\\\\n",
       "\\hline\n",
       "\tm0 & 3         & -4019.448 & -3997.166 & 2012.724  & -4025.448 &        NA & NA        &        NA\\\\\n",
       "\tm1a & 4         & -4017.530 & -3987.821 & 2012.765  & -4025.530 & 0.0819820 &  1        & 0.7746292\\\\\n",
       "\tm2a & 5         & -4016.252 & -3979.116 & 2013.126  & -4026.252 & 0.7224893 &  1        & 0.3953286\\\\\n",
       "\\end{tabular}\n"
      ],
      "text/markdown": [
       "\n",
       "| <!--/--> | Df | AIC | BIC | logLik | deviance | Chisq | Chi Df | Pr(>Chisq) | \n",
       "|---|---|---|\n",
       "| m0 | 3         | -4019.448 | -3997.166 | 2012.724  | -4025.448 |        NA | NA        |        NA | \n",
       "| m1a | 4         | -4017.530 | -3987.821 | 2012.765  | -4025.530 | 0.0819820 |  1        | 0.7746292 | \n",
       "| m2a | 5         | -4016.252 | -3979.116 | 2013.126  | -4026.252 | 0.7224893 |  1        | 0.3953286 | \n",
       "\n",
       "\n"
      ],
      "text/plain": [
       "    Df AIC       BIC       logLik   deviance  Chisq     Chi Df Pr(>Chisq)\n",
       "m0  3  -4019.448 -3997.166 2012.724 -4025.448        NA NA            NA \n",
       "m1a 4  -4017.530 -3987.821 2012.765 -4025.530 0.0819820  1     0.7746292 \n",
       "m2a 5  -4016.252 -3979.116 2013.126 -4026.252 0.7224893  1     0.3953286 "
      ]
     },
     "metadata": {},
     "output_type": "display_data"
    },
    {
     "data": {
      "text/html": [
       "<table>\n",
       "<thead><tr><th></th><th scope=col>Df</th><th scope=col>AIC</th><th scope=col>BIC</th><th scope=col>logLik</th><th scope=col>deviance</th><th scope=col>Chisq</th><th scope=col>Chi Df</th><th scope=col>Pr(&gt;Chisq)</th></tr></thead>\n",
       "<tbody>\n",
       "\t<tr><th scope=row>m0</th><td>3        </td><td>-4019.448</td><td>-3997.166</td><td>2012.724 </td><td>-4025.448</td><td>       NA</td><td>NA       </td><td>       NA</td></tr>\n",
       "\t<tr><th scope=row>m1b</th><td>4        </td><td>-4017.563</td><td>-3987.854</td><td>2012.781 </td><td>-4025.563</td><td>0.1150291</td><td> 1       </td><td>0.7344897</td></tr>\n",
       "\t<tr><th scope=row>m2b</th><td>5        </td><td>-4016.591</td><td>-3979.455</td><td>2013.296 </td><td>-4026.591</td><td>1.0282049</td><td> 1       </td><td>0.3105807</td></tr>\n",
       "</tbody>\n",
       "</table>\n"
      ],
      "text/latex": [
       "\\begin{tabular}{r|llllllll}\n",
       "  & Df & AIC & BIC & logLik & deviance & Chisq & Chi Df & Pr(>Chisq)\\\\\n",
       "\\hline\n",
       "\tm0 & 3         & -4019.448 & -3997.166 & 2012.724  & -4025.448 &        NA & NA        &        NA\\\\\n",
       "\tm1b & 4         & -4017.563 & -3987.854 & 2012.781  & -4025.563 & 0.1150291 &  1        & 0.7344897\\\\\n",
       "\tm2b & 5         & -4016.591 & -3979.455 & 2013.296  & -4026.591 & 1.0282049 &  1        & 0.3105807\\\\\n",
       "\\end{tabular}\n"
      ],
      "text/markdown": [
       "\n",
       "| <!--/--> | Df | AIC | BIC | logLik | deviance | Chisq | Chi Df | Pr(>Chisq) | \n",
       "|---|---|---|\n",
       "| m0 | 3         | -4019.448 | -3997.166 | 2012.724  | -4025.448 |        NA | NA        |        NA | \n",
       "| m1b | 4         | -4017.563 | -3987.854 | 2012.781  | -4025.563 | 0.1150291 |  1        | 0.7344897 | \n",
       "| m2b | 5         | -4016.591 | -3979.455 | 2013.296  | -4026.591 | 1.0282049 |  1        | 0.3105807 | \n",
       "\n",
       "\n"
      ],
      "text/plain": [
       "    Df AIC       BIC       logLik   deviance  Chisq     Chi Df Pr(>Chisq)\n",
       "m0  3  -4019.448 -3997.166 2012.724 -4025.448        NA NA            NA \n",
       "m1b 4  -4017.563 -3987.854 2012.781 -4025.563 0.1150291  1     0.7344897 \n",
       "m2b 5  -4016.591 -3979.455 2013.296 -4026.591 1.0282049  1     0.3105807 "
      ]
     },
     "metadata": {},
     "output_type": "display_data"
    },
    {
     "data": {
      "text/html": [
       "<table>\n",
       "<thead><tr><th></th><th scope=col>Df</th><th scope=col>AIC</th><th scope=col>BIC</th><th scope=col>logLik</th><th scope=col>deviance</th><th scope=col>Chisq</th><th scope=col>Chi Df</th><th scope=col>Pr(&gt;Chisq)</th></tr></thead>\n",
       "<tbody>\n",
       "\t<tr><th scope=row>m0</th><td>3        </td><td>-4019.448</td><td>-3997.166</td><td>2012.724 </td><td>-4025.448</td><td>       NA</td><td>NA       </td><td>       NA</td></tr>\n",
       "\t<tr><th scope=row>m1c</th><td>5        </td><td>-4015.643</td><td>-3978.506</td><td>2012.821 </td><td>-4025.643</td><td>0.1947007</td><td> 2       </td><td>0.9072381</td></tr>\n",
       "\t<tr><th scope=row>m2c</th><td>7        </td><td>-4013.018</td><td>-3961.027</td><td>2013.509 </td><td>-4027.018</td><td>1.3750985</td><td> 2       </td><td>0.5028068</td></tr>\n",
       "</tbody>\n",
       "</table>\n"
      ],
      "text/latex": [
       "\\begin{tabular}{r|llllllll}\n",
       "  & Df & AIC & BIC & logLik & deviance & Chisq & Chi Df & Pr(>Chisq)\\\\\n",
       "\\hline\n",
       "\tm0 & 3         & -4019.448 & -3997.166 & 2012.724  & -4025.448 &        NA & NA        &        NA\\\\\n",
       "\tm1c & 5         & -4015.643 & -3978.506 & 2012.821  & -4025.643 & 0.1947007 &  2        & 0.9072381\\\\\n",
       "\tm2c & 7         & -4013.018 & -3961.027 & 2013.509  & -4027.018 & 1.3750985 &  2        & 0.5028068\\\\\n",
       "\\end{tabular}\n"
      ],
      "text/markdown": [
       "\n",
       "| <!--/--> | Df | AIC | BIC | logLik | deviance | Chisq | Chi Df | Pr(>Chisq) | \n",
       "|---|---|---|\n",
       "| m0 | 3         | -4019.448 | -3997.166 | 2012.724  | -4025.448 |        NA | NA        |        NA | \n",
       "| m1c | 5         | -4015.643 | -3978.506 | 2012.821  | -4025.643 | 0.1947007 |  2        | 0.9072381 | \n",
       "| m2c | 7         | -4013.018 | -3961.027 | 2013.509  | -4027.018 | 1.3750985 |  2        | 0.5028068 | \n",
       "\n",
       "\n"
      ],
      "text/plain": [
       "    Df AIC       BIC       logLik   deviance  Chisq     Chi Df Pr(>Chisq)\n",
       "m0  3  -4019.448 -3997.166 2012.724 -4025.448        NA NA            NA \n",
       "m1c 5  -4015.643 -3978.506 2012.821 -4025.643 0.1947007  2     0.9072381 \n",
       "m2c 7  -4013.018 -3961.027 2013.509 -4027.018 1.3750985  2     0.5028068 "
      ]
     },
     "metadata": {},
     "output_type": "display_data"
    }
   ],
   "source": [
    "m0 <- lmer(shuffled_rt ~ 1 + (1|sub), data=data, REML=FALSE, control = lmerControl(optimizer =\"Nelder_Mead\"))\n",
    "m1a <- lmer(shuffled_rt ~ lag1_clr + (1|sub), data=data, REML=FALSE, control = lmerControl(optimizer =\"Nelder_Mead\"))\n",
    "m2a <- lmer(shuffled_rt ~ lag1_clr + lag2_clr + (1|sub), data=data, REML=FALSE, control = lmerControl(optimizer =\"Nelder_Mead\"))\n",
    "\n",
    "m1b <- lmer(shuffled_rt ~ lag1_loc + (1|sub), data=data, REML=FALSE, control = lmerControl(optimizer =\"Nelder_Mead\"))\n",
    "m2b <- lmer(shuffled_rt ~ lag1_loc + lag2_loc + (1|sub), data=data, REML=FALSE, control = lmerControl(optimizer =\"Nelder_Mead\"))\n",
    "\n",
    "m1a <- lmer(shuffled_rt ~ lag1_clr + (1|sub), data=data, REML=FALSE, control = lmerControl(optimizer =\"Nelder_Mead\"))\n",
    "m2a <- lmer(shuffled_rt ~ lag1_clr + lag2_clr + (1|sub), data=data, REML=FALSE, control = lmerControl(optimizer =\"Nelder_Mead\"))\n",
    "\n",
    "m1c <- lmer(shuffled_rt ~ lag1_loc + lag1_clr + (1|sub), data=data, REML=FALSE, control = lmerControl(optimizer =\"Nelder_Mead\"))\n",
    "m2c <- lmer(shuffled_rt ~ lag1_loc + lag2_loc + lag1_clr + lag2_clr + (1|sub), data=data, REML=FALSE, control = lmerControl(optimizer =\"Nelder_Mead\"))\n",
    "\n",
    "anova(m0, m1a, m2a)\n",
    "anova(m0, m1b, m2b)\n",
    "anova(m0, m1c, m2c)"
   ]
  }
 ],
 "metadata": {
  "kernelspec": {
   "display_name": "R",
   "language": "R",
   "name": "ir"
  },
  "language_info": {
   "codemirror_mode": "r",
   "file_extension": ".r",
   "mimetype": "text/x-r-source",
   "name": "R",
   "pygments_lexer": "r",
   "version": "3.4.3"
  }
 },
 "nbformat": 4,
 "nbformat_minor": 2
}
