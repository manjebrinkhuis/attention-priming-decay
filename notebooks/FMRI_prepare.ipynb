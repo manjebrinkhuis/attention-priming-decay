{
 "cells": [
  {
   "cell_type": "markdown",
   "metadata": {},
   "source": [
    "# Prepare data"
   ]
  },
  {
   "cell_type": "markdown",
   "metadata": {},
   "source": [
    "## imports"
   ]
  },
  {
   "cell_type": "code",
   "execution_count": 2,
   "metadata": {},
   "outputs": [],
   "source": [
    "import numpy as np\n",
    "import pandas as pd\n",
    "import nibabel as nib\n",
    "import os\n",
    "import subprocess\n",
    "from config import root, conda_path\n",
    "from tools.helpers import (\n",
    "    leading_zeros, select_files, parrec2nii, convert_to_nifti)"
   ]
  },
  {
   "cell_type": "markdown",
   "metadata": {},
   "source": [
    "## parrec to nifti"
   ]
  },
  {
   "cell_type": "code",
   "execution_count": 22,
   "metadata": {},
   "outputs": [],
   "source": [
    "parrec2nii_cmd = os.path.join(conda_path, \"bin\", \"parrec2nii\")"
   ]
  },
  {
   "cell_type": "code",
   "execution_count": 23,
   "metadata": {
    "collapsed": true,
    "jupyter": {
     "outputs_hidden": true
    }
   },
   "outputs": [],
   "source": [
    "raw_path = os.path.join(root, \"data\", \"parrec\")\n",
    "nii_path = os.path.join(root, \"data\", \"nii\")\n",
    "if not os.path.exists(nii_path):\n",
    "    os.mkdir(nii_path)"
   ]
  },
  {
   "cell_type": "code",
   "execution_count": null,
   "metadata": {},
   "outputs": [],
   "source": [
    "# parent folders\n",
    "sessions = os.listdir(raw_path)\n",
    "dir_names = ['functional', 'localizer', 'anatomy', 'B0',]\n",
    "kwargs = [{'include':['EPI'], 'exclude':['Loc']},\n",
    "          {'include':['Loc'], 'exclude':[]},\n",
    "          {'include':['T1'], 'exclude':[]},\n",
    "          {'include':['B0'], 'exclude':[]}]\n",
    "          \n",
    "for ses in sessions:\n",
    "    path = os.path.join(raw_path, ses)\n",
    "    files_by_dir = [select_files(path, **kw) for kw in kwargs]       \n",
    "    for i, files in enumerate(files_by_dir):\n",
    "        outdir = os.path.join(nii_path, ses, dir_names[i])    \n",
    "        parrec2nii([os.path.join(path, f) for f in files],\n",
    "                   outdir=outdir,\n",
    "                   compressed=True)"
   ]
  },
  {
   "cell_type": "markdown",
   "metadata": {},
   "source": [
    "# Data architecture\n",
    "Copy all data we are using in the analysis into the approriate folder structure. So, there's a lot of redundancy, but no need to take care of disk space yet."
   ]
  },
  {
   "cell_type": "code",
   "execution_count": 24,
   "metadata": {},
   "outputs": [],
   "source": [
    "fmri_data = os.path.join(root, \"data\", \"nii\")\n",
    "fs_dir = os.path.join(root, \"data\", \"fs_subjects\")\n",
    "output_dir = os.path.join(root, \"data\", \"output\")\n",
    "working_dir = os.path.join(root, \"data\", \"working_dir\")\n",
    "mni_standard_path = os.path.join(root, \"data\", \"nii/misc/MNI152_T1_1mm_brain.nii.gz\")\n",
    "subject_info = os.path.join(root, \"data\", \"subject_info.csv\")\n",
    "\n",
    "# Create directories\n",
    "if not os.path.exists(working_dir):\n",
    "    os.mkdir(working_dir)\n",
    "if not os.path.exists(fmri_data):\n",
    "    os.mkdir(fmri_data)\n",
    "if not os.path.exists(output_dir):\n",
    "    os.mkdir(output_dir)"
   ]
  },
  {
   "cell_type": "code",
   "execution_count": 25,
   "metadata": {},
   "outputs": [],
   "source": [
    "# Extract the subject information from a file.\n",
    "sub_info = (\n",
    "    pd.read_csv(\n",
    "        subject_info, \n",
    "        names=[\"sub\", \"ses\", \"data\", \"date\", \"runs\", \"name\", \"T1\", \"include\"], \n",
    "        header=1\n",
    "    )\n",
    "    .sort_values(by=[\"sub\", \"ses\"])\n",
    "    .drop(\"runs\", axis=1)\n",
    ")\n",
    "\n",
    "sub_info = sub_info[sub_info.include.astype(bool)]\n",
    "sub_info = sub_info.assign(real_ses=None)\n",
    "\n",
    "for sub, group in sub_info.groupby(\"sub\"):\n",
    "    real_ses = range(len(group))\n",
    "    sub_info.loc[sub_info[\"sub\"] == sub, \"real_ses\"] = real_ses\n",
    "\n",
    "sub_info = sub_info.set_index([\"sub\", \"real_ses\"]).sort_index()"
   ]
  },
  {
   "cell_type": "code",
   "execution_count": 26,
   "metadata": {},
   "outputs": [],
   "source": [
    "# Copy all the data to its new structure.\n",
    "nii = os.path.join(root, \"data\", \"in_analysis\")\n",
    "if not os.path.exists(nii):\n",
    "    os.mkdir(nii)"
   ]
  },
  {
   "cell_type": "code",
   "execution_count": null,
   "metadata": {},
   "outputs": [],
   "source": [
    "for (sub, real_ses), group in sub_info.groupby(sub_info.index):\n",
    "    ses_path = os.path.join(root, \"data\", \"nii\", sub_info.loc[(sub, real_ses), \"data\"])\n",
    "    out_dir = os.path.join(nii, \"sub_%03d\" % sub, \"ses_%03d\" % real_ses)\n",
    "    \n",
    "    if not os.path.exists(out_dir):\n",
    "        os.makedirs(out_dir)\n",
    "    \n",
    "    print(\"=== %03d, %03d ===\" % (sub, real_ses))\n",
    "    \n",
    "    sub_dirs = os.listdir(ses_path)\n",
    "    for sub_dir in sub_dirs:\n",
    "        data_path = os.path.join(ses_path, sub_dir)\n",
    "        files = os.listdir(data_path)\n",
    "        if not os.path.exists(os.path.join(out_dir, sub_dir)):\n",
    "            os.mkdir(os.path.join(out_dir, sub_dir))\n",
    "\n",
    "        # Anatomy\n",
    "        if sub_dir == \"anatomy\":\n",
    "            src_fname = [f for f in files if \"T1_wholebrain_2.2_iso\" in f][0]\n",
    "            src = os.path.join(data_path, src_fname)\n",
    "            dst = os.path.join(out_dir, sub_dir, \"inplane.nii.gz\")\n",
    "            print(src, \"->\", dst)\n",
    "            if not os.path.exists(dst):\n",
    "                copyfile(src, dst)\n",
    "        \n",
    "        # Functional\n",
    "        if (sub_dir == \"functional\") or (sub_dir == \"localizer\"):\n",
    "            for i, f in enumerate(sorted(files)):\n",
    "                src = os.path.join(data_path, f)\n",
    "                dst = os.path.join(out_dir, sub_dir, \"run_%03d.nii.gz\" % i)\n",
    "                if not os.path.exists(dst):\n",
    "                    copyfile(src, dst)\n",
    "                print(src, \"->\", dst)"
   ]
  }
 ],
 "metadata": {
  "kernelspec": {
   "display_name": "neuro",
   "language": "python",
   "name": "neuro"
  },
  "language_info": {
   "codemirror_mode": {
    "name": "ipython",
    "version": 3
   },
   "file_extension": ".py",
   "mimetype": "text/x-python",
   "name": "python",
   "nbconvert_exporter": "python",
   "pygments_lexer": "ipython3",
   "version": "3.7.3"
  }
 },
 "nbformat": 4,
 "nbformat_minor": 4
}
