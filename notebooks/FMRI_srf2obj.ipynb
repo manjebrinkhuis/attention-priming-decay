{
 "cells": [
  {
   "cell_type": "code",
   "execution_count": 1,
   "metadata": {},
   "outputs": [],
   "source": [
    "from config import root\n",
    "import os\n",
    "import subprocess as sp\n",
    "import pandas as pd"
   ]
  },
  {
   "cell_type": "code",
   "execution_count": 2,
   "metadata": {},
   "outputs": [],
   "source": [
    "source = os.path.join(root, \"data\", \"in_analysis\", \"fs_subjects\", \"sub_001\", \"surf\")\n",
    "outdir = os.path.join(root, \"data\", \"misc\")\n",
    "if not os.path.exists(outdir):\n",
    "    os.mkdir(outdir)"
   ]
  },
  {
   "cell_type": "code",
   "execution_count": 3,
   "metadata": {},
   "outputs": [],
   "source": [
    "def asc2obj(path, suffix=\"\"):\n",
    "    # Header\n",
    "    with open(path, \"r\") as f:\n",
    "        comment = f.readline()\n",
    "        nV, nF = f.readline().split(\" \")\n",
    "    \n",
    "    # Data \n",
    "    data = pd.read_csv(path, delim_whitespace=True, skiprows=2, header=None)\n",
    "    data = data.drop(3, axis=1)\n",
    "    verts = data.loc[0:int(nV)-1, :]\n",
    "    verts = verts.assign(c=\"v\")\n",
    "    faces = data.loc[int(nV):int(nV)+int(nF), :].astype(int) + 1\n",
    "    faces = faces.assign(c=\"f\")\n",
    "    dir_, fname = os.path.split(path)\n",
    "    name, ext = os.path.splitext(fname)\n",
    "    out_path = os.path.join(dir_, name+suffix+\".obj\")\n",
    "    \n",
    "    # Create file\n",
    "    open(out_path, \"w\").close()\n",
    "    \n",
    "    # Append to file\n",
    "    with open(out_path, \"a\") as f:\n",
    "        verts[[\"c\", 0, 1, 2]].round(6).to_csv(f, sep=\" \", index=False, header=False)\n",
    "        faces[[\"c\", 0, 1, 2]].to_csv(f, sep=\" \", index=False, header=False)\n",
    "    \n",
    "    return out_path\n",
    "\n",
    "def srf2obj(surf, hemi, source=\"./\", outdir=\"./\", suffix=\"\"):\n",
    "    \n",
    "    cmd = \"\"\"\n",
    "    mris_convert {input} {output1} \\\n",
    "        && mv {output1} {output2}\n",
    "    \"\"\"\n",
    "    \n",
    "    fname = \"%s.%s\" % (hemi, surf)\n",
    "    input_ = os.path.join(source, fname)\n",
    "    output1 = os.path.join(outdir, \"%s.%s.asc\" % (hemi, surf))\n",
    "    output2 = os.path.join(outdir, \"%s.%s.srf\" % (hemi, surf))\n",
    "    output3 = os.path.join(outdir, \"%s.%s.obj\" % (hemi, surf))\n",
    "    \n",
    "    fcmd = cmd.format(**{\n",
    "        \"input\": input_,\n",
    "        \"output1\": output1,\n",
    "        \"output2\": output2,    \n",
    "    })\n",
    "               \n",
    "    sp.call(fcmd, shell=True)\n",
    "    asc2obj(output2, suffix=suffix)\n",
    "\n",
    "    return output3"
   ]
  },
  {
   "cell_type": "code",
   "execution_count": 4,
   "metadata": {},
   "outputs": [
    {
     "data": {
      "text/plain": [
       "'/data/ext/PhD/Studies/PrimingDecay/data/misc/lh.pial.obj'"
      ]
     },
     "execution_count": 4,
     "metadata": {},
     "output_type": "execute_result"
    }
   ],
   "source": [
    "srf2obj(\"pial\", \"lh\", source=source, outdir=outdir, suffix=\"\")"
   ]
  },
  {
   "cell_type": "code",
   "execution_count": 5,
   "metadata": {},
   "outputs": [
    {
     "data": {
      "text/plain": [
       "'/data/ext/PhD/Studies/PrimingDecay/data/misc/rh.pial.obj'"
      ]
     },
     "execution_count": 5,
     "metadata": {},
     "output_type": "execute_result"
    }
   ],
   "source": [
    "srf2obj(\"pial\", \"rh\", source=source, outdir=outdir, suffix=\"\")"
   ]
  }
 ],
 "metadata": {
  "kernelspec": {
   "display_name": "neuro",
   "language": "python",
   "name": "neuro"
  },
  "language_info": {
   "codemirror_mode": {
    "name": "ipython",
    "version": 3
   },
   "file_extension": ".py",
   "mimetype": "text/x-python",
   "name": "python",
   "nbconvert_exporter": "python",
   "pygments_lexer": "ipython3",
   "version": "3.6.5"
  }
 },
 "nbformat": 4,
 "nbformat_minor": 2
}
