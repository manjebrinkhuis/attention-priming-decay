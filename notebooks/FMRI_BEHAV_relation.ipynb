{
 "cells": [
  {
   "cell_type": "code",
   "execution_count": 1,
   "metadata": {},
   "outputs": [],
   "source": [
    "import pandas as pd\n",
    "from scipy import stats\n",
    "# import custom libraries\n",
    "from tools.glm import (add_regressors, array2dummies,\n",
    "                       n_back_array, n_back_series,\n",
    "                       glm, contrast)\n",
    "\n",
    "df = pd.read_csv(\"../data/regs_and_rts.csv\")"
   ]
  },
  {
   "cell_type": "code",
   "execution_count": 2,
   "metadata": {},
   "outputs": [],
   "source": [
    "pes = pd.DataFrame()\n",
    "\n",
    "for (sub, ses, scn), group in df.groupby([\"sub\", \"real_ses\", \"scn\"], as_index=False):\n",
    "    X = group[[\"loc1\", \"loc2\", \"loc3\", \"loc4\", \"lag1_loc\", \"lag2_loc\", \"lag1_clr\", \"lag2_clr\"]].astype(float)\n",
    "    Y = group.norm_rt\n",
    "    b = glm(Y, X.T)\n",
    "    \n",
    "    b[:4] * group[[\"loc1\", \"loc2\", \"loc3\", \"loc4\"]]\n",
    "    \n",
    "    baseline = (b[:4] * group[[\"loc1\", \"loc2\", \"loc3\", \"loc4\"]]).sum(axis=1)\n",
    "    res = Y - baseline\n",
    "    \n",
    "    regs = X.columns.tolist()[4:]\n",
    "    \n",
    "    rs = []\n",
    "    for i, reg in enumerate(regs):\n",
    "        other = regs.copy()\n",
    "        other.remove(reg)\n",
    "        \n",
    "        # Make use of b[i] corresponding to regs[i]\n",
    "        b_res = list(b[4:])\n",
    "        b_reg = b_res.pop(i)\n",
    "        \n",
    "        yhat_res = (b_res * group[other]).sum(axis=1)\n",
    "        yhat_reg = (b_reg * group[reg])\n",
    "\n",
    "        r, p = stats.pearsonr(res - yhat_res, yhat_reg)\n",
    "        rs.append(r**2)\n",
    "    \n",
    "    result = pd.DataFrame([b], columns=[\"loc1\", \"loc2\", \"loc3\", \"loc4\", \"lag1_loc\", \"lag2_loc\", \"lag1_clr\", \"lag2_clr\"])\n",
    "    result = result.join(pd.DataFrame([rs], columns=[reg+\"_r\" for reg in regs]))\n",
    "    result = result.assign(**{\n",
    "        \"sub\": sub,\n",
    "        \"ses\": ses,\n",
    "        \"scn\": scn,        \n",
    "    })\n",
    "    \n",
    "    pes = pes.append(result)"
   ]
  },
  {
   "cell_type": "code",
   "execution_count": 9,
   "metadata": {},
   "outputs": [],
   "source": [
    "import numpy as np\n",
    "import scipy.signal as signal\n",
    "import matplotlib.pyplot as plt"
   ]
  },
  {
   "cell_type": "code",
   "execution_count": 62,
   "metadata": {},
   "outputs": [
    {
     "name": "stderr",
     "output_type": "stream",
     "text": [
      "/home/manje/miniconda3/envs/multi/lib/python3.6/site-packages/ipykernel_launcher.py:8: RuntimeWarning: divide by zero encountered in true_divide\n",
      "  \n"
     ]
    },
    {
     "data": {
      "text/plain": [
       "[<matplotlib.lines.Line2D at 0x7fcc8a6e50f0>]"
      ]
     },
     "execution_count": 62,
     "metadata": {},
     "output_type": "execute_result"
    },
    {
     "data": {
      "image/png": "[encoded data removed]",
      "text/plain": [
       "<Figure size 432x288 with 3 Axes>"
      ]
     },
     "metadata": {},
     "output_type": "display_data"
    }
   ],
   "source": [
    "a = np.random.randint(0, 2, 10)\n",
    "b = 1 - a\n",
    "\n",
    "fig, (ax1, ax2, ax3) = plt.subplots(nrows=3)\n",
    "ax1.plot(a, \"ko-\")\n",
    "ax2.plot(signal.correlate(a, a, mode=\"full\"), \"ko-\")\n",
    "ax2.plot(signal.correlate(b, b, mode=\"full\"), \"ro-\")\n",
    "ax3.plot(signal.correlate(a, a, mode=\"same\") / signal.correlate(b, b, mode=\"same\"), \"ro-\")"
   ]
  },
  {
   "cell_type": "code",
   "execution_count": 63,
   "metadata": {},
   "outputs": [],
   "source": [
    "from scipy import stats"
   ]
  },
  {
   "cell_type": "code",
   "execution_count": 128,
   "metadata": {},
   "outputs": [],
   "source": [
    "r, p = stats.pearsonr(a, np.roll(a, 6))"
   ]
  },
  {
   "cell_type": "code",
   "execution_count": 129,
   "metadata": {},
   "outputs": [
    {
     "data": {
      "text/plain": [
       "0.04761904761904761"
      ]
     },
     "execution_count": 129,
     "metadata": {},
     "output_type": "execute_result"
    }
   ],
   "source": [
    "r"
   ]
  },
  {
   "cell_type": "code",
   "execution_count": 108,
   "metadata": {},
   "outputs": [
    {
     "data": {
      "text/plain": [
       "array([1, 1, 1, 0, 1, 1, 0, 1, 1, 0])"
      ]
     },
     "execution_count": 108,
     "metadata": {},
     "output_type": "execute_result"
    }
   ],
   "source": [
    "a"
   ]
  },
  {
   "cell_type": "code",
   "execution_count": 110,
   "metadata": {},
   "outputs": [
    {
     "data": {
      "text/plain": [
       "0.7745966692414834"
      ]
     },
     "execution_count": 110,
     "metadata": {},
     "output_type": "execute_result"
    }
   ],
   "source": [
    "(np.sum((a - np.roll(a, 1))**2) / len(a))**.5"
   ]
  },
  {
   "cell_type": "code",
   "execution_count": 85,
   "metadata": {},
   "outputs": [
    {
     "data": {
      "text/plain": [
       "array([ 1,  0,  0, -1,  1,  0, -1,  1,  0, -1])"
      ]
     },
     "execution_count": 85,
     "metadata": {},
     "output_type": "execute_result"
    }
   ],
   "source": [
    "a - np.roll(a, 1)"
   ]
  },
  {
   "cell_type": "code",
   "execution_count": 111,
   "metadata": {},
   "outputs": [
    {
     "data": {
      "text/plain": [
       "array([ 1,  0,  0, -1,  1,  0, -1,  1,  0, -1])"
      ]
     },
     "execution_count": 111,
     "metadata": {},
     "output_type": "execute_result"
    }
   ],
   "source": [
    "(a - np.roll(a, 1))"
   ]
  },
  {
   "cell_type": "code",
   "execution_count": 132,
   "metadata": {},
   "outputs": [
    {
     "data": {
      "text/plain": [
       "array([1, 1, 1, 0, 1, 1, 0, 1, 1, 0])"
      ]
     },
     "execution_count": 132,
     "metadata": {},
     "output_type": "execute_result"
    }
   ],
   "source": [
    "a"
   ]
  },
  {
   "cell_type": "code",
   "execution_count": 131,
   "metadata": {},
   "outputs": [
    {
     "data": {
      "text/plain": [
       "array([0, 1, 1, 0, 0, 1, 0, 0, 1, 0])"
      ]
     },
     "execution_count": 131,
     "metadata": {},
     "output_type": "execute_result"
    }
   ],
   "source": [
    "np.roll(a, 1) * a"
   ]
  },
  {
   "cell_type": "code",
   "execution_count": 130,
   "metadata": {},
   "outputs": [
    {
     "data": {
      "text/plain": [
       "0.5"
      ]
     },
     "execution_count": 130,
     "metadata": {},
     "output_type": "execute_result"
    }
   ],
   "source": [
    "(a * np.roll(a, 6)).mean()"
   ]
  },
  {
   "cell_type": "code",
   "execution_count": 135,
   "metadata": {},
   "outputs": [
    {
     "data": {
      "text/plain": [
       "(-0.4285714285714286, 0.21654728411266919)"
      ]
     },
     "execution_count": 135,
     "metadata": {},
     "output_type": "execute_result"
    }
   ],
   "source": [
    "stats.pearsonr(a, np.roll(a, -1))"
   ]
  },
  {
   "cell_type": "code",
   "execution_count": 144,
   "metadata": {},
   "outputs": [
    {
     "data": {
      "text/plain": [
       "0.0"
      ]
     },
     "execution_count": 144,
     "metadata": {},
     "output_type": "execute_result"
    }
   ],
   "source": [
    "(1/(len(a)-1)) * (a - np.roll(a, 2)).sum()"
   ]
  },
  {
   "cell_type": "code",
   "execution_count": 145,
   "metadata": {},
   "outputs": [
    {
     "data": {
      "text/plain": [
       "array([ 0,  1,  0, -1,  0,  1, -1,  0,  1, -1])"
      ]
     },
     "execution_count": 145,
     "metadata": {},
     "output_type": "execute_result"
    }
   ],
   "source": [
    "a - np.roll(a, 2)"
   ]
  },
  {
   "cell_type": "code",
   "execution_count": 146,
   "metadata": {},
   "outputs": [
    {
     "data": {
      "text/plain": [
       "0"
      ]
     },
     "execution_count": 146,
     "metadata": {},
     "output_type": "execute_result"
    }
   ],
   "source": [
    "(a - np.roll(a, 2)).sum()"
   ]
  },
  {
   "cell_type": "code",
   "execution_count": 158,
   "metadata": {},
   "outputs": [
    {
     "data": {
      "text/plain": [
       "array([0, 0, 2, 0, 0, 2, 0])"
      ]
     },
     "execution_count": 158,
     "metadata": {},
     "output_type": "execute_result"
    }
   ],
   "source": [
    "np.correlate(np.array([1,0,0,1,0,0,1]), np.array([0,1,0,0,1,0,0]), mode=\"same\")"
   ]
  },
  {
   "cell_type": "code",
   "execution_count": null,
   "metadata": {},
   "outputs": [],
   "source": []
  }
 ],
 "metadata": {
  "kernelspec": {
   "display_name": "R",
   "language": "R",
   "name": "ir"
  },
  "language_info": {
   "codemirror_mode": "r",
   "file_extension": ".r",
   "mimetype": "text/x-r-source",
   "name": "R",
   "pygments_lexer": "r",
   "version": "3.4.3"
  }
 },
 "nbformat": 4,
 "nbformat_minor": 2
}
