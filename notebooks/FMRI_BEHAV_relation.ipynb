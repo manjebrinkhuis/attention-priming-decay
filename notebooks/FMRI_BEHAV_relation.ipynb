{
 "cells": [
  {
   "cell_type": "code",
   "execution_count": 1,
   "metadata": {},
   "outputs": [],
   "source": [
    "import pandas as pd\n",
    "from scipy import stats\n",
    "# import custom libraries\n",
    "from tools.glm import (add_regressors, array2dummies,\n",
    "                       n_back_array, n_back_series,\n",
    "                       glm, contrast)\n",
    "\n",
    "df = pd.read_csv(\"../data/regs_and_rts.csv\")"
   ]
  },
  {
   "cell_type": "code",
   "execution_count": 2,
   "metadata": {},
   "outputs": [],
   "source": [
    "pes = pd.DataFrame()\n",
    "\n",
    "for (sub, ses, scn), group in df.groupby([\"sub\", \"real_ses\", \"scn\"], as_index=False):\n",
    "    X = group[[\"loc1\", \"loc2\", \"loc3\", \"loc4\", \"lag1_loc\", \"lag2_loc\", \"lag1_clr\", \"lag2_clr\"]].astype(float)\n",
    "    Y = group.norm_rt\n",
    "    b = glm(Y, X.T)\n",
    "    \n",
    "    b[:4] * group[[\"loc1\", \"loc2\", \"loc3\", \"loc4\"]]\n",
    "    \n",
    "    baseline = (b[:4] * group[[\"loc1\", \"loc2\", \"loc3\", \"loc4\"]]).sum(axis=1)\n",
    "    res = Y - baseline\n",
    "    \n",
    "    regs = X.columns.tolist()[4:]\n",
    "    \n",
    "    rs = []\n",
    "    for i, reg in enumerate(regs):\n",
    "        other = regs.copy()\n",
    "        other.remove(reg)\n",
    "        \n",
    "        # Make use of b[i] corresponding to regs[i]\n",
    "        b_res = list(b[4:])\n",
    "        b_reg = b_res.pop(i)\n",
    "        \n",
    "        yhat_res = (b_res * group[other]).sum(axis=1)\n",
    "        yhat_reg = (b_reg * group[reg])\n",
    "\n",
    "        r, p = stats.pearsonr(res - yhat_res, yhat_reg)\n",
    "        rs.append(r**2)\n",
    "    \n",
    "    result = pd.DataFrame([b], columns=[\"loc1\", \"loc2\", \"loc3\", \"loc4\", \"lag1_loc\", \"lag2_loc\", \"lag1_clr\", \"lag2_clr\"])\n",
    "    result = result.join(pd.DataFrame([rs], columns=[reg+\"_r\" for reg in regs]))\n",
    "    result = result.assign(**{\n",
    "        \"sub\": sub,\n",
    "        \"ses\": ses,\n",
    "        \"scn\": scn,        \n",
    "    })\n",
    "    \n",
    "    pes = pes.append(result)"
   ]
  },
  {
   "cell_type": "code",
   "execution_count": null,
   "metadata": {},
   "outputs": [],
   "source": []
  }
 ],
 "metadata": {
  "kernelspec": {
   "display_name": "neuro",
   "language": "python",
   "name": "neuro"
  },
  "language_info": {
   "codemirror_mode": {
    "name": "ipython",
    "version": 3
   },
   "file_extension": ".py",
   "mimetype": "text/x-python",
   "name": "python",
   "nbconvert_exporter": "python",
   "pygments_lexer": "ipython3",
   "version": "3.6.5"
  }
 },
 "nbformat": 4,
 "nbformat_minor": 2
}
